{
  "nbformat": 4,
  "nbformat_minor": 0,
  "metadata": {
    "colab": {
      "provenance": []
    },
    "kernelspec": {
      "name": "python3",
      "display_name": "Python 3"
    },
    "language_info": {
      "name": "python"
    }
  },
  "cells": [
    {
      "cell_type": "markdown",
      "source": [
        "## Functions"
      ],
      "metadata": {
        "id": "DP5n2SB2FLRv"
      }
    },
    {
      "cell_type": "code",
      "source": [
        "# Converts a number in base10 to base2.\n",
        "\n",
        "def to_binary(num_10):\n",
        "  N = num_10\n",
        "  output = ''\n",
        "\n",
        "  while N > 1:\n",
        "    if N % 2 == 1:\n",
        "      output += '1'\n",
        "      N = (N-1) // 2\n",
        "      continue\n",
        "\n",
        "    N = N // 2\n",
        "    output += '0'\n",
        "  output += '1'\n",
        "\n",
        "  return output[::-1]\n",
        "\n",
        "# Euclid's algorithm.\n",
        "def gcd(a, b):\n",
        "  if a < b:\n",
        "    a, b = b, a\n",
        "  # Get the remainder when a is divided by b: a = b*k + r, where 0 <= r < b.\n",
        "  r = a % b\n",
        "  # If r = 0 then b | a and we are done.\n",
        "  if r == 0:\n",
        "    return b\n",
        "  # If b does not divide a then the gcd(a, b) will be the largest integer dividing b and r.\n",
        "  return gcd(b, r)\n",
        "\n",
        "# (!) DO NOT USE. The Bezout coefficients are wrong.\n",
        "# Need to figure out why this is wrong.\n",
        "def wrong_ext_gcd(a, b):\n",
        "  if a < b:\n",
        "    a, b = b, a\n",
        "\n",
        "  # Initialize.\n",
        "  s_prev, t_prev = 1, 0\n",
        "  s, t = 0, 1\n",
        "  q = a // b\n",
        "  r_prev, r = b, a % b\n",
        "\n",
        "  while True:\n",
        "    # We will need to update both s, t and s_next, t_next\n",
        "    s_tmp, t_tmp = s, t\n",
        "    # Update step is s_n = s_{n-2} - q_n*s_{n-1} and similarly for t_n.\n",
        "    s, t = s_prev - q*s, t_prev - q*t\n",
        "    # Update s, t\n",
        "    s_prev, t_prev = s_tmp, t_tmp\n",
        "    print(s_prev, t_prev)\n",
        "    if r == 0:\n",
        "      return r_prev, s, t\n",
        "    # Else update r's and q.\n",
        "    # r != 0\n",
        "    q = r_prev // r\n",
        "    r_prev, r = r, r_prev % r\n",
        "\n",
        "# Correct implementation. This works for the same reason that the gcd algorithm works:\n",
        "# because gcd(a, b) = gcd(b, a mod b). Assuming that gcd(b, a mod b) = bx + (a mod b)y,\n",
        "# substitute a mod b = a - a // b to get that gcd(a, b) = ay + b(x - (a // b)*y).\n",
        "def ext_gcd(a, b):\n",
        "  if b == 0:\n",
        "    return (a, 1, 0)\n",
        "  gcd, x1, y1 = ext_gcd(b, a % b)\n",
        "  x = y1\n",
        "  y = x1 - (a // b) * y1\n",
        "  return (gcd, x, y)\n",
        "\n",
        "def legendre_symbol(a, p):\n",
        "    \"\"\"Compute the Legendre symbol (a | p)\"\"\"\n",
        "    ls = pow(a, (p - 1) // 2, p)\n",
        "    return -1 if ls == p - 1 else ls\n",
        "\n",
        "# Tonelli-Shanks algorithm (ChatGPT)\n",
        "def tonelli_shanks(a, p):\n",
        "    \"\"\"\n",
        "    Solve for x such that x^2 ≡ a mod p, using the Tonelli–Shanks algorithm.\n",
        "    Requires that p is an odd prime and a is a quadratic residue mod p.\n",
        "    Returns one solution (the other is p - x).\n",
        "    Raises ValueError if no square root exists.\n",
        "    \"\"\"\n",
        "    if legendre_symbol(a, p) != 1:\n",
        "        raise ValueError(f\"{a} is not a square mod {p}\")\n",
        "\n",
        "    # Handle the easy case\n",
        "    if p % 4 == 3:\n",
        "        return pow(a, (p + 1) // 4, p)\n",
        "\n",
        "    # Step 1: Factor p-1 = Q * 2^S with Q odd\n",
        "    Q = p - 1\n",
        "    S = 0\n",
        "    while Q % 2 == 0:\n",
        "        Q //= 2\n",
        "        S += 1\n",
        "\n",
        "    # Step 2: Find a non-residue z\n",
        "    for z in range(2, p):\n",
        "        if legendre_symbol(z, p) == -1:\n",
        "            break\n",
        "    c = pow(z, Q, p)\n",
        "\n",
        "    # Step 3: Initialize variables\n",
        "    R = pow(a, (Q + 1) // 2, p)\n",
        "    t = pow(a, Q, p)\n",
        "    M = S\n",
        "\n",
        "    # Step 4: Loop until t == 1\n",
        "    while t != 1:\n",
        "        # Find the least i such that t^(2^i) ≡ 1\n",
        "        i = 1\n",
        "        temp = pow(t, 2, p)\n",
        "        while temp != 1:\n",
        "            temp = pow(temp, 2, p)\n",
        "            i += 1\n",
        "            if i == M:\n",
        "                raise Exception(\"No solution found\")\n",
        "\n",
        "        # Update variables\n",
        "        b = pow(c, 1 << (M - i - 1), p)\n",
        "        R = (R * b) % p\n",
        "        t = (t * b * b) % p\n",
        "        c = (b * b) % p\n",
        "        M = i\n",
        "\n",
        "    return R\n"
      ],
      "metadata": {
        "id": "znYKbLxeFGdN"
      },
      "execution_count": null,
      "outputs": []
    },
    {
      "cell_type": "markdown",
      "source": [
        "## Structure of AES"
      ],
      "metadata": {
        "id": "GgrcGy3mNdhk"
      }
    },
    {
      "cell_type": "code",
      "execution_count": null,
      "metadata": {
        "colab": {
          "base_uri": "https://localhost:8080/"
        },
        "id": "lQ1C_ZiaB19O",
        "outputId": "fe413b6c-832a-420c-814a-75d309749feb"
      },
      "outputs": [
        {
          "output_type": "stream",
          "name": "stdout",
          "text": [
            "b'crypto{inmatrix}'\n"
          ]
        }
      ],
      "source": [
        "def bytes2matrix(text):\n",
        "    \"\"\" Converts a 16-byte array into a 4x4 matrix.  \"\"\"\n",
        "    return [list(text[i:i+4]) for i in range(0, len(text), 4)]\n",
        "\n",
        "def matrix2bytes(matrix):\n",
        "    \"\"\" Converts a 4x4 matrix into a 16-byte array.  \"\"\"\n",
        "    output = b''\n",
        "    for row in matrix:\n",
        "      # The entries of the matrix are integers so they need to be converted to\n",
        "      # bytes.\n",
        "      for integer in row:\n",
        "        output += integer.to_bytes(1, byteorder='big') # 2 bytes is too much.\n",
        "    return output\n",
        "\n",
        "matrix = [\n",
        "    [99, 114, 121, 112],\n",
        "    [116, 111, 123, 105],\n",
        "    [110, 109, 97, 116],\n",
        "    [114, 105, 120, 125],\n",
        "]\n",
        "\n",
        "print(matrix2bytes(matrix))"
      ]
    },
    {
      "cell_type": "markdown",
      "source": [
        "## Round Keys"
      ],
      "metadata": {
        "id": "LiTx8YAHPrBj"
      }
    },
    {
      "cell_type": "code",
      "source": [
        "state = [\n",
        "    [206, 243, 61, 34],\n",
        "    [171, 11, 93, 31],\n",
        "    [16, 200, 91, 108],\n",
        "    [150, 3, 194, 51],\n",
        "]\n",
        "\n",
        "round_key = [\n",
        "    [173, 129, 68, 82],\n",
        "    [223, 100, 38, 109],\n",
        "    [32, 189, 53, 8],\n",
        "    [253, 48, 187, 78],\n",
        "]\n",
        "\n",
        "def add_round_key(s, k):\n",
        "  n = len(s)\n",
        "  output = []\n",
        "  for i in range(n):\n",
        "    new_row = []\n",
        "    for j in range(n):\n",
        "      new_row.append(s[i][j] ^ k[i][j])\n",
        "    output.append(new_row)\n",
        "  return output\n",
        "\n",
        "print(add_round_key(state, round_key))"
      ],
      "metadata": {
        "colab": {
          "base_uri": "https://localhost:8080/"
        },
        "id": "1cmvdfUgPB-r",
        "outputId": "78de7843-52f4-41bf-8a2a-2c03f4709824"
      },
      "execution_count": null,
      "outputs": [
        {
          "output_type": "stream",
          "name": "stdout",
          "text": [
            "[[99, 114, 121, 112], [116, 111, 123, 114], [48, 117, 110, 100], [107, 51, 121, 125]]\n"
          ]
        }
      ]
    },
    {
      "cell_type": "code",
      "source": [
        "matrix2bytes([[99, 114, 121, 112], [116, 111, 123, 114], [48, 117, 110, 100], [107, 51, 121, 125]])"
      ],
      "metadata": {
        "colab": {
          "base_uri": "https://localhost:8080/"
        },
        "id": "1RFklgkYTVus",
        "outputId": "1b4ec88d-5039-4b1d-e895-6373e2e91577"
      },
      "execution_count": null,
      "outputs": [
        {
          "output_type": "execute_result",
          "data": {
            "text/plain": [
              "b'crypto{r0undk3y}'"
            ]
          },
          "metadata": {},
          "execution_count": 5
        }
      ]
    },
    {
      "cell_type": "markdown",
      "source": [
        "## Confusion through Substitution\n",
        "\n",
        "\"The fast lookup in an S-box is a shortcut for performing a very nonlinear function on the input bytes.\""
      ],
      "metadata": {
        "id": "cG8-VdFLeRu5"
      }
    },
    {
      "cell_type": "code",
      "source": [
        "s_box = (\n",
        "    0x63, 0x7C, 0x77, 0x7B, 0xF2, 0x6B, 0x6F, 0xC5, 0x30, 0x01, 0x67, 0x2B, 0xFE, 0xD7, 0xAB, 0x76,\n",
        "    0xCA, 0x82, 0xC9, 0x7D, 0xFA, 0x59, 0x47, 0xF0, 0xAD, 0xD4, 0xA2, 0xAF, 0x9C, 0xA4, 0x72, 0xC0,\n",
        "    0xB7, 0xFD, 0x93, 0x26, 0x36, 0x3F, 0xF7, 0xCC, 0x34, 0xA5, 0xE5, 0xF1, 0x71, 0xD8, 0x31, 0x15,\n",
        "    0x04, 0xC7, 0x23, 0xC3, 0x18, 0x96, 0x05, 0x9A, 0x07, 0x12, 0x80, 0xE2, 0xEB, 0x27, 0xB2, 0x75,\n",
        "    0x09, 0x83, 0x2C, 0x1A, 0x1B, 0x6E, 0x5A, 0xA0, 0x52, 0x3B, 0xD6, 0xB3, 0x29, 0xE3, 0x2F, 0x84,\n",
        "    0x53, 0xD1, 0x00, 0xED, 0x20, 0xFC, 0xB1, 0x5B, 0x6A, 0xCB, 0xBE, 0x39, 0x4A, 0x4C, 0x58, 0xCF,\n",
        "    0xD0, 0xEF, 0xAA, 0xFB, 0x43, 0x4D, 0x33, 0x85, 0x45, 0xF9, 0x02, 0x7F, 0x50, 0x3C, 0x9F, 0xA8,\n",
        "    0x51, 0xA3, 0x40, 0x8F, 0x92, 0x9D, 0x38, 0xF5, 0xBC, 0xB6, 0xDA, 0x21, 0x10, 0xFF, 0xF3, 0xD2,\n",
        "    0xCD, 0x0C, 0x13, 0xEC, 0x5F, 0x97, 0x44, 0x17, 0xC4, 0xA7, 0x7E, 0x3D, 0x64, 0x5D, 0x19, 0x73,\n",
        "    0x60, 0x81, 0x4F, 0xDC, 0x22, 0x2A, 0x90, 0x88, 0x46, 0xEE, 0xB8, 0x14, 0xDE, 0x5E, 0x0B, 0xDB,\n",
        "    0xE0, 0x32, 0x3A, 0x0A, 0x49, 0x06, 0x24, 0x5C, 0xC2, 0xD3, 0xAC, 0x62, 0x91, 0x95, 0xE4, 0x79,\n",
        "    0xE7, 0xC8, 0x37, 0x6D, 0x8D, 0xD5, 0x4E, 0xA9, 0x6C, 0x56, 0xF4, 0xEA, 0x65, 0x7A, 0xAE, 0x08,\n",
        "    0xBA, 0x78, 0x25, 0x2E, 0x1C, 0xA6, 0xB4, 0xC6, 0xE8, 0xDD, 0x74, 0x1F, 0x4B, 0xBD, 0x8B, 0x8A,\n",
        "    0x70, 0x3E, 0xB5, 0x66, 0x48, 0x03, 0xF6, 0x0E, 0x61, 0x35, 0x57, 0xB9, 0x86, 0xC1, 0x1D, 0x9E,\n",
        "    0xE1, 0xF8, 0x98, 0x11, 0x69, 0xD9, 0x8E, 0x94, 0x9B, 0x1E, 0x87, 0xE9, 0xCE, 0x55, 0x28, 0xDF,\n",
        "    0x8C, 0xA1, 0x89, 0x0D, 0xBF, 0xE6, 0x42, 0x68, 0x41, 0x99, 0x2D, 0x0F, 0xB0, 0x54, 0xBB, 0x16,\n",
        ")\n",
        "\n",
        "inv_s_box = (\n",
        "    0x52, 0x09, 0x6A, 0xD5, 0x30, 0x36, 0xA5, 0x38, 0xBF, 0x40, 0xA3, 0x9E, 0x81, 0xF3, 0xD7, 0xFB,\n",
        "    0x7C, 0xE3, 0x39, 0x82, 0x9B, 0x2F, 0xFF, 0x87, 0x34, 0x8E, 0x43, 0x44, 0xC4, 0xDE, 0xE9, 0xCB,\n",
        "    0x54, 0x7B, 0x94, 0x32, 0xA6, 0xC2, 0x23, 0x3D, 0xEE, 0x4C, 0x95, 0x0B, 0x42, 0xFA, 0xC3, 0x4E,\n",
        "    0x08, 0x2E, 0xA1, 0x66, 0x28, 0xD9, 0x24, 0xB2, 0x76, 0x5B, 0xA2, 0x49, 0x6D, 0x8B, 0xD1, 0x25,\n",
        "    0x72, 0xF8, 0xF6, 0x64, 0x86, 0x68, 0x98, 0x16, 0xD4, 0xA4, 0x5C, 0xCC, 0x5D, 0x65, 0xB6, 0x92,\n",
        "    0x6C, 0x70, 0x48, 0x50, 0xFD, 0xED, 0xB9, 0xDA, 0x5E, 0x15, 0x46, 0x57, 0xA7, 0x8D, 0x9D, 0x84,\n",
        "    0x90, 0xD8, 0xAB, 0x00, 0x8C, 0xBC, 0xD3, 0x0A, 0xF7, 0xE4, 0x58, 0x05, 0xB8, 0xB3, 0x45, 0x06,\n",
        "    0xD0, 0x2C, 0x1E, 0x8F, 0xCA, 0x3F, 0x0F, 0x02, 0xC1, 0xAF, 0xBD, 0x03, 0x01, 0x13, 0x8A, 0x6B,\n",
        "    0x3A, 0x91, 0x11, 0x41, 0x4F, 0x67, 0xDC, 0xEA, 0x97, 0xF2, 0xCF, 0xCE, 0xF0, 0xB4, 0xE6, 0x73,\n",
        "    0x96, 0xAC, 0x74, 0x22, 0xE7, 0xAD, 0x35, 0x85, 0xE2, 0xF9, 0x37, 0xE8, 0x1C, 0x75, 0xDF, 0x6E,\n",
        "    0x47, 0xF1, 0x1A, 0x71, 0x1D, 0x29, 0xC5, 0x89, 0x6F, 0xB7, 0x62, 0x0E, 0xAA, 0x18, 0xBE, 0x1B,\n",
        "    0xFC, 0x56, 0x3E, 0x4B, 0xC6, 0xD2, 0x79, 0x20, 0x9A, 0xDB, 0xC0, 0xFE, 0x78, 0xCD, 0x5A, 0xF4,\n",
        "    0x1F, 0xDD, 0xA8, 0x33, 0x88, 0x07, 0xC7, 0x31, 0xB1, 0x12, 0x10, 0x59, 0x27, 0x80, 0xEC, 0x5F,\n",
        "    0x60, 0x51, 0x7F, 0xA9, 0x19, 0xB5, 0x4A, 0x0D, 0x2D, 0xE5, 0x7A, 0x9F, 0x93, 0xC9, 0x9C, 0xEF,\n",
        "    0xA0, 0xE0, 0x3B, 0x4D, 0xAE, 0x2A, 0xF5, 0xB0, 0xC8, 0xEB, 0xBB, 0x3C, 0x83, 0x53, 0x99, 0x61,\n",
        "    0x17, 0x2B, 0x04, 0x7E, 0xBA, 0x77, 0xD6, 0x26, 0xE1, 0x69, 0x14, 0x63, 0x55, 0x21, 0x0C, 0x7D,\n",
        ")\n",
        "\n",
        "state = [\n",
        "    [251, 64, 182, 81],\n",
        "    [146, 168, 33, 80],\n",
        "    [199, 159, 195, 24],\n",
        "    [64, 80, 182, 255],\n",
        "]\n",
        "\n",
        "\n",
        "def sub_bytes(s, sbox=s_box): # This is not supposed to return but modify in place!!!\n",
        "  output = b''\n",
        "  n = len(s)\n",
        "  for i in range(n):\n",
        "    for j in range(n):\n",
        "      value = int(sbox[state[i][j]])\n",
        "      output += value.to_bytes(1)\n",
        "  return output\n",
        "\n",
        "print(sub_bytes(state, sbox=inv_s_box))\n"
      ],
      "metadata": {
        "colab": {
          "base_uri": "https://localhost:8080/"
        },
        "id": "87_HqUoHTa_c",
        "outputId": "d6fb52a2-be61-491f-b4a6-59f77a073218"
      },
      "execution_count": null,
      "outputs": [
        {
          "output_type": "stream",
          "name": "stdout",
          "text": [
            "b'crypto{l1n34rly}'\n"
          ]
        }
      ]
    },
    {
      "cell_type": "code",
      "source": [
        "print(len(s_box), len(inv_s_box))"
      ],
      "metadata": {
        "colab": {
          "base_uri": "https://localhost:8080/"
        },
        "id": "MHZFUDiEo5X1",
        "outputId": "bfe95c35-c180-4fc7-c702-5ce7222898b5"
      },
      "execution_count": null,
      "outputs": [
        {
          "output_type": "stream",
          "name": "stdout",
          "text": [
            "256 256\n"
          ]
        }
      ]
    },
    {
      "cell_type": "markdown",
      "source": [
        "## Diffusion through Permutation\n",
        "Confusion then diffusion. Also see https://en.wikipedia.org/wiki/Avalanche_effect. Ideally, changing one bit should change statistically about half of the other bits."
      ],
      "metadata": {
        "id": "6GVT28Actn1H"
      }
    },
    {
      "cell_type": "code",
      "source": [
        "import copy"
      ],
      "metadata": {
        "id": "g7H9k5rN6GGL"
      },
      "execution_count": null,
      "outputs": []
    },
    {
      "cell_type": "code",
      "source": [
        "def shift_rows(s):\n",
        "    s[0][1], s[1][1], s[2][1], s[3][1] = s[1][1], s[2][1], s[3][1], s[0][1]\n",
        "    s[0][2], s[1][2], s[2][2], s[3][2] = s[2][2], s[3][2], s[0][2], s[1][2]\n",
        "    s[0][3], s[1][3], s[2][3], s[3][3] = s[3][3], s[0][3], s[1][3], s[2][3]\n",
        "\n",
        "# DO NOT USE. There is something wrong with this function that this exercise is not detecting,\n",
        "# but I don't know what it is.\n",
        "def inv_shift_rows(s):\n",
        "    s_copy = copy.deepcopy(s) # Make a copy of s.\n",
        "    n = len(s)\n",
        "    for i in range(n):\n",
        "      for j in range(n):\n",
        "        s[i][j] = s_copy[(i-j) % n][j] # Shifts the ith row i units to the right.\n",
        "\n",
        "\n",
        "# learned from http://cs.ucsb.edu/~koc/cs178/projects/JT/aes.c\n",
        "xtime = lambda a: (((a << 1) ^ 0x1B) & 0xFF) if (a & 0x80) else (a << 1)\n",
        "\n",
        "\n",
        "def mix_single_column(a):\n",
        "    # see Sec 4.1.2 in The Design of Rijndael\n",
        "    t = a[0] ^ a[1] ^ a[2] ^ a[3]\n",
        "    u = a[0]\n",
        "    a[0] ^= t ^ xtime(a[0] ^ a[1])\n",
        "    a[1] ^= t ^ xtime(a[1] ^ a[2])\n",
        "    a[2] ^= t ^ xtime(a[2] ^ a[3])\n",
        "    a[3] ^= t ^ xtime(a[3] ^ u)\n",
        "\n",
        "\n",
        "def mix_columns(s):\n",
        "    for i in range(4):\n",
        "        mix_single_column(s[i])\n",
        "\n",
        "\n",
        "def inv_mix_columns(s):\n",
        "    # see Sec 4.1.3 in The Design of Rijndael\n",
        "    for i in range(4):\n",
        "        u = xtime(xtime(s[i][0] ^ s[i][2]))\n",
        "        v = xtime(xtime(s[i][1] ^ s[i][3]))\n",
        "        s[i][0] ^= u\n",
        "        s[i][1] ^= v\n",
        "        s[i][2] ^= u\n",
        "        s[i][3] ^= v\n",
        "\n",
        "    mix_columns(s)\n",
        "\n",
        "\n",
        "state = [\n",
        "    [108, 106, 71, 86],\n",
        "    [96, 62, 38, 72],\n",
        "    [42, 184, 92, 209],\n",
        "    [94, 79, 8, 54],\n",
        "]\n",
        "\n",
        "inv_mix_columns(state)\n",
        "inv_shift_rows(state)\n",
        "matrix2bytes(state)"
      ],
      "metadata": {
        "colab": {
          "base_uri": "https://localhost:8080/"
        },
        "id": "pAgWfnvkqW3D",
        "outputId": "2f1b277d-6045-4a90-d843-60274c6804fe"
      },
      "execution_count": null,
      "outputs": [
        {
          "output_type": "execute_result",
          "data": {
            "text/plain": [
              "b'crypto{d1ffUs3R}'"
            ]
          },
          "metadata": {},
          "execution_count": 9
        }
      ]
    },
    {
      "cell_type": "code",
      "source": [
        "# Check that inv_shift_rows was implemented correctly.\n",
        "import copy\n",
        "\n",
        "state = [\n",
        "    [108, 106, 71, 86],\n",
        "    [96, 62, 38, 72],\n",
        "    [42, 184, 92, 209],\n",
        "    [94, 79, 8, 54],\n",
        "]\n",
        "\n",
        "tmp = copy.deepcopy(state)\n",
        "shift_rows(tmp)\n",
        "inv_shift_rows(tmp)\n",
        "tmp == state"
      ],
      "metadata": {
        "colab": {
          "base_uri": "https://localhost:8080/"
        },
        "id": "khQFRJs_1p7M",
        "outputId": "5278d939-4448-468b-8cc8-60955ed53cd1"
      },
      "execution_count": null,
      "outputs": [
        {
          "output_type": "execute_result",
          "data": {
            "text/plain": [
              "True"
            ]
          },
          "metadata": {},
          "execution_count": 10
        }
      ]
    },
    {
      "cell_type": "markdown",
      "source": [
        "## Bringing It All Together"
      ],
      "metadata": {
        "id": "8FcjZn1w7241"
      }
    },
    {
      "cell_type": "code",
      "source": [
        "def inv_shift_rows(s): # There was something wrong with this function!! Maybe there was an issue with deepcopy?\n",
        "    s[1][1], s[2][1], s[3][1], s[0][1] = s[0][1], s[1][1], s[2][1], s[3][1]\n",
        "    s[2][2], s[3][2], s[0][2], s[1][2] = s[0][2], s[1][2], s[2][2], s[3][2]\n",
        "    s[3][3], s[0][3], s[1][3], s[2][3] = s[0][3], s[1][3], s[2][3], s[3][3]\n",
        "\n",
        "N_ROUNDS = 10\n",
        "\n",
        "key        = b'\\xc3,\\\\\\xa6\\xb5\\x80^\\x0c\\xdb\\x8d\\xa5z*\\xb6\\xfe\\\\'\n",
        "ciphertext = b'\\xd1O\\x14j\\xa4+O\\xb6\\xa1\\xc4\\x08B)\\x8f\\x12\\xdd'\n",
        "\n",
        "def expand_key(master_key):\n",
        "    \"\"\"\n",
        "    Expands and returns a list of key matrices for the given master_key.\n",
        "    \"\"\"\n",
        "\n",
        "    # Round constants https://en.wikipedia.org/wiki/AES_key_schedule#Round_constants\n",
        "    r_con = (\n",
        "        0x00, 0x01, 0x02, 0x04, 0x08, 0x10, 0x20, 0x40,\n",
        "        0x80, 0x1B, 0x36, 0x6C, 0xD8, 0xAB, 0x4D, 0x9A,\n",
        "        0x2F, 0x5E, 0xBC, 0x63, 0xC6, 0x97, 0x35, 0x6A,\n",
        "        0xD4, 0xB3, 0x7D, 0xFA, 0xEF, 0xC5, 0x91, 0x39,\n",
        "    )\n",
        "\n",
        "    # Initialize round keys with raw key material.\n",
        "    key_columns = bytes2matrix(master_key)\n",
        "    iteration_size = len(master_key) // 4\n",
        "\n",
        "    # Each iteration has exactly as many columns as the key material.\n",
        "    i = 1\n",
        "    while len(key_columns) < (N_ROUNDS + 1) * 4:\n",
        "        # Copy previous word.\n",
        "        word = list(key_columns[-1])\n",
        "\n",
        "        # Perform schedule_core once every \"row\".\n",
        "        if len(key_columns) % iteration_size == 0:\n",
        "            # Circular shift.\n",
        "            word.append(word.pop(0))\n",
        "            # Map to S-BOX.\n",
        "            word = [s_box[b] for b in word]\n",
        "            # XOR with first byte of R-CON, since the others bytes of R-CON are 0.\n",
        "            word[0] ^= r_con[i]\n",
        "            i += 1\n",
        "        elif len(master_key) == 32 and len(key_columns) % iteration_size == 4:\n",
        "            # Run word through S-box in the fourth iteration when using a\n",
        "            # 256-bit key.\n",
        "            word = [s_box[b] for b in word]\n",
        "\n",
        "        # XOR with equivalent word from previous iteration.\n",
        "        word = bytes(i^j for i, j in zip(word, key_columns[-iteration_size]))\n",
        "        key_columns.append(word)\n",
        "\n",
        "    # Group key words in 4x4 byte matrices.\n",
        "    return [key_columns[4*i : 4*(i+1)] for i in range(len(key_columns) // 4)]\n",
        "\n",
        "# inv_sub_bytes should modify in place.\n",
        "def inv_sub_bytes(s):\n",
        "  n = len(s)\n",
        "  for i in range(n):\n",
        "    for j in range(n):\n",
        "      s[i][j] = inv_s_box[s[i][j]]\n",
        "\n",
        "def decrypt(key, ciphertext):\n",
        "    round_keys = expand_key(key) # Remember to start from the last round key and work backwards through them when decrypting\n",
        "    # Convert ciphertext to state matrix\n",
        "    state = bytes2matrix(ciphertext)\n",
        "    # Initial add round key step\n",
        "    add_round_key(state, round_keys[-1])\n",
        "\n",
        "    for i in range(N_ROUNDS - 1, 0, -1):\n",
        "      inv_shift_rows(state)\n",
        "      inv_sub_bytes(state)\n",
        "      add_round_key(state, round_keys[i]) # 9 8 7 ... 3 2 1\n",
        "      inv_mix_columns(state)\n",
        "\n",
        "    # Run final round (skips the InvMixColumns step)\n",
        "    inv_shift_rows(state)\n",
        "    inv_sub_bytes(state)\n",
        "    add_round_key(state, round_keys[0])\n",
        "\n",
        "    # Convert state matrix to plaintext\n",
        "    plaintext = matrix2bytes(state)\n",
        "    return plaintext\n",
        "\n",
        "print(decrypt(key, ciphertext))"
      ],
      "metadata": {
        "colab": {
          "base_uri": "https://localhost:8080/"
        },
        "id": "qwksorem5yws",
        "outputId": "6edeb55f-0fb5-4086-d640-6b78c5631077"
      },
      "execution_count": null,
      "outputs": [
        {
          "output_type": "stream",
          "name": "stdout",
          "text": [
            "b'crypto{MYAES128}'\n"
          ]
        }
      ]
    },
    {
      "cell_type": "markdown",
      "source": [
        "## Modes of Operation Starter"
      ],
      "metadata": {
        "id": "vUpvJhHbaaSD"
      }
    },
    {
      "cell_type": "code",
      "source": [
        "!pip install pycrypto"
      ],
      "metadata": {
        "colab": {
          "base_uri": "https://localhost:8080/"
        },
        "id": "Zzi8aDtxbA1k",
        "outputId": "c3ccc2a8-1ac9-4566-f4d4-faa1d218d6fb"
      },
      "execution_count": null,
      "outputs": [
        {
          "output_type": "stream",
          "name": "stdout",
          "text": [
            "Collecting pycrypto\n",
            "  Downloading pycrypto-2.6.1.tar.gz (446 kB)\n",
            "\u001b[?25l     \u001b[90m━━━━━━━━━━━━━━━━━━━━━━━━━━━━━━━━━━━━━━━━\u001b[0m \u001b[32m0.0/446.2 kB\u001b[0m \u001b[31m?\u001b[0m eta \u001b[36m-:--:--\u001b[0m\r\u001b[2K     \u001b[91m━━━━━━━━━━━━━━━━━━━━━━━━━━━━━━━━━━━━━\u001b[0m\u001b[90m╺\u001b[0m \u001b[32m440.3/446.2 kB\u001b[0m \u001b[31m16.3 MB/s\u001b[0m eta \u001b[36m0:00:01\u001b[0m\r\u001b[2K     \u001b[90m━━━━━━━━━━━━━━━━━━━━━━━━━━━━━━━━━━━━━━\u001b[0m \u001b[32m446.2/446.2 kB\u001b[0m \u001b[31m11.7 MB/s\u001b[0m eta \u001b[36m0:00:00\u001b[0m\n",
            "\u001b[?25h  Preparing metadata (setup.py) ... \u001b[?25l\u001b[?25hdone\n",
            "Building wheels for collected packages: pycrypto\n",
            "  Building wheel for pycrypto (setup.py) ... \u001b[?25l\u001b[?25hdone\n",
            "  Created wheel for pycrypto: filename=pycrypto-2.6.1-cp311-cp311-linux_x86_64.whl size=498643 sha256=38e743d1fb111f514308ea129d968adbd9c7d701d4539d5124bb1d1d87423d45\n",
            "  Stored in directory: /root/.cache/pip/wheels/88/0a/1a/35933feb1f6b635d5b661781fb1361a728fcde50f1cd164b7c\n",
            "Successfully built pycrypto\n",
            "Installing collected packages: pycrypto\n",
            "Successfully installed pycrypto-2.6.1\n"
          ]
        }
      ]
    },
    {
      "cell_type": "code",
      "source": [
        "from Crypto.Cipher import AES\n",
        "\n",
        "\n",
        "# KEY = ?\n",
        "# FLAG = ?\n",
        "\n",
        "\n",
        "!@chal.route('/block_cipher_starter/decrypt/<ciphertext>/')\n",
        "def decrypt(ciphertext):\n",
        "    ciphertext = bytes.fromhex(ciphertext)\n",
        "\n",
        "    cipher = AES.new(KEY, AES.MODE_ECB)\n",
        "    try:\n",
        "        decrypted = cipher.decrypt(ciphertext)\n",
        "    except ValueError as e:\n",
        "        return {\"error\": str(e)}\n",
        "\n",
        "    return {\"plaintext\": decrypted.hex()}\n",
        "\n",
        "\n",
        "!@chal.route('/block_cipher_starter/encrypt_flag/')\n",
        "def encrypt_flag():\n",
        "    cipher = AES.new(KEY, AES.MODE_ECB)\n",
        "    encrypted = cipher.encrypt(FLAG.encode())\n",
        "\n",
        "    return {\"ciphertext\": encrypted.hex()}"
      ],
      "metadata": {
        "colab": {
          "base_uri": "https://localhost:8080/"
        },
        "id": "d3zDwe8Tacma",
        "outputId": "2e517753-95ae-4e67-ae9d-4e229fd4da67"
      },
      "execution_count": null,
      "outputs": [
        {
          "output_type": "stream",
          "name": "stdout",
          "text": [
            "/bin/bash: -c: line 1: syntax error near unexpected token `'/block_cipher_starter/decrypt/<ciphertext>/''\n",
            "/bin/bash: -c: line 1: `@chal.route('/block_cipher_starter/decrypt/<ciphertext>/')'\n",
            "/bin/bash: -c: line 1: syntax error near unexpected token `'/block_cipher_starter/encrypt_flag/''\n",
            "/bin/bash: -c: line 1: `@chal.route('/block_cipher_starter/encrypt_flag/')'\n"
          ]
        }
      ]
    },
    {
      "cell_type": "markdown",
      "source": [
        "## Passwords as Keys"
      ],
      "metadata": {
        "id": "1OVr3qZQrMAJ"
      }
    },
    {
      "cell_type": "code",
      "source": [
        "# !pip uninstall pycrpto\n",
        "!pip install pycryptodome"
      ],
      "metadata": {
        "colab": {
          "base_uri": "https://localhost:8080/"
        },
        "id": "oMchAS1l9mCD",
        "outputId": "92086ff2-278d-469d-a547-73809690eeed"
      },
      "execution_count": null,
      "outputs": [
        {
          "output_type": "stream",
          "name": "stdout",
          "text": [
            "Requirement already satisfied: pycryptodome in /usr/local/lib/python3.11/dist-packages (3.23.0)\n"
          ]
        }
      ]
    },
    {
      "cell_type": "code",
      "source": [
        "!wget https://gist.githubusercontent.com/wchargin/8927565/raw/d9783627c731268fb2935a731a618aa8e95cf465/words"
      ],
      "metadata": {
        "colab": {
          "base_uri": "https://localhost:8080/"
        },
        "id": "Aam-ZUr6x1a-",
        "outputId": "f29cdfe9-f92e-4b32-8112-473789b37fb0"
      },
      "execution_count": null,
      "outputs": [
        {
          "output_type": "stream",
          "name": "stdout",
          "text": [
            "--2025-07-29 15:22:52--  https://gist.githubusercontent.com/wchargin/8927565/raw/d9783627c731268fb2935a731a618aa8e95cf465/words\n",
            "Resolving gist.githubusercontent.com (gist.githubusercontent.com)... 185.199.110.133, 185.199.109.133, 185.199.111.133, ...\n",
            "Connecting to gist.githubusercontent.com (gist.githubusercontent.com)|185.199.110.133|:443... connected.\n",
            "HTTP request sent, awaiting response... 200 OK\n",
            "Length: 938847 (917K) [text/plain]\n",
            "Saving to: ‘words’\n",
            "\n",
            "words               100%[===================>] 916.84K  --.-KB/s    in 0.04s   \n",
            "\n",
            "2025-07-29 15:22:53 (21.1 MB/s) - ‘words’ saved [938847/938847]\n",
            "\n"
          ]
        }
      ]
    },
    {
      "cell_type": "code",
      "source": [
        "from Crypto.Cipher import AES\n",
        "import hashlib\n",
        "import random\n",
        "\n",
        "\n",
        "# /usr/share/dict/words from\n",
        "# https://gist.githubusercontent.com/wchargin/8927565/raw/d9783627c731268fb2935a731a618aa8e95cf465/words\n",
        "with open(\"/content/words\") as f:\n",
        "    words = [w.strip() for w in f.readlines()]\n",
        "keyword = random.choice(words)\n",
        "KEY = hashlib.md5(keyword.encode()).digest()\n",
        "# FLAG = ?\n",
        "\n",
        "\n",
        "!@chal.route('/passwords_as_keys/decrypt/<ciphertext>/<password_hash>/')\n",
        "def decrypt(ciphertext, password_hash):\n",
        "    ciphertext = bytes.fromhex(ciphertext)\n",
        "    key = bytes.fromhex(password_hash)\n",
        "\n",
        "    cipher = AES.new(key, AES.MODE_ECB)\n",
        "    try:\n",
        "        decrypted = cipher.decrypt(ciphertext)\n",
        "    except ValueError as e:\n",
        "        return {\"error\": str(e)}\n",
        "\n",
        "    return {\"plaintext\": decrypted.hex()}\n",
        "\n",
        "\n",
        "!@chal.route('/passwords_as_keys/encrypt_flag/')\n",
        "def encrypt_flag():\n",
        "    cipher = AES.new(KEY, AES.MODE_ECB)\n",
        "    encrypted = cipher.encrypt(FLAG.encode())\n",
        "\n",
        "    return {\"ciphertext\": encrypted.hex()}"
      ],
      "metadata": {
        "colab": {
          "base_uri": "https://localhost:8080/"
        },
        "id": "K2tAuu0UrCo2",
        "outputId": "f0bb601e-e753-46c2-9790-431e35e733a2"
      },
      "execution_count": null,
      "outputs": [
        {
          "output_type": "stream",
          "name": "stdout",
          "text": [
            "/bin/bash: -c: line 1: syntax error near unexpected token `'/passwords_as_keys/decrypt/<ciphertext>/<password_hash>/''\n",
            "/bin/bash: -c: line 1: `@chal.route('/passwords_as_keys/decrypt/<ciphertext>/<password_hash>/')'\n",
            "/bin/bash: -c: line 1: syntax error near unexpected token `'/passwords_as_keys/encrypt_flag/''\n",
            "/bin/bash: -c: line 1: `@chal.route('/passwords_as_keys/encrypt_flag/')'\n"
          ]
        }
      ]
    },
    {
      "cell_type": "code",
      "source": [
        "# Can simply brute force check until we find a match with crytpo{}.\n",
        "# Start by importing regular expression.\n",
        "import re"
      ],
      "metadata": {
        "id": "O34X3KbOzRwb"
      },
      "execution_count": null,
      "outputs": []
    },
    {
      "cell_type": "code",
      "source": [
        "ciphertext = 'c92b7734070205bdf6c0087a751466ec13ae15e6f1bcdd3f3a535ec0f4bbae66'"
      ],
      "metadata": {
        "id": "36Ze7AwfxaTX"
      },
      "execution_count": null,
      "outputs": []
    },
    {
      "cell_type": "code",
      "source": [
        "# Now let's try this out on the encrypted flag.\n",
        "def key_search(ciphertext):\n",
        "  for word in words:\n",
        "    keyword = word\n",
        "    # Note that keyword is encoded into bytes in the argument.\n",
        "    password_hash = hashlib.md5(keyword.encode()).digest()\n",
        "    # The decrypt function takes in hex strings. It returns a dictionary: {\"plaintext\" : hex}\n",
        "    plaintext = decrypt(ciphertext, password_hash.hex())['plaintext']\n",
        "    # Convert hex -> bytes to get the flag, then -> string so it can be passed into re.\n",
        "    plaintext = bytes.fromhex(plaintext)\n",
        "    plaintext = str(plaintext)\n",
        "    # match sort of works like a boolean.\n",
        "    match = re.search('crypto', plaintext)\n",
        "\n",
        "    if match:\n",
        "      print(f'The flag is {plaintext} and the keyword used to decrypt it was {keyword}.')\n",
        "      return\n",
        "  print('No match was found.')"
      ],
      "metadata": {
        "id": "zdBRFZIjJNmd"
      },
      "execution_count": null,
      "outputs": []
    },
    {
      "cell_type": "code",
      "source": [
        "ciphertext = 'c92b7734070205bdf6c0087a751466ec13ae15e6f1bcdd3f3a535ec0f4bbae66'\n",
        "key_search(ciphertext)"
      ],
      "metadata": {
        "colab": {
          "base_uri": "https://localhost:8080/"
        },
        "id": "DOwfvy3UK6dj",
        "outputId": "fdc37fd5-fdb1-4b2a-a441-8a8d036fbd37"
      },
      "execution_count": null,
      "outputs": [
        {
          "output_type": "stream",
          "name": "stdout",
          "text": [
            "The flag is b'crypto{k3y5__r__n07__p455w0rdz?}' and the keyword used to decrypt it was bluebell.\n"
          ]
        }
      ]
    },
    {
      "cell_type": "markdown",
      "source": [
        "Scratchwork"
      ],
      "metadata": {
        "id": "VZiB7PZknEH1"
      }
    },
    {
      "cell_type": "code",
      "source": [
        "# Example of md5 hash:\n",
        "plaintext = 'crypto{matt_is_cool}' + 12*'0'\n",
        "print(f'Plaintext must be a multiple of 16: len(plaintext) = {len(plaintext)}')\n",
        "keyword = 'zygote'\n",
        "KEY = hashlib.md5(keyword.encode()).digest()\n",
        "# Encode:\n",
        "cipher = AES.new(KEY, AES.MODE_ECB)\n",
        "encrypted = cipher.encrypt(plaintext.encode())\n",
        "ciphertext = encrypted\n",
        "ciphertext"
      ],
      "metadata": {
        "colab": {
          "base_uri": "https://localhost:8080/"
        },
        "id": "Yp_-uJFx0Vus",
        "outputId": "03eb514a-ec0d-42a5-c8b0-ac2bcbc8673a"
      },
      "execution_count": null,
      "outputs": [
        {
          "output_type": "stream",
          "name": "stdout",
          "text": [
            "Plaintext must be a multiple of 16: len(plaintext) = 32\n"
          ]
        },
        {
          "output_type": "execute_result",
          "data": {
            "text/plain": [
              "b'\\xae\\x16j\\x86\\xfa%\\x96_\\xea\\xc7b\\xfa\\xcd\\x15F\\x9b\\xe8\\x9c\\x11\\x89#\\xa2\\xdd\\xd7\\xcf\\xe8\\xd4/\\xe0\\xee\\xaf\\xd3'"
            ]
          },
          "metadata": {},
          "execution_count": 48
        }
      ]
    },
    {
      "cell_type": "code",
      "source": [
        "plaintext_bytes = cipher.decrypt(ciphertext)\n",
        "plaintext = str(plaintext_bytes)\n",
        "print(plaintext)\n",
        "\n",
        "# If we didn't know the key, then we could search through words to find it."
      ],
      "metadata": {
        "colab": {
          "base_uri": "https://localhost:8080/"
        },
        "id": "Ex2Prp3d_pzn",
        "outputId": "5872ac91-30ce-480b-d5a8-56ebdcd8d72a"
      },
      "execution_count": null,
      "outputs": [
        {
          "output_type": "stream",
          "name": "stdout",
          "text": [
            "b'crypto{matt_is_cool}000000000000' <class 'str'>\n"
          ]
        }
      ]
    },
    {
      "cell_type": "code",
      "source": [
        "print(f'The length of the keyword space is effectively reduced to {len(words)}, the length of the words file.')\n",
        "\n",
        "for word in words:\n",
        "  keyword = word\n",
        "  KEY = hashlib.md5(keyword.encode()).digest()\n",
        "  cipher = AES.new(KEY, AES.MODE_ECB)\n",
        "  plaintext_bytes = cipher.decrypt(ciphertext)\n",
        "  # Not sure if this string conversion is strictly necessary.\n",
        "  plaintext = str(plaintext_bytes)\n",
        "  match = re.search('crypto', plaintext)\n",
        "\n",
        "  if match:\n",
        "    print(f'The keyword is {keyword} and the plaintext is {plaintext}.')\n",
        "    break\n",
        "# This is appears to be working correctly."
      ],
      "metadata": {
        "colab": {
          "base_uri": "https://localhost:8080/"
        },
        "id": "4pIQzoDI54Yj",
        "outputId": "492eadc4-2e38-4f02-fce8-d57ac17bf543"
      },
      "execution_count": null,
      "outputs": [
        {
          "output_type": "stream",
          "name": "stdout",
          "text": [
            "The length of the keyword space is effectively reduced to 99171, the length of the words file.\n",
            "The keyword is zygote and the plaintext is b'crypto{matt_is_cool}000000000000'.\n"
          ]
        }
      ]
    },
    {
      "cell_type": "code",
      "source": [
        "# re.search is kind of like a boolean?\n",
        "if re.search(r'matt', 'matt_is_cool'):\n",
        "  print(0)\n",
        "else:\n",
        "  print(1)"
      ],
      "metadata": {
        "colab": {
          "base_uri": "https://localhost:8080/"
        },
        "id": "VpIHu-l66CCr",
        "outputId": "78407642-fa3e-4476-dd55-e8ac77a70f35"
      },
      "execution_count": null,
      "outputs": [
        {
          "output_type": "stream",
          "name": "stdout",
          "text": [
            "0\n"
          ]
        }
      ]
    },
    {
      "cell_type": "markdown",
      "source": [
        "## ECB Oracle"
      ],
      "metadata": {
        "id": "EjPfBlRSp04i"
      }
    },
    {
      "cell_type": "code",
      "source": [
        "!pip install pycryptodome"
      ],
      "metadata": {
        "colab": {
          "base_uri": "https://localhost:8080/"
        },
        "id": "cDIFKTUidViV",
        "outputId": "7130d60d-bd54-4886-8d34-aec4ffe21992"
      },
      "execution_count": null,
      "outputs": [
        {
          "output_type": "stream",
          "name": "stdout",
          "text": [
            "Collecting pycryptodome\n",
            "  Downloading pycryptodome-3.23.0-cp37-abi3-manylinux_2_17_x86_64.manylinux2014_x86_64.whl.metadata (3.4 kB)\n",
            "Downloading pycryptodome-3.23.0-cp37-abi3-manylinux_2_17_x86_64.manylinux2014_x86_64.whl (2.3 MB)\n",
            "\u001b[?25l   \u001b[90m━━━━━━━━━━━━━━━━━━━━━━━━━━━━━━━━━━━━━━━━\u001b[0m \u001b[32m0.0/2.3 MB\u001b[0m \u001b[31m?\u001b[0m eta \u001b[36m-:--:--\u001b[0m\r\u001b[2K   \u001b[91m━━━━━━━━━━━━━━━━━━━━━━━━━━━━━━━━━━━━━━━\u001b[0m\u001b[91m╸\u001b[0m \u001b[32m2.3/2.3 MB\u001b[0m \u001b[31m81.7 MB/s\u001b[0m eta \u001b[36m0:00:01\u001b[0m\r\u001b[2K   \u001b[90m━━━━━━━━━━━━━━━━━━━━━━━━━━━━━━━━━━━━━━━━\u001b[0m \u001b[32m2.3/2.3 MB\u001b[0m \u001b[31m38.5 MB/s\u001b[0m eta \u001b[36m0:00:00\u001b[0m\n",
            "\u001b[?25hInstalling collected packages: pycryptodome\n",
            "Successfully installed pycryptodome-3.23.0\n"
          ]
        }
      ]
    },
    {
      "cell_type": "code",
      "source": [
        "from Crypto.Cipher import AES\n",
        "from Crypto.Util.Padding import pad, unpad\n",
        "\n",
        "# KEY = ?\n",
        "# FLAG = ?\n",
        "\n",
        "!@chal.route('/ecb_oracle/encrypt/<plaintext>/')\n",
        "def encrypt(plaintext):\n",
        "    plaintext = bytes.fromhex(plaintext)\n",
        "\n",
        "    padded = pad(plaintext + FLAG.encode(), 16)\n",
        "    cipher = AES.new(KEY, AES.MODE_ECB)\n",
        "    try:\n",
        "        encrypted = cipher.encrypt(padded)\n",
        "    except ValueError as e:\n",
        "        return {\"error\": str(e)}\n",
        "\n",
        "    return {\"ciphertext\": encrypted.hex()}"
      ],
      "metadata": {
        "colab": {
          "base_uri": "https://localhost:8080/"
        },
        "id": "sjb9SwTDjzdL",
        "outputId": "d43ba052-1f28-4ec5-9e3a-4dda2a4aebfa"
      },
      "execution_count": null,
      "outputs": [
        {
          "output_type": "stream",
          "name": "stdout",
          "text": [
            "/bin/bash: -c: line 1: syntax error near unexpected token `'/ecb_oracle/encrypt/<plaintext>/''\n",
            "/bin/bash: -c: line 1: `@chal.route('/ecb_oracle/encrypt/<plaintext>/')'\n"
          ]
        }
      ]
    },
    {
      "cell_type": "markdown",
      "source": [
        "Example where you know the first letter is 'c' and you are trying to guess the second one."
      ],
      "metadata": {
        "id": "64IOkAUpjdvO"
      }
    },
    {
      "cell_type": "code",
      "source": [
        "flag = 'crypto{matt}'"
      ],
      "metadata": {
        "id": "Y315Dh72ic6x"
      },
      "execution_count": null,
      "outputs": []
    },
    {
      "cell_type": "code",
      "source": [
        "pad(('A'*14 + 'cq' + 'A'*14 + flag).encode(), 16)"
      ],
      "metadata": {
        "colab": {
          "base_uri": "https://localhost:8080/"
        },
        "id": "cI6AetW1qdA0",
        "outputId": "3bcbda93-5d88-48c4-b8aa-097734a917f6"
      },
      "execution_count": null,
      "outputs": [
        {
          "output_type": "execute_result",
          "data": {
            "text/plain": [
              "b'AAAAAAAAAAAAAAcqAAAAAAAAAAAAAAcrypto{matt}\\x06\\x06\\x06\\x06\\x06\\x06'"
            ]
          },
          "metadata": {},
          "execution_count": 11
        }
      ]
    },
    {
      "cell_type": "code",
      "source": [
        "symbols = 'abcdefghijklmnopqrstuvwxyz0123456789!@#$%^&*_()[]{}\\|<>?\":+-='"
      ],
      "metadata": {
        "id": "NR_26tDWAkNM"
      },
      "execution_count": null,
      "outputs": []
    },
    {
      "cell_type": "code",
      "source": [
        "'a'*15"
      ],
      "metadata": {
        "colab": {
          "base_uri": "https://localhost:8080/",
          "height": 36
        },
        "id": "8KmoLBbfmR0p",
        "outputId": "f93b2de4-1722-45d1-aa14-35e7d2fbffa4"
      },
      "execution_count": null,
      "outputs": [
        {
          "output_type": "execute_result",
          "data": {
            "text/plain": [
              "'aaaaaaaaaaaaaaa'"
            ],
            "application/vnd.google.colaboratory.intrinsic+json": {
              "type": "string"
            }
          },
          "metadata": {},
          "execution_count": 3
        }
      ]
    },
    {
      "cell_type": "markdown",
      "source": [
        "## ECB CBC WTF\n",
        "\n",
        "The plaintext is encrypted in CBC mode, but then decrypted in ECB mode. That means it doesn't XOR with the IV at the final step. The data goes through the following transformation when encrypt/decrypting assuming one block:\n",
        "\n",
        "Encrypt: plaintext -> IV xor plaintext -> AES(IV xor plaintext) -> ciphertext\n",
        "\n",
        "Decrypt: ciphertext -> AES_inv()."
      ],
      "metadata": {
        "id": "rjNgy5U4hkgP"
      }
    },
    {
      "cell_type": "markdown",
      "source": [
        "![ecb_mode.png](data:image/png;base64,iVBORw0KGgoAAAANSUhEUgAABN8AAAFzCAYAAAAOia+PAAAAAXNSR0IArs4c6QAAAARnQU1BAACxjwv8YQUAAAAJcEhZcwAADsMAAA7DAcdvqGQAAIF1SURBVHhe7f1/fBTlvf//P1MCLiXqAmo3FTFRVJZCSwAL4eC7EA5tCQdPDYf2bXK00iAeBe1XiZwq8Qct6Ckk9H0U6hET8V2b2EoTT+EktFqCfuSdiCLRglmUyIYfulGBrBDMConz/WN/ZHeym2x+LITkcb/d5pbsXLMzs7OT65V5zTXXFWcYhiEAAAAAAAAAPe5r5hkAAAAAAAAAegbJNwAAAAAAACBGSL4BAAAAAAAAMULyDQAAAAAAAIgRkm8AAAAAAABAjJB8AwAAAAAAAGKE5BsAAAAAAAAQIyTfAAAAAAAAgBgh+QYAAAAAAADECMk3AAAAAAAAIEZIvgEAAAAAAAAxQvINAAAAAAAAiBGSbwAAAAAAAECMkHwDAAAAAAAAYoTkGwAAAAAAABAjJN8AAAAAAACAGCH5BgAAAAAAAMQIyTcAAAAAAAAgRki+AQAAAAAAADFC8g0AAAAAAACIEZJvAAAAAAAAQIyQfAMAAAAAAABihOQbAAAAAAAAECMk3wAAAAAAAIAYIfkGAAAAAAAAxAjJNwAAAAAAACBGSL4BAAAAAAAAMULyDQAAAAAAAIgRkm8AAAAAAABAjJB8AwAAAAAAAGKE5BsAAAAAAAAQIyTfAAAAAAAAgBgh+QYAAAAAAADECMk3AAAAAAAAIEZIvgEAAAAAAAAxQvINAAAAAAAAiBGSbwDQW3jqVb0xRzOviFPcuHw5zeU4PzU7lH/DYMXFxSnOnqMKt3kB9DRPbbnyb52gwXFxytpiLo2BZo8cW/OVlTJYcXFZKjeX9wOefWf5mAMAAJxHSL4BgNmWLG+ipKenW8NfkgcuWgcnasLP8lVxxLwEzmfOJ7OUs8PjfbEvX3MerjIvgp4QlAAbfM0c5TxfLd9RjxlPfbUK75upxMGDNSY9R8XvxHqLvUyzR45N3hsGg+1n55h3SbNHjk0LNeEebx1cfmuY+rkHpq4mHT1uhyqeylVW2hglJvoS9b5pcOIYzczM1frtDnmaQ9/nXDNGM5+pb53Rrdg1WIlXJGpMWpZy1hSrYl9036TzySxlPVklt2nfAABAqDjDMAzzTACA94Kt/vX1ysowtVaypCjjlgkaGjQrrPrdKnu9WvX+984tUtPmTFkCC7hVnJGsxW9ZZDlar/rga52xeTqwZ6mSg2bh/OT8zQRddV914LXl7ko1PZEasgy66Uih5lyfq93xkvtIfUgCKHOzoaK5QTN6SMV9icraJKmxvvVvXJKUqTKjSOnBs/qic3DMu8JTW6isG5bIMbdIZU9kKLm1ApYa61XxVJbmLatQSBU/PkNZ13dYw8tVXabKd+oDiaf04iaV3Ry8gfZ5akuVu2Cx8nf4EmjxVqXMnqe0G9I0Ncm7Hk9dpcq2lqp0u1OeeJsyHijUymXpSm4sVnZylqp/eUA195siRbNHjpeWaM6PC00tqC1KmZulCeNTlD4uMTDXtadclTsqvNsIXnxEhpY/u14rZ9mC54Zqdqv8vgmas8muvJeKtHSK1bwEAACQJAMA0C7XE6mGpNZpbJ5xwLxQRE3GgWczDGtH7ztZZGR0eRvo1c7UGAWzbd7vdfRSY1uDeQH0pIZn00P+XjM3m5foaQeMvLFBf7vKNMrMi/Rx5joy9sc8Oq7iDMMWbzOyS9v7o3MZ66YEf38y7Ks7Ufs2HTAKbrJ27n1NB4ySBcmt24y3G9kv1hhNZ8wLBmlyGbufzTbs8aH7antgt3nJAPP30mFcOdNk1LwYZhsLSoyG9vbNd6ytkpH6UKXR3tEGAKC/4rFTAOiALak77c8sSl5QopI7O2gNkZCqqWPNM89f9U9O1Zg19FonSYq3K7vcJcMwZDjylEbDkJiy3pAmu3lmTCXLfr15Xv9imzXnLB/zjnjkeHyCEjMrlFbqUMFN7f3R2ZR8jXleJ1iSlf1iiRZ3UMUHHC3VwuSrNG+jr36ckqeakzUqmG+XJd68cBCLTSkLClTjqtTySa2z64+4gpcKYUuZENTSOgrxFtnnF6jGWaSMoENWv3GekheVt/tIse3mEjlLM+X41VTZf1Ye0pIQAADQ5xsAdMw+odsXlmk/Wypbs6edi5dk2VPM885XDq1bS79m6D/s9u7WEOe5+E6leGLOsWaqxjxYLftjlSqa217izcs+rpvfX3yasu+1Sc2Ra3hJkrtcWdfMU6G/m7ZJeap5fansnTl8l6Rq5Stlyuz4Y0m25K51XTAiUyWvLA95r3tjlnJ2BM0Iw3pTkSoeSFb9xjlKvpUEHAAAwUi+AcDZMGmq5uyr6RcjmLpfyNGqOvNcAIg995YsTV1WLSUtV9H93UyqdULKDXPkcLRTwzc7lD9rjooDGak0Fby0VPb2WrtFYk1XUdVK702hakds4sqkXK28KXiGW+vXFrdzA8kr5ZclWp4kuZ+fo7Q1DnMxAAD9Fsk3ADgr0lXQHzphdxcrKzP8qK7AWTHKrj7TiBSd4y5W1o3FcktKfyxHKV1JbHXV7AIZv4tcw1c/PEc5u1pfJz+0TtkjgpfopNHLta6j7gy6xaK02Wmhs7ZWqnXomAjiU5T7hHdgoeplWcrfZ14AAID+ieQbAKBnuCu05PoskXoDcPa5VXyrr/6xLNbS+dE8l3mW1OYr6/Hg9mnpWrms+63y0h7MU+peh2LVvsxmM41y6mlQQ+icsCxzc7U0SZKqlTN/lRy+0WABAOjPSL4BALrvSLHm2Wdqfa25AADOgh25WrzF+6vl9iylnc1Wbx2oWJsbmiCbm6WMhOAZXTRinrKmNJnn9hjnPlM7N8tQDQ2dE4FdS+5L9f66N1dLNvo7uQMAoP8i+QYAMeRcM0ZZvgvCWPHUV6vwvpkakzhYcXFx3mngUCVeP0e5G6vl7kSrA8++cuUvaruuMWkLlb/VGaa/n3pVPDxHiVdkqdR0feVYdlXrOuLiFBfXtlWcf98TB8aFjI5a/1KOZl7hfd/ga+apsJ1Hlzz11Sp8eI4mhPv8T1XI2Xanw2v2yLE1X1kpg9vu69Eqrb91ghIH+9Y/+CrNvK806nV79pUr/9YJGhwXF/354KlX9cZczbk+UUMHth7HwYkTNOfhQlUfNb+hhzQ6VL5moWbaEzU46Psbap+phWvKo/7MUuhnCFnXFRM05+H1qqjtzMp8fN/TwrQxIcdl6PVzlLsp3DkaBf933+ZYj9HMRfkq78p+SpI8cm7K0Uz70JDvL+vJCtV3cpU9dp4Hi3As/Z+79J0e7DJ/S1brfoedxii/y8n7eq2/f72vg3+Lsn/sS/zEnFP549rWayEai7X+qdAvJ21uWudGIY3IpsVVserOoF7lpaY2dbOnRv1It232vMBARRXLVqqqE3EIAIA+yQAAtG9/nmGXDPmnsXnGAfMyEZTdIiNzs3lueGW3dHIbZ1xGye12Q5Jhm5Ft5P2uxCh5cZ2xfG6KYQneX1uGUXTY/GaThkojb7bNu/yINCN7dZFR8mKJse6hdMMeH7Su0UuNbQ3Bb3QZu18sMUpeLDFKXlxqpAZt13bzOt98/7TbcBmGYZxpMmrK84zM8ZbW9UqGfbX3E9esTgmZL8mQdalRGbxZwzCMpgOBz694m5F2r3d7RauXGumjg99vMzKePWA0md/v0+TabRTcm2bYgj+nMo0yb6lR80S6YTPvj3+alGfUnDGv0afJZex+dqmRNiL0PdGcD67SbN9xtxgpc5cb614sMUp+l2dkT/N9R77Plb6hxvzWbmgwKlf7Pmu8zUi7Pc8oerHEKPnt8tDjGW83llaEnARhNBkHXvR/Bhm2GUsDn2HpXN935pts8wuMA5G+HLPDRUaGzfe+aUuNdRU1hsvl8p5Pvn20zkoL+Xvt6Hg3VOUZ6TYZsqQY6Q/5z6HsNt9b6kOVRqRPfWB18GfynTsNlcbyKaHrCJls6UaBw7ymMHroPDdreN33uSXDMj6ztf64OTX0fJ+y3Kj8zPxuE1MdGemYN7mKjExL8DFINZY+u9s48Fm0ex3BnuVGcmD7mUZJpL/JCEK/v9a6qENnyozMQF0RwebMkHVLNmP5W+aFYqQbsathc6ZhDdlvq7H4dfNS7ak0Fgd91xnF3fyOAQA4z5F8A4COdPUCpqHISG/nQtSsU8m3MzVG3iQZik81lleFSQkcLjIyrMEXTilGXqQL/c9KjEzfsimP1bS9ePd9jsC6rNlG2UnzQoZhGGVGZtByYS9gDxcYaVarYRthDdq31uW9F3wWwxay7zKkNKPAFbSehm3G4lHeMuusdUZNm51uMg48mxFy8Zh897Y2yZNt99oMq80WZnuZRpnRYGy7O9mQZFhsKUb67dlG9s3mJF2Ez1mx1LBZbWE/Z/vnQ5NR85gv+WjNNErCJD12P+DdJ/+UsjbM9jvrTINRcotvXyetDHM8G4yiucGfw2pkl7dZyKf1uMmaZqzb03a5pv0FoefnqMWmpG5bTXtWGin+zxzuPDUajMoH2iZu2zve/gSDbX6R4WqTsGm7PustZW3OIaNN8ibTKGsoM7J9ia32p3b+Lo2eO8/Najak+d6TbCwuD7P0Z5XG8klB+2lNaz9RGGXyzThTaSz1HZfku8uMhjbHvGu23RmUyJ/UQd0ZRleTbw3F6UGJ+vAq7w69ySClG0Vh688Y6GLsaqhaHvhb808pqzub6G8KrTNmFHhvvgAA0E+RfAOAjnT2AqapwTjwVoGR7btojnghahJ98q3BKLvFakjJ7begeCu4NUiEdTaUBRJvkRILhmEYJTeHXoiFvziNIvkWpKE0M6SFnv3+lUam1Z+MCG1xFrpvB7yJR7WXCPQyt6KLeAF5ZrexPCn4M2YaK1enGBqVbZQ4TBmPoGMmyZBlcdtWeUHMybL2zofW/W0nKeNYGXo+KtMo61YSw38+eRN+ZZFOglJTC55w55NhGAfW+j9Dewk6wzAceaEX+O21IgxKALd3nhpnaoyVY4OPTTvH27/9uUWR19cm6WgxMje3/UyhyRu7kTLJ27JteXmN0eBbvOnwbqPA34IteEpabuwO+7ljcJ4bhtFUnh1I1rWbuDWf5+2dG9Ek387UGHlTZEhWI61HW2yGtrDSgvZSYeF1NvnW1HDA2P1stq9+bS/5FvQdBqbsdpbvYebYNXq5UelyBc7JVk1Gg8tl1FSsM5bOCG5dK28L29WRW322p+ax4ONquoECAEA/Q/INADpivoDp5BT2QjSMaJNvTZt9Sau5RWFa/wSrMVaGPJZmMT021GSULfC3zEo11rXzaKr54jT8BW7nkm/GSVOLOlmNzFLTJd7JBsPlagj5nK4NaYH3pD7RwdVcm6RaipG337yQV8jxlwzrrIKIySDXE6lBy9ojrtMw2j52FvF82N+ajLLcuc1c2upM6HGWUow8p3mh6AUnY9o9nm3+DsIkEQ4XGGn+8inrOmzpYk5Mhk8GuYyCGf5l2j9PDcMwmorTozjeB4y8sYruEUBz0jFMCx7z34f1pnAt6bwaSs2P88lI22BeY4zO8zOVxmJ/Qs2y2NgWYR/9vC27gj7XgrLwdU5HybcGf0s6m5Ft/hvvrreWhzwm22G9E4b5++vc1F7yzVwHt1+397g2f7OdmSxGyt0Fxu4wrW+jZvrbSefRUwBAP8aACwDQWZYUZdyerexI09wU2XqmN+0w6lX4WLE8kuw3pHbQabdd9pDesT0qKQ8ave5IoVZu9HWoPneJske0Fpkl375OS8f7tmZLV8GyHujiO8Eqa/DrGXnKvylkjpRglc1mbf2czRVaeU+F74Vd82bbWpcNJz5FuY9lBM2oVu5a//tD2cf5uweXpEwVlmfLHmHERFtqmlq37NBuU7/kIewTAh2Pt6diba68345NS3+WZi5uFZ+u3A0Zsvn2zX5vnrKTzAtFq16Fvyz0dVSfriUL2jmeo7K17t4U33dhU/qGpW06eq94bIkC305GetAxCi/lwZUK+XYezFeFqWN2z5alWrLd96KD81SSLNendXy8t+crd68kpWnqJHOhiX1M6Pq2l6qiMXiGWaaKSjMD34+Z9aYiVT4WuocVz5YoZLySGJ3n9U8t1Xr/GArz0zscEdR6c56WB51b7o0rVXgkeIkouCu05PqpWrUrWYsrHCow/413k/P18pBjlzI6OehV11jGZ7St14Om9Em2DupeP6dq2hks5qyzpCjjoXUqebEkZFr3ULi45VH1kwuV/uMcFXZ14I1Lh4Ycp4oq0+ipAAD0J+ZsHADAxNx6IJqWC2cajDJfv1dtWoFEEFXLN1dQy6KuTLe0ttGoeai11VFXWou01cmWb51e3jCaijOCPk97LU6CnCwyMkKOQ0bYPpfa9NtlXiBYRy19gkWzbMg+drDtnhTcUX2kcy5apuMc9nO20WQU3RT83Zg7ZncZ64IGLYjmHDGfV+H2o20/XJ2Z2rZ07NS5YxiGcWZb6KOSpn7AYnOe14S0jovuWIbWE5KM5IfCPDIa6Rz39z0Zn2rkhen7ryeULQj+zObWvdExt3yL6th8Vubrj6+978fcSrUH/s46o9Oxq8lwvVVgZJtb60mGbXa4Pgc7YN5+F/rjAwCgr6DlGwDEQrxV6WsLtDi65hHRe6si0LIofYNLLlcnpyf8LarqVbnDGVhtyqjutxY5Gyq2lra+GD1GUe11QprSZwTPKFXF68Gve4F3KlXu/z3az9UD6quqFDgLxiV3b7vby9T67dg15pqQ0ggsSpsd2sqv9JWgFlv1ZSp9o/VlT7Rqkpyq3O7x/pq0VNvMfyMdTpVa3OWWhj7xaUqfHzxjd0gLqZic57XlKq1rfRnt37z9++khrZecW8tbz5l2ePbma2pylko96SpwVmrp2J6uDCWpXq6gzyQlK7mDRoI95pJ0rduwuIMWcHZNGGua1eyR7+zrhSyyTcpWgaNBlQ+ENJtW/dYlGnNDvhymlqntSrAqMfj1XmdoC08AAPoRkm8AECvxaUq7yTyze5z7Wh/bcbqbZLPZOjdZ/ZeKu1Xlf5RPkjp4/Kx3qFblK0Ev4y0dXPj62TRhSugV+e590aQPzh7nW5WtF+RRf67u210VlOiK795Wq4PXJckS5TllS0kNfTx1j6M1uVPVmmzuOQ7t3uv7tc4lj/lvpMPJGvVna8+EG4KTjvVyuvy/x+Y897xVoZCno6P9DOOnKiQ9ussRup4w3FuXaMy4HFU1S/JUqqK6i48tdqhJ7s/M886iG9JCHptua7Csl5pm7auJKnl5blmV+liFSm42nXm7cjTvN53Ye1ti6N+2p0ENwa8BAOhHSL4BQAylpHTY+1SXNTR074K2Keh3R20nLqjOGZecXWw2YR06NOS1pzOtN86G5qC2MHs7Tm70mODj4AhKenWB60iXvxyFfDtBh8JZG+s+otxyt9t/W+zYbJGaaMXmPHcd6eK3a+6bMaTmCM96RXLQe9wqvjFN+b2p77OeEp/StmVbiLYJUalajlrTrF7JqozVeUo1zXU8nK8q0zwAANAxkm8AEEPJ99eoaK55bs+of2N3jz3C4/qse4m8c2Lv7qiTVMmjQh+h6t1c5yYhdKTBN/BCT+hgEIpgSck6d99OhSrfMc/rZWJ0nldH3fozWWNGm+d1YOxSVWzODErAVStn/qrOPbJ4XkjW0j1FbQYeCZaSPs/UctGhird674OnIUbMU3bIo8ySPBWq6IuJVAAAYozkGwCcr7aXdzDqYvTqt1R0q9XT2TI45FW9XNFmH02P2PVM32GxUq6y4EeCz5b6UlV0p0WO6RjX10f55Zgfd02xR+zjrOdbaHpU/nK0qa1YsmtCUCPZmJznpuPsPBztSi2hj9mOjW70XuvcQhUtCGoztzdXU39W3oMJ3vPElAxlm07x8k2lvbjft2A2jWnTV59DNftNswAAQIdIvgHAeSRxRHBaolTrNkZ7AS3pSKHmLfM/MGTqCHzvehX6+8HqkEflP8tS8Vm/irbLPin4dYWqonwqMTQRlKa064Ne9gLJo0NbLBVvLI7+4rw2X3OWRXkgTOzjgtMoDq3/XfSJKM+Whcp6vvUksI8L/QwVVbtDXkdU7wppwZl2w4TWF6aEUXV19PsXWWJIp/zONetV0YkWWRX3Zam4E392kYSck5Y0TR3lfxGb8zx5dNBxleSpqowy4V4vZ1BS1jJjasTkaCiL0jdUKi/os7ifn6O0NT3xHfq17VOt1z1SHp+mpb80pStfWqfCI6Gzusq9ZaFmPt6TxzSU7Yrovu2oWEyPmAMA0I+QfAOAs6mxXFnJS7rcZ47l+rSQVidVy5aqNMokWMVjS+S+xn8hlaypM0LGMFT+6vLoEj6165WzPVkpoR1BnQXJSp8deiFYtDW6I9nkDvRmL03J0BxzN0zn2vVpoZ3av7RS66NqheZR+S9XytLFvgWTU9NCR7Jcs1LlUbWmdGr9gxVKDjoJkmelhyZlXiiP7jxvdKv120lVxuzWLyf5+qmhj+w9X6jiqPavPSmaOivopWe9lkSbEDqyXrlPDe2RETWdeyoDv1sWZAT1rRWj89w8OMCuclVElURsUEOgYrAo+yZzL2DtiLdr6Sslygz6EquXzdOqHnts0abEkJFnz32rLM+WLF11T+j3lXxnnrJD6ssq5a6O7jttl7tcixe5lH1n1/7+o+HYY/7bSNGEcaZZkdSZ+q8cmxw6AAMAAP0IyTcAOIuqHsxS6dysNp1YR21UujKCLzY9xZo3a5UcHWXNdizRvKdSQhIbqTdlhyQ2PM9nKWdH0Ixwmh3KvzlHnluyonr0rKfZFy0NOXaeZ4qiarUU3GIq457s3ncBaJujjCnBMxzKWVTYYZ9+7i3Zyno+TfPmmh8Ni5L5kThPsbIe7Dgp4FgzTzmNmcoKbj05domWBn8GT6GKonl8dk9Qn2Y3LVH2iKAy8/6pVCufiq69ll+4R1XTZoeOUel4cKqyXuooi12vwluXqDokUdZV1Srb5P+jtWvlfSGp19ic5wmZWnxn8MGsUOGmjs4wSfuqFWh4l7RUi819gHXEmqH1Lwb3/+ZQbmqWyjs63FGakBp67NyNHVWGMdRcpZxbS5X+Y9MZkpCuvN8FHwPJ/WS6srZ04yA0O5Q/a47ca4uUGasbIc0VKt9kmjclW1khCc92NIeMnyKNi/xIOQAAfR3JNwA4SzxbFyr9SYuW3tqdS3e7ljwYerGpXbkaM26hSmvDX3S6d+Rqwg3r5bklNzSxMWOpVoaM1OfW+hsmaNXe8OuRx6H16VOVsytdK+/rQurN0wMjS45YrPy7g640PeuV+1QHCYTmClW85Ps9ably53cxURVTNmU/mBnaymv7QtlvLZU7QtLFvXWJJtxYrKEP5CozwVwapTCPxLmfnKoJjzsitIL0yPHkTE1dVq30x3JMCVibFq9ZHJRg8Gj9g+s7TCBWvFLq+y1Zy83HID5Ni+8PvVx3LJvX/siZwSPHRngM0TI/R4tDEhZuFWcka+aaqvDH2+NUYYZdC7e3TZR1hfuFXK3yHRjr3YVaGnjk1CdG53nag+tCWlhWLVvZYVKv/pWyQHK07XceHevcIlWuDnos2V2sObPye2QABltKakiS0VnXNtl6dnhUvihd6y1LlT3NXBbmGPhGgY1Y37an2aH8G8Zopb1MRTfHKvMm1W9cpfUhu2dR5oOduHnhCB0sJH1W9/92AAA4bxkAgPaVZxuSWqexecYB8zIdceQZqfEylLTcqDGX+ZTcHO02Dhh5k4KWDZpsMzKN5b8tMUpeLDGKVi810sdbvGXWTKOswbwewzDeWm4kh1mP/ZY8o+StA4bL5TJce7YZRaszDXu8tyxlbaQ9qzQWW4LWM7vAaN1kg1F2S7KxuCJ4+TIjM3ibj0U6MiYny4xsa/D+phkFh80LtWooTvctZzdWOsylrWoeswetM9MoMy8QbH+eYQ/a9/TiJvMSrUzLZm42L+DXYBTNDf5cvsmWaiz97TajxuUyXK4Dxu7ydcbSaTZvmTXbKDtpXk8nndltLE8Ks93RmUbei7uNAy6X4XLVGNt+l2dkjvaVTYp0fjYZZQusIetJ2+AyL9SqochI9y0X8ftv833LkFKM5a+HOaE/KzMWjzItO7co6Dxs1VSebVjNn1kyZEkx0u/NM4peLDFKXlxnLL85zbD5z/3V4ffxwOrgc8durNzTzvnQUGZk+j/PpDyj5ox5AZ82n7tnzvMDa1NCPq/17krzIq2Czg3LzSVhj6NhhDnHS80LGGHrLestZZHXGTVTvXNLu3+5YZUtCN0v++rwZ3d7atamGpKM5IfCnyNeDca2u5NDtiXZjPTVlUZDpPPAzHeOW2cVRD53/F5fbFiCt9VuXAnVULXcSAnZz85/X6HnWppR0E5VAABAX0fyDQA64HrCe1HVOmUYRVEnPJqMAy9mBxJXkS/MdhvLbUHbsCw2trV3YdVQZmQHL9/uZDOyN0e+ZHIVZ4RPQoSZbAvau/hqMopuCl0+eX6eUfSiL1k0o8AIufY6vM5IDV7/lHWh5e1xFBhpwYkJa4ZRFCYx0XoBaTUy2zkGhtFkSnylt/8dv7XcsAUflwd2m5doVZoZckzavbBvqDSWR0istpniU428dpIsnXK4yMhok+CKMNmywydy/c7UGAWzghNwViOjOMw3G/RZO7yod+S1SQRIMizj033J5iIj75YUwyIZ1lsyAwm9wHI2m2Gz2Yy034Yee3/CJKppSuREmet3/sSXfwqfUGnaXxA4zlElT3r8PDfCJoBSHqhse/zPuIyim3zfY3tJQqNtkidiItX8Ny8ZKY/VGO2kKqNSebfvJoNkaPTKiDc4wnMZ66aE7pNuKop+n5oOGCW3+5OvycbyPeYFzJqMmifSQ+oPyZv0zVxdZtQ0hNtyk9GwZ5ux7nbvOZ58d1mbcyuc0KRwlMm3JpexbXWY/Wvn/I8kJKnZmfodAIA+iOQbAETS5DJ2P5sdtmWYLClG+u3ZRnY7U/okm2ELbpER6cLsTJOxe21aaAsFyUh5YJvhai8B1FBp5M32tYCKNMWnGsur2lxWt9FQvjSQIAw/WY201WEu0M1eXxw+kWdK2DQd3mbkhSRovFPygpIIF59hfFZmLPW3xJIMyWKkzF1urHuxxCj5XZ6RPcN3bGzpRl67x6DJcFUsDWm5I8mw3lRg1IQ5/k2ubWESZCnGyrca2lywNx0uMxabW5VZM4yCPW2XDWiqMdZ19L2OyjZKwiRhuqXN8Ww7WWflGZXtHUq/Mw1G2b2hF/4hibLb/a3JfEkq8/vDOVxkZHSQcE59qNJoMLWoDCQ1wnyXhmEYrtLW5HikyTa/yHB1kHho2l9iZPtbmvqneKthn5Hpqw/853snPrMR7nvp6nkeLEwCaESakb26yCh5scRY91C6keKru+y3l7Tz2ZuMBmeYv4dI5/hnJUZmSJ3oP74F0f/dh7MnuAVvB4nzIE2u3UbBAnNLNO9kGZ/epk4PndKNlBG20Hq7nZbNbXxWaeTdFOnv3GLYRth8U1A9OSLDyAvX4tOsqcGoeTFC7LLajJS52UZ2oHWnd1r3ULaROSO5TRxSvM3I6Mz5GlBjrAw6bzPaax0MAEA/QPINAMw2h7ZU6rEpTKuDNi0Twk1h3hesobrAWD43JSTRZ7F5Ew4HOnO903TAKFudaaTYghIIVruRdm+BsdsV/YoaqvKMjFG+dViSjbR7S4L2w5QYiTR18JlbNRmut3yfP7iFkMVm2GdkG3nlB9omAIJEdfz9j6CaHq2LNGVujnZZu5G337xHrRqqC4ylM+yGNZAYshi2SZlGXnmN0RQxGdJdTcaB8jwjc1JQUiHeathnLDUK3nK1eyzDaXLtNgoeSjdSghMIshi20WlGdmfPT8Ob1Nv97FIjbXTQ+iw2I+WWPKNsv39l3nPMMr4Tx6rpgFG2Ojt0vf7PXd25tEPT4R7+zIbR7fM8opM1vs8dmkSyjkgx0h8qMHZ/Zn5DkCjryUBLz6iWb/9vIjKXUTCjdT2RH+32KrvFvN2emdpt1RrJSZex+8U8Y+nclNBEm7znoG1EipH+0DpjmyOKbziqY9z+ZB1hM2yj04zMe/OMoooo/37CcRUYaf71dtSSGwCAfiDOMAzD3A8cAAAAcN7YsURDb1gvtyTL3ZVqeqI7A9uguzwvzNHgzHJJUtoGl7bdHvUwDQAA9EmMdgoAAIDz27SVKrzZO8Kr55miDkdxRSx5VPqCN/GmpOXKW0DiDQAAkm8AAAA4z1mV8dsSZVoledZr1cZ68wI4W2rXa+UWSUrW8k0rlRJvXgAAgP6H5BsAAADOf9Z0rf9dpqySKu5ZqvJG8wKIPbdKH86VQ1LK6jKtnGQuBwCgf6LPNwAAAPQZjt9M1Zj7qmS9pUzO36XLal4AMePekqXkG4sljj0AACFo+QYAAIA+w35vpWo2pEnPz1HaGoe5GLGyL19pNxZLt5TI+SyJNwAAgpF8AwAAQJ9iv32bnOWL5V42VTOfIQEXc/sKNTM1R5aHKuX8XYas9PMGAEAIkm8AAADoc6yz1+nAZ0VKWTtBV91TLjcjoMaAR85NC3VVSqFStzSo8peptHgDACAM+nwDAABAH+aRc1OuFu5J17ZfppkL0Q3Op+Ypp3Gx1t+dJpvFXAoAAPxIvgEAAAAAAAAxwmOnAAAAAAAAQIyQfAMAAAAAAABihOQbAAAAAAAAECMk3wAAAAAAAIAYIfkGAAAAAAAAxAjJNwAAAAAAACBGSL4BAAAAAAAAMULyDQAAAAAAAIgRkm8AAAAAAABAjJB8AwAAAAAAAGKE5BsAAAAAAAAQIyTfAAAAAAAAgBgh+QYAAAAAAADECMk3AAAAAAAAIEZIvgEAAAAAAAAxQvINAAAAAAAAiBGSbwAAAAAAAECMkHwDAAAAAAAAYoTkGwAAAAAAABAjJN8AAAAAAACAGCH5BgAAAAAAAMQIyTcAAAAAAAAgRki+AQAAAAAAADFC8g0AAAAAAACIEZJvAAAAAAAAQIyQfAMAAAAAAABihOQb0MM8DTUqfP3nSvxTtvLrzaVd1LhDC1+apbiX7ldhT60TAHCWnFb9wa3K2XqL4rYUy2ku7ipiAwCcv1pOy7GvWFn/M0dxFTvMpV3m3ve4EjfNUuLLW3su3gDoNpJvQE9xv6mcv2QredvPtbC+RvWGeYFuOPK6CpslNb+j/IOHzKUAgF6q/v0nNXPLLUp8c63yG3s4Q0ZsAIDzUvXbyzW17CaN2bNRxU2nzcXdUvlxheol1X/+J5X2cNgB0HUk34CeYv2u8n5YKNf42bKYy7prxA3KjpcUP15LrxxpLgUA9FK26+7Wtrl/1LbLEsxF3UdsAIDzUsrEVaq88XmtG2Iu6b6p30yTTZLt4n9Rhs1cCuBcIfkG9LQEm5LN87orYZoKbnpFxk1rlB2DIFr/9tqee0S2B/S2/QGA7kq2DDPP6r5+FhsqXntS5eaZAHDeGqbkHr9jL1lHPyDX/Ffk+v7snr8m6YV1cW/bHyASkm9Af9fyjlYefM8899zpbfsDAP1Rb6uLj/1JuZ82mucCAM6m3lYX97b9AdpB8g3o1xpV/toKrW8xzz9Xetv+AEB/1Mvq4pZDyq96WlXm+QCAs6e31cW9bX+ADpB8A/qrluMq///u1JxjveRuUW/bHwDoj3pbXXymVutf+blymswFAICzprfVxb1tf4AoxBmG0ZNjMgLnvzPHVV1TpBznX+RKfEo1k0fKfaBY2XuLVPrlaSkuQSmX3q2SqWlKHmh+s6T6Yo15faMcGqm8Gwq11NwPz+e1Kvz7k8o/WitHs290owHDlGKdr/UT/0WpF5uWl+Spf0eF+zdq5SeNyplmWueZ46r+4C/Kcxap+OsPyEibJjXWaP2b+co5dkgeDZLt4iyVTs1Uqr+/b/ebWvL6Cq33hBtdKcx+n6lX6RuPKzewz4NktYxSdtIDWjnO5htg4pDyt2QrxxP0Pp/Mca+oaHSY8uGPePe3s/sDAGeb55DK392o3I92yD7mFRWNPi3nnnWaV7tN1c2npQE2ZVy+VIWTxss6wPxmybkzW1cdOiRZFujA3My2/fD0dGzwHFLFe3/WqsOtsUxHdyjnrad9o64OUsplD6h82jTZ/PvbybrY80mFcncXqfDUIbkNSXEJsg9J08oJdyjjG4N8S4Wp+306jA1H/qSpbz2tquagsoA0lc1/QOnm2QBwNnUzNpRXzNKcY0H1non70FatfO9PrfWsJEv8KGWMvEPrx4dZZ8tpOeo2q/CDPyu/eXbbeNOV2NDJujiq2BC4XjLzrS9MuTdmdH5/gN6C5BsQUKvCiqeV/3lN4MLHPrJQZYOe1ITad+Q2Lx6fprJZDyjdPIBde8m3+q2aWbVWFc2jtHLyf2r5yEGSp1brX71fS042etf5wweUPti3/KcVWvh2kUoCATd4nadVvXO5slw1cpzxXSgNf0TG6OOaufNJVWqYrGpUvf8iLuFuuWbfqJAcVnv76vfxZs3cWSTryEe0/ttjZPvaaTlq8jVnX4WckmyXPCLHjGmySpJOq762SBnvFKvKV7NkjC5TyThfoG2p1aryO5X75SgtH79KuaOGhY4MG83+AMDZdPId5b7xtIpP1srpewwzc1yZlnyWran1YUYjGHKHan7wL7KbLojaTb71aGyoV+lrjyv3eGsSzz6yUJXD/6wJ1X9Rw8AEWYzW2GD9xho1/K/xgV2RoquLHbvvV9rBBOVOuFvZVw6TxXNIpVXLNe9ovaRhyh5XqILR/gDZzdiw73HF7angogpA79FDsaG95Juz+n7vNcjgTO3+xwVKsUieQ3/SnLefVkWzZL1klVwzvhuoL5171mph3euq8PhaLofEmx6IDVHUxZ2KDWeOq+Kt5Zr5Ua3v3d9VyY9WKcPfuOHIRo2pKpZjSKa2pWYpbaj/po5PFPsD9CY8dgoEjFJ22hrV3LhKi/2B8WSRsurHqCStTMb8V9T0j2u03H/x01yheW/uUJib+RFVfbBBFc2ShmZ5L64kyTJKi8fPl13edRYdDHrDZWkqmF2ohvGzQy9EJO+dqclrVPOjoGHKTxVp3t5GLZ9epqab/ijXTWU6cNUYb1njn1UU5n+BdjW9qYU7n5Tl6kKVTBwj20BJAwbJPu4B7b7uu5Kk+qP5WrzP30pikGyjFqhy6gKl+OaUf/Jma+LyyDYVekYpb+pTWmm+uAKA3ujC8Vo56ykd+N4dSvXNcn+cr8VfZqpmti823HCfMuJ9haee1rxdh4JW0LGejQ02ZXzvP0NiWcNn+Zr30bdUNrdMDT/6o1w3vaRtl3kvftyfbFV5J/t287z/uKZ+OEj5sx7R4it9dbllpDJmPKWiiyXpuAprnlR54HEgYgOAPibmseEd5Tu9N/8zk72JN0myjPwXFXxzpCTJfXSbKoLekTzuPm2b21q/h+qFsWHgMKVNfUo1I0f5ZtSo5IPWLg+qD1bIMXiBan6woG3iDTgPkXwDzAYMCzxO6vxqvEq/v0Bpw70VvmXoeK2cuUrZvkDqObZJRW2axEWWfKE3uNgGDwstsI0MXJC4T4d53CfB1vYRpYCgYcoHzlbhzMyQAJU85oe+O0GHtLsT+ypJjuonVdg8TdnfahvErbYU3z43qvjQttAk5DczVZLk/ayehhVKe+uQ1LhDWbv/otRxa7T0m8ELA8B5YHhrPewc+M+q+MfZsif4YoNttkpS7wjU446P/typDqBjEhuCYpkuWqCy76XJHshqDVJa0g99LaFr5fjMPz8atVr5foXcQ2crs01oSFDqUN9FVEuF1u837TOxAUBfE7PYMFIpXx8kaZgS/Tf+fZIv9ierGuUO0+dZssUUS4L1wthgn/yA8gbLe01Rc7/y6yX3vseV9ukYlU3PbNNaEDhfkXwD2pF88bda+zvwG/xdrRzpa02mGlV8ZCpvhy1ljYz5r8j1D/73t+Vs6mzztCCDhrXt+2Hwhb5HQjvrkMqP1UvaoXmlsxS3yTS99rSq/Yt+2SBX6JuVfP0alQ33Rt/quuUaU/G4HN/8TxUFHkMCgPNTyqVj2tartn9Rnr+1Qcs7qvjYvEBksY4NQy8I05rsggs11DwvGvVvqvRLSQ0r2saFTbN0VZ3/8aHw+0xsANBX9WxsGKbsH5bJmP9H5V1lLvOrl+tz87zo9Z7YMFJLpz+izHhJqlXOm9masPeQcieH6d4HOI+RfAO6wJY43vsokKTqxs40ITfxHFLF209q5ubHVWwuO+cOabdHvn4UXpHR3mTuv0iSlKD07y71BdJ6OVp+qPWTvM3kAaAvSrvE3z/OIdWcMBV2Rm+ODe6D3g6whz/SNhaYpprJ4ep8YgOA/qWnYoOn/h2tf/3nuqom+GHTXqK7sSFhmtbb07zJyy8PqeGyO2gNjT6H5BvQFd+8JtCEvCs89RXK2XqL4v5nuVZ9MUp5/7BUmeaFzjX3cXnvS4Vv0h6VhGlan+RrydG8WVlvtN71AoA+Z/g1gRszXXE+xIb6L3wtFppPdqrP0xDEBgD9SXdiQ8tpOfY8qZn/PUeD39go50V3qHJU21FRz7WeiA3W0Xcoz9fSzf1JvnKD+zoF+gCSb0A3JQ8OMwxcJC31Kv7bTzT49SdVPWypGm56XttumK0UX59yvYp1mK/PhzdV1tXg93Gx0j48rexLvP08OD++X1n7WjtSBYC+aZiSTX30tOs8ig22r/ti3ufvqKKTnXEHEBsA9EudjA1Ht2re5jkaU3tI6d9+XsaP/lN53xkj26C+GRscO5drYUuasgdLUr1W7X5c5YQG9CEk34CuCLQKG6m0y6INgI0qf+1OZTUcl33kf2rb5PFt+2frVWyBDlmL92+UI2IgPaT81/7kOx5BGncoa+cm2ceuUcGMNb5RjhpVXJOvUgIpgL7o1DE5JUnjNXWEuTCS8yw2DPbfmKlQTnsj99UXa+Hbx81ziQ0A+p+uxIbGHcp6fa1Km0cqL3WNll7VziAKvUE3Y4N73+Oa+vFIlU1/QAXT7/MOFtdcoXlv7GgdGRs4z5F8A7qi/j3v0N5DZisr2oZv7grlH2v09nfzjTB9HfQ6o5R1me/DeYo1tWKrnGfMy5yWY+fjKhw43hdwfVoOKf/V4E60E5Q51deRassOzXu1uJ1kHgD0chHqL+fRd+SRZLlsttKjTaCdb7HhypnKvsD7q+PQzzXv3fq2jxidqdWqXVtl+4bpYpHYAKAvi1B/dSU21H+wScXNkuLHa2q01xrnUndiw8fFSgseYCFhtorGeft/8zSsUNrOdpJ5wHmE5BvQDsexN9u26Go5pPzaCkkjtXL8v4QmnUw8X5nnSFKjSg/XBAWk03LueT106PGWQyqsrgme49Oohi/N8yJtp636L0x3mr42yDfK0SHt9t9WaqzQqmrvcvZv36FM3z8JbvdaXfXnbM2p/JNK36tQ6dsbNWfLTRrz8UjlpfiHPJevFcfPtfLrD6giuEPVhGkq+vaN3o5UmzYqK9xdsQ72BwB6g9Kj75hnSY07lPvxIWnANBVN9HeuHc6XbS9IpNjEBvOMsI7Leco0q926eJRyrp7mK29U6Qe3aPCW5cp9u0Kl71VofeVyjfnzncobcrdyQ1p4dCM2xPl/qZXDH5QPFiv/w9ZFAOBc61ZsiPS/fPObKqk73fr6TL1KXa1xwPOVpI83q/BA6yIBLSfDthrrcmxoty7uYmwIag0dPMCCdfQDKv+Gb2TsQ48rP9wose3uD9D7kHwD2nPqaaX8bascjd6g52msVWHFz5XTlKDMMWu0vM0oPKflOLDNO9qPDqnow3fk9t8Fs05Tpq8TUWf9zzX0f5Zr4fblmvDSnVo/aLayfWN9Ow7dqaGbH5f7G77OqEPWeVylH9XKE3xn7fMKlfhHTnJvU3FDUICW5P7gzcDFW8UnFaGt1y4br3TfXarivdmas325xvxtp1JG++5IJUxT4XcXKNUf3IxDKv/oac2reVzzDhSr3DNSeZMfULq//4qW46r6f/drzrFGTb14TNvhyy/5VuCOX/WhOzW18h3Vd2Z/AKAX8Hy63Ft/+a5gPMfeUe6rK1TcPEorv/uAMnx1fcCZWhV/6ksqeXao8EDQDYUYxQbPkW0q8u2f49Ntqg652jot5+Gdvvc2qvzIm62xSh3XxdZvPaDdI4Nuunje1KoDj2tezeNa8tGbclgWqPJ/fbc1BnQ3NoycrAxJ0iHlVP1cWX/7uRLfG6SMq4OWAYBzrNOx4fMKFfmzYye2qvCT1v/hbVfOVJokqV75b92kCS+v1cKXs5X4102yXJnmG8DhkHLfuElD32nU1Ct9bwyON2feVPmh0OuCbsWGDuriTseGz1uPz9RvtO3Gxz50vG/ZWuVU3qnc2uOhicMO9gfobeIMwzDMM4H+7ZDyt2QrxyPZR67SytNFyvmsRs4WSXEJsg9J08oJdyijTZDYoaxNK1RsmitJmeNeUdFoSY01yq98XDmf10sapOSLs1Q0OVOpF0vOt+/UVQdqZRk8W0VT7lPGJd5+Eca8vtEXBIONVN4NhbLXzNKcY+YySZYFOjB3pHI72h9575bNe/NplZ6RrEN+qKJ/uFvpF5ve8Pk7Wv/201rprlW97zikDMvS+on/otSgZcsrQvfHPrKwdTjxiJ8lTWXzH/D27aAo9wcAzrrWOj7z2v/U1GNPKvd4rdyGpAHDlGKd36ZOlCTte1xxeypMMxVa9/VobHhEessbw9oY/oiMMYfaeW+hlvqbc0dRF7sP/EmL921S6SnfBVH8KGWOvEPrx4f2W9cTscFd+6TS/r5Z1S2DlHzxApXN+BfZff2SAsC507XY4NyZrasOhWnpa1mgA3MzlSzJXVes7HeKVHrmtDTApozLl6pw0nhZBxzS+vI7teSUlHLZAyqfNk22AR2tc5pKfdc3bXQiNkRTF0cXG8zXTaHbifhZhj8iI611tNdo9gfoLUi+AW0EJ9+CLhAAAP1Y0AVW8A0MAEA/RmwAEB0eOwUAAAAAAABihOQbAAAAAAAAECMk3wAAAAAAAIAYIfkGmHgObVNhxFGA+rby8nJt2LBBGzZsMBcBQD92WvV/36ZS36vSIxWho3H2cf64QGwAgGDEhg0bNuivf/2ruQhAGCTfAL/6Yo3ZNEuDdxa3jvTjKdaELbMUV7EjdNk+7I477tDbb79tng0A/dO+xxW3aY4S39/hHbVNkqfhcSX+9yyN2RlmJLY+6OTJk7rjjjt06tQpcxEA9E/EBr311lu64447zLMBRMBopwACysvLNWfOHC1atEhPP/20uRgA0A/l5+crJydHa9eu1b333msuBgD0Q7fffrsKCgr0l7/8RT/4wQ/MxQBMaPkGAAAAAAAAxAjJNwAAAAAAACBGSL4BAAAAAAAAMULyDQAAAAAAAIgRkm8AAAAAAABAjJB8AwAAQIfi4uLMswAAABAFkm8AAAAAAABAjJB8AwAAAAAAAGKE5BsAAAAAAAAQIyTfAAAAAAAAgBgh+QYAAAAAAADECMk3oJ969dVXtWDBAq1YsUKvvvqq6urqzIvoueee03PPPacFCxboueeeMxcDAPoYYgMAwGzFihWBKVxsqKur03PPPacVK1ZowYIFevXVV0PKAUhxhmEY5pkA+ocVK1bo0UcfDbwePXq09u3bp2uvvVYffPBBYH5SUpKcTmfgNQCg75oxY0bIhdOVV16pgwcPatSoUaqtrQ3Mnz59urZv3x54DQDou6644godOXJEFotFHo9HY8eO1d69ewPXD3633XabNm7cGPJeACTfgH4vOTlZ9fX18ng8gXkDBgxQS0tL4LXT6VRSUlLgNQCgb7viiivU2Ngot9utr33ta/rqq68CZVarVQkJCTp8+HDIewAAfVddXZ2uv/56NTc3y+12t7lesFgsmjJlCjdlgAh47BTo57Zv3y6r1RoyLziQbty4kcQbAPQzzz//fOD34MSbJLnd7pByAEDfl5SUpCVLlsjtdkum6wX5bsyQeAMiG/Bo8DNnAPodq9WqU6dOtembIT4+XrfeemvIY6kAgP4hKSlJX375ZZvYIEmPPvqobrvtNvNsAEAfN336dMXFxemNN95Qc3NzSNmWLVu4YQ+0g8dOAUimR4z8qB4AoH9LTExUfX194LXNZpPL5QpZBgDQf9TV1SklJSXkmoH+oYGO8dgpAEnSr371q0AQTUhIoMUbAED/9m//pvj4eMnXIvrf/u3fzIsAAPqRpKQk/ehHP1JCQkJg3iOPPBKyDIC2aPkGICC4hQODLAAA/B1sHz16VKJFNABA0quvvqoZM2ZIkkaMGMEAPEAUaPkGIMDfoiEpKYnEGwBASUlJ+qd/+ifJ19cbAADTp0/XiBEjJEkLFy40FwMIg5ZvAEJcccUVWrhwIc3HAQBSUAsHWkQDAPyee+45LViwgBbRQJRIviFmqqur9cwzz6i6utpchF7sww8/1NVXX22ejfPUwoULlZ2dbZ4NnDPbt2/XM888Q8fM55mamhqNGTPGPBvnIavVqttvv10ZGRnmIuCceemll7Rhw4aQTvzR+3Hd0HckJSXp9ttvV1pamrkIPYTkG2LmwQcf1Msvv2yejV7u9OnTGjRokHk2zlPx8fF68cUXNXLkSHMRcE5kZmbqgw8+MM9GL0ds6FsuueQS/eUvfzHPBs6Z2bNn67PPPjPPRi9HbOhbRo0apT/84Q/m2eghJN8QM/7k2/e//30y6MA58Itf/EKSVFpaSvINvYY/+bZo0SJdddVV5mIAMfaLX/xC8fHxeuONN8xFwDkzZcoUNTc36z/+4z/MRQBirK6uTv/1X/9F8i3GSL4hZoKTb4899pi5GEAMOZ1OzZ8/XyL5hl4mOPm2aNEiczGAGKqoqNCyZctIvqHX8Sfffv3rX2vmzJnmYgAxVFBQQPLtLGC0UwAAAAAAACBGSL4BAAAAAAAAMULyDQAAAAAAAIgRkm8AAAAAAABAjJB8AwAAAAAAAGKE5BsAAAAAAAAQIyTfAAAAAAAAgBgh+QYAAAAAAADECMk3AAAAAAAAIEZIvgEAAAAAAAAxQvINAAAAAAAAiBGSbwAAAAAAAECMkHwDAAAAAAAAYoTkGwAAAAAAABAjJN8AAAAAAACAGCH5BgAAAAAAAMQIyTcAAAAAAAAgRki+AQAAAAAAADFC8g0AAAAAAACIEZJvAAAAAAAAQIyQfAMAAAAAAABipA8n31p05uAhla/YrWX/sEvlR8zlAIB+p6VJH1W9r2cW7NR9t76vT8zlAID+h9gAAIixvpl8+7BWz9xRreWZLv1t6xk1t5gXQJ/Q2KDyNbWaMPg9jVnzubm0Q576Yyq8b78SB+5Tfq259Oxq3Zf3lLXFXHr2ubd8qMS495SYfkROc2GXtcizr175t76vwXEfqtxcDMTYR3/+u/Iz/678e91yOMyl6Cu6V582q37Xx8pJ26e4cQd7sP7riuA689zHKREb0EcRG/qHbsWG5i/l2HpQWSnvKe7WenPpWdbbYkOLHL95X3Fx72nMss/kMRd3Va865kDP6JvJt6tH6fanJ2nFAxeYS9AnHNf6jPd11aUfa86yL1Xd2Vq+vl4539+n5CvqtfA3p1XfbF7gLHJ/qtzesi9BKjd5VC+pfmujSnsiqL9zRPNS92uo/Zhynm/uucAMdMLl//xtLf3jt5SRai5Bn9DNur1+q1Mzx32gxOsblL/9HN+129s760xiA/oiYkMf183YUP1UraZeU6sx6Y0qfsdcepb1ytjQqPJnvQfVseaEKszFXdCrjjnQg/pm8s1nsDXePAt9wjAtLr1OBz4bqnRzUTRsNuW9PFqul78ui7nsbLNeppUvj5br9a/LZi47h6bOt8gmyTY7QRmjzKVdMH6ESqpGy/kEf5M41xL0dat5HvoEf91eNaRL9altdrK27blO2+6MMxedfWO9dabr2UHmknOK2IC+i9jQZ3UzNqTcOUqVziu1boq55BzolbEhQek/89bh9vsvUpq5uAt61TEHelCfTr6hj0sYrKmjzTM74YqvKdk871y55Gsaap53DlnnXi2X8S25ykf06DGyJXGBBSDGxl/QjX/+Byg5uff8a2S9pPfsi4gNAM5n3YoNCUq+xjzv3OldsWGA7PdeJ8P4lmpWX9qDDRt61zEHekJv+ssFOulrsvD/OgAgWHwvaLkGAOhdiA0AzjGSb+iUFStWmGcBAPq5V1991TwLANDPPffcc+ZZANBv9c/k2469um/KzjbTMztMy7WckKP07/r1ja3LLLtxt54p/UgnA30xH1P5rW3Xdd+UXSo/Eryytsu12d55oK6uTldccYXq6urMRQBwXtu9wlyP79R9U/Zqt3nB08e08z/f0cofti63POsd/XHbMZ0JLHRIz7RZV7j1mZczx47zw4oVK7g5A6BPijY2nDlSpz/es0vL/5dvmf/1llbe8552HmmNDJGuQe5bcSh4VW2Xu/V9fRK6xHmB2AAArfpn8m3aWK3K9Y6EGn/1EGVsvEa//n+Tdfu0oGVOHtbvMx3a/LFV//rHSVr7xgTlrrdqRMsZOVYf0a/u2q+PWiRpuNKfvkY/mR10KFOHa8X/m6T0EUHr03Cl/26CfjJT0oCBmv67b4du7zyRlJSkI0eO6IYbbuiFwbRZzk1OzbziPcXFvae4wfs08z5Xp0c1CtF8StUbnZppr/GuM+49xQ3dp5n3fazqox2Mhnf0M62/9X0lDva9L+49JV5fq/U7TpmXjKz2oMb4txs0jVnzuXnJ9nVmX5q/lGP7YeWk7VPcuINymssbG1S+plYTBvuHam+Wc9OHmjC09bjPW/OZ3FEd9y9U9aR3XXFx7ynuilrlv/GFeaFWzae8yye2fo7Bie8r68kw2/N4TEOUt6j+pQ81ZuB7ihu4Twu3tLMd9EsTHmkd7W5YxqW6c/O3tfaNsZoQvNDBWj3xLwf09yu+obs2T9ba//dtLV01RPF1X2rn8lo9+vghNUmSRuq2V0Zqur31rRfePEK/Nq9PI3X7/0vStKslDR+in5R9xxQ7zg+XXHKJHn300d55c8Zfb/jrmaHvK+vJY3Kbl+uMbsQGT61LOWn7NHSg730DazQmzanSWnMl1o4tH7aJC3Fx/jo5ep3al3ZjQ4s8++qVf+v7Ghz3ocolyfO5She9H1j34GtqlR8u5oTVydjg+Vyl9+3XGH8cintPQ+37lbPp87ajARIb0Ekdx4YWffTnd/ToXSc07M5RevT/m6y126/ST2bH6fibjfrjT97RczsavYtOu06rNlr1jQH+935Nk5+eoLWPjAyszbvcWK0tukjDJA2e/Q3lFlynb4QucV6wWq169NFHlZyc3D9iw9HjKgxXF2083vb/VJNO1ceRnIvY4GlU9abgOjVYs+p3fRwaN45+pvyMfRrsPz7Xfxh+veG4j2n9re8H3puYcVBV7X1hnYkNjSe8cf0K/3XWF6pas1+Jce8pbvD7yt/XfmwHotE/k2/uwyp5/kt942cjtaJorKbZh2lgIAjK20rtno+1f/pI/fuSkbp88ABJAzVs4nW6J+8iXSip+d3j2vjCMe/ig4dpcm6Spl/re/tpSSHr82vWmWbpwn9N1I3XDjYXnhe+973vSZIaGxv16KOP9qIEXLMq7qnVVT/+QhX+ViOeFlX85rgSU+var5gjcX+qJfY6TXjsKy1+6WoZxrdknPymSm6SKn7ToAmJtcoNezHQovoXapV46WcqHTdU1Q3fkmFcJ9eLFnl2faklN9Rp6m8azG8Kb9SVqqnyjYRqG6Tl5d9UQ9O3VHP/xeYlI+jcvjg3faiZ4z7UmLQTyt9uCjLuT5Wb8b6uuvRjzVn2pao9kvSlqu6r1VU/9qjaf4w9LSpd9qmG3nBYjvZiaXODCr9/SBkvSRNuuUApFklHvlRO6kcqDNfyx/d9LHUmqGj/aO/nqEjQVE+ziu8J3t5pVa/ZrzHXfBgyRLl7S53sGR7vMs0tKvzlsbaJRfRjLTpZdVCv7B2oaQXfUu6yq3TNZaZ6uumQnrvrmAYusev2jEQNGyRpwGBdPnOsfvGI94ZO058/0e93eNNvAy9M1I1PfEP2C31vb5YGBq/Pb8BX0hfSNT9P0uThYZfo9caOHSv5YkNKSkrviQ3NDSpMP6ip9/jrLEnuZhXfU6/kjI+7dnOmy7HhC1U9/L4GX/O53Hd+Q66mb8k4M0q7fzlAju1faN41H0Sf+Jl7tRr8o92NtqjgrSvUdOZbKpprXjCSzu1Le7HBvb1O867fr6H2Y8p5vtl7QdP4mXLGHdG8Z5oDF5ye2i+VE03862xs2HdEM5M/UtE1w1Th8n6OmhctGrrvtPJ/fETJP6v3XUwTG9AVHceGpiqHfrtaml30bc2yW731/OBLNfmB0cr4nqSWr/T3FXXa3SRJAzXYfp3uWTVY/m6Lz4SPDNJp6cyACzT7viRvvDkPjRrlHRb56NGjuv766/t0bHBvd+qqS11a5U5QyeHRMozRanIM07zm08r/mUtDb4h0PdK5+rhdZzU2+OvUg5rw49Y61c+x8UPNHPeBEq9vaI0btUc085pPlfNSSyD55d7lie4z7juimeM+U2lzvLLmxssiqf6lRk3NOCJzyk/qTGz4XKWL9mvMFYc14Wf+68iv5FhzWFOXnfau29OsnNWfmTYAdF6/S76d+fB9/Xr+J9L/z65/X5SocCmwpm0f6W+OAZqYnmgukuxDlOxLrB0v+VSBezgDLtWNP0/wBtK33Xrlg9a3BHx6RDtfG6hp88Ks9zyRlJQkSXK7vdXVypUrdemll2rBggXntM8f52OfKcdzsWoargsEu2z/SKi7Tin9vvq2dzja09yg/FmfaX3tIBVsv1oZo70X1koYqoxnR6rsljipuVmrUg8rvzb0rZ6tdbJnfqmhjyVq2/2XyWaRpHjZ5g9Tjm+fqu477m0Z0BHPca1/uEmaP1Suw9do5eyhsnZiGKHO7kvy/Ku1zXGdtt0ZplNa62VaWXqdDuy/SL4bwHJvOqLFRy4KOu5DlWH1Fb5xQvN+E6mF3hmtv+eEEouvkatilAo2jNJu1zBlWiTptNZvOmFa/nPlz/pM5fNtqlxrkz1hgPdzzLhS214Z4h11L7C9QUq5/xrVHB7V+s/G0ZNa/OQgVTYlqXL1INkkpWYm9OhofTifnVHd79/Vr/6PNG/Td5QxNsG8gCSp7vlP9fdjgzVhZtvyweOG+FolfCXHFpev9ZukC5M0707vhVVz6THtDBQEefu43mhM0PQw6z1ffO9731NCQoLcbrfcbrceffRRJSYmasWKFee0tUP5XZ+qdNYlcp1sTdin27xl7pcalP5kpDoqgm7EBudvDmvqr1qUWTpSBfOHegcMir9AKfdfpExJkhF94ufop8p97LRSH7KpwXG1sidd1KkBiDq7L+3FBuuMJJW8NVrOJ/w78JWK7jku54Pem0XGmVGqefYC+UND1X2ftDk2rToZGxrrtTD1c1nWJqnkzuHeGBd/gezzr9buYu8FaP3G41q85UtiA7ogmtjwibbmn1LTTKum+W60tErQNeN9ibWTp7Tz9dYAMHj6SM36jiR9pd0v1rXGjIAWObY0qumfh4dZ7/lj7Nixslgsamxs1NGjR0Niw7nU47Fh30GlpX0h54yLVflsou//1AGyjE5UwVvDlWmV9MYpTZ11uE0d39n6uF1nNTb469QrtW6KaUWS7Auu1rY9QXGj+YxyF5xSaqk3IWg0XaltD/h3zlDhj10q9zUQbaP6pJZsGqQS52htK75aBZuvk6v0Au/IqttPqcj8b0anYsPFythwjWoabFruOwf0+lEtcQ5VQ9MIldw+QFKcsm+6KGQTQFfEGYZhmGf2GTv26r6cU5IG6B//lKIpNe/pPzdIs377LU27LGzTNEkt2r1il36/1Tw/nCH615Bm5269csf72vqupO9dqlW/viooudciR/5uPXP8Uq1alRQ26deRTz/9VI8//rh59ln32muv6d1339VXX30VmGexWOTxeJSUlKRHHnlEt912mx588EG9/PLL+v73v6/HHnssZB0943PljzuinL2S7X6bXKuHhxY3N2hVysfK3StJg1TgukbZ/kpVvkc6r2mUQwOUt3+0lnpvzkmS6p/Zr8RFp6Wbh8koDpMsbXRp3oXHVSpJNw1TU2mib2jt48pNdmlV3SAVnbxGmab/05xPvq+r7mmWplykA1VXtP6DH9gXKXOz7w7VUZcWjmuQ80Gbyu4e1oWhu7u4L5Kca/bpqmUt0tgEHdhzpelCpF5ZccdULMl+v02Vq4cHLqokSbWHNeGaE6qWJMvXVdmUHEjWacuHirvRI+kClTSNUkbIh2pRaeY+zXtB0i3DZfyu9cvyvFCrwZnNWukYreX+pGpAvRbGHVOhJNmGaLcrSSm+kvJb39Oc5yVZLlCJa1RrYrAfcDqdmj9/viSptLRUI0eaHmnpx3av2Omt46+16t83Xqr9Kw7oFQ3Tzx+5SsMihQYdU/mttfpbuBsrZtda9e+/C3pEqOWwfv/Dj7X7pHThT0dqxZ3BdYpbry5+X9u/k6QVi7r2UNGrr76qP//5z+bZZ9WJEye0detWffLJJ21iQ0JCgv7pn/5JP/3pTzV9+nRlZmbqgw8+0KJFi7Ro0aKQ9fSM1joq/dlklS34emix26WsxOMq9oSpozqo/7ocG/zzTXWU15cqX/Sh5jxjyHb7cDk32Frr+0Cd2RqnPHsPKu36Jk0ovULrZg8JWVNUurovHRyb4H1dWjVSeVNCj7vzN+/rqvu8zUksd1+mpicubS3sYmxwPLxPY34Vr5Izo5RhvsCsO6wJyb5YNHeomjZ/M/BZ+nNsqKio0LJlyxQfH6833njDXNyvdSk2HHlfK//FrePm+WEMWzJKuf8a9L/q2+9p2eJGNWuApm1MUYY9aCOf1ir/JreSN05Shv/Jmk566qmn9MEH0QSt2Dlx4oReeOEFNTWFphcTEhKUkJCgH/7wh4HYMGXKFDU3N+vXv/61Zs6cGbJ8z+hebAjUG6Z6SGpUYdpBLdwuZZaOVtFNbU8W7/+xX0qSMopHqeRm342brtbHvSw2RD42QXHDMkgF+69S9ojg4/Olyn/2oeZs9KYj0jYkadvtrfseWO/8YWp60X+t5dPsUtbA4yoOvnby6VpsaL2u1NgE1VRfKbv5vX1YQUGB/uu//kujRo3SH/7wB3MxeorRl72+x7h38hvGvZPfNPL+f295f79tn3Gk2bxgsKNG2S1vGPdOfssoO2wui8I7e40HJ3vfX1ITtKEvnMZvp75pPL+r3Y2365NPPjEknRfT9OnTjbvuusuYOHGi8cADD5g/Sg9xG3lj9xrSXsO+2m0u9Npca0jeZTJLTcd+f51h115Dchh5+4MLoliv0WyU3eJdRvrAKHD5Zr9+wLBor6GxdcYB0zvaFdiXvUbmZsNoqHIaqdZ9xvKqU+Ylo9fVfTEM48Bqh/ezhX2vy8gM2te2mo1td77nOzYOY6UjqCjwfdQaZUGz/QLH9Bb/ATVMx7qjKXS94dfXPxw4cMCYOHGiMXHiROPgwYPm4n7t7Uff8MaDH1Ub//lj7+//8fyn5sVMDhobJr9h3Dt5j/G2uSgKx/672rvNqdXG6yeCCt6vMR6e/Lbx8idB8zpp+/btberg3jiNGDHC2Lhxo3HjjTcaEydONJ5++mnzR+khHdVRQXWcuY5qt/7remxwbfiga3VRoM50GHn7mw1X8X7DNmK/UXS46/9LdHlf2j02HdfvxplPjMUW37EZXWfUBJd18N7wdXnr99HhZNrf8OvrH7Zt22ZMnDjRmDx5srmo3+tSbPBfazzalTjbYGy/y7fNZR8aXwSVOJ9+y7h30QfGsaB5nfXb3/62TT3cG6ekpCRj48aNxuTJk42JEycaf/vb38wfpYd0LzZErDciXk8EOdO6bc04bPjX0OX6uJfFhojHpqO4YRiGcfiQkeo/Njd/HFLU3nojf59djQ3RxPi+65lnnjEmTpxo/OQnPzEXoQf1k8dO4zRiosXb2szh1m9X+jvEDsej4y5JMuQ5aS6Lwncu16yJktSiHc8dDGzn+Nbj2p+YoGkT294N6Yw//elP53zyP3pqNmLECD366KMyDEPbt2/XxRdH2y9ZDM0YrHTfr9W1kdoym9SfVPle80yzAZpwg78DjtOqqvb+5nzrdOcebw2j+sn9Sk49pSrFa+po0125TuiJfemaAUqb5T82LarZbyrutEY5quW7u/ctb/9KEaerA9830KELB2rUGG8Y/GRdnZ7xd4gdzrHT8j7w1qwvIgeQiIb906WaMFxSy5d65fcu39wWOf67USdnDtO0y0xv6CRzPX0uJjOr1ducKCkpSY8++qgOHz6s2267TUOGdOGOfA9LnmHx9qXZmTqqG7Fhd9Xp4IW64CuV37VfiZlfqt42UCm2rv8v0f196aL44Uq7yff7vuboHqFqV5N275Uki8raxALTZG6lB7SnE7Hh5DFf52BfNLdzbRGJVdMXJXivT147rq0OX79YLYe1Y1OLrvnxCA0zvaMzLrvssjb19Nmewj1empDgfRTDHxucTqduu+0282LnRFdiQ/3203KYZ5rFX6i0Gb7ft38ZGCm3+/VxH4gNIxI0x/9Uy57TxAb0af0k+SZdON2uu5Z4+11o2urSE7+P1GmiRcMSJekr1bztG1ChU4ID6TGVvNsi6RO9WnxGl2cmKnzaKjqXXXaZ5s2bd06n4cOHt+m/x590O3z4sB555JGQsnMu4Wuhj0RGo7FF/kvj9thsrX8+Tf6OWZsN3091OfGVMmOQNxC4PZoz62D7gxa0pwf2pcvGDVTQII/ddFrOWkn6Sg1hO6oFuipeE3OT9I92eftq+/cPVH4wwmhWwwfJ29vHl3K8HWGZ9gy4XOmLvI+ZnPz9J3r1U0lNh/Xqn6UJGVd0qSsCv+nTp7epq8/2dPJk27tVVqtVGzdulNPp7H2xwRqnoeZ5HelWbPD/9NXLnfY1pcwa6I1nuxo1NdBRdBd0e1+6aoBSUrp+YdhGfbOvk+2v5I6cGwG6IPrYcOFw33NpO76QP3fWKcE37dc5dVxS06sN2q0ETZ/encigNvX0uZgMw5DF4n2oz/8zJydHTqezz8SGJnc0X/wQJYYbybzb9XFfiA1DlXK9eV43EBvQi/Wb5Js0QJf/67X619kd3cn6ui7ydeNy/P9+pJ1tryd8mrR7tUN/N89WcCD9Srs3OPXJ20f1hmuwps3udBqo16mrq1N8fLwsFotsNpu2b9/eO5NuYaSMCtdRbhjxXwv0KeA8HM1doDgl+7v+ifd1KrrvtCrDDr0ThbFXqmKzpfuBtCf2pduCjk2XDVLyKEkyVLq9kx3gAh0ZcKnSn0iUfbikljP6210O7Q5b7w/UcN+57NhQq48i/q99TOWr94ft/yek9dvzH+mTHmoR3RscPHhQ8l1cjRgxQtu3b+9VrRkiG6Ax15jnRdCt2OD7+ZJHVUFLdEbiTUmqXO1dkfv5Y0pb08GooZH0wL50m22Auh0abPG+FiqnVWYenRvormhjw/ABulCSWk6pPOKNfW/fcM+9GO6/uaCb9m83qPzd49rxYpMunH+JgruAO1/V1dXJ4/HeArbZbIGEW6SnaHqPzsQG/0A0X8kZzf/bwfVfD9THfSo2JA8kNqBP60fJN0lK0IQO72QN1sTv++40nWzSH+9xyNHmjkaLTr76oUo+H6zw9XJoIM3/RaP0z0M1uXs3sHqFgwcPqrm5WTabTVVVVZo+fbp5kd4lcPdjkNJSo/wvJsmiqb4rLM+mU94OOdtjGaw5k7y/Jo/2R67TWvVEOy0ndziV086gHta53Q+kPbUvXVL/la/Z+AWaOt5c2FkWJfrahDse/kyl4f53lXydwdapwjwb6MiFI3X7b636xgBJx07p9/e8Hya5lqgJs311yAdu/fbhA/qkTf7ljOr+70Httl4U/lGhoNZvTZs+Vv5T3W8R3Vv4W0RPmTJFhw8fPg9ig6+OslygtDaDuETQjdhgH+erjz1faOULX4QsFqz+GafWm0dtCxgg+/1XeEdUlVS9zKWsLZHXFUnP7EvX1B/2DcYxy2LqzLsrBirZ16938YNH2mkl/rnyFx32/S8AdEI0scE+TN/xtWg6/lSdnvqfYzpjWkSnP9Hmh07qovERbsIH37TP+VCvvDtQ037UtQF4epu//OUvkhR4vLTXJ926EBuSrx/kuzFjqKS8nf+3fSzzhwTqv56pj8/32HBKriPe3+w3DOnCAHNmxAb0Xv0s+RbdnazB0xM13T+ykOOEnpmzW/mPv68d2+q0c+v7em7xbj2y/LT+4c52Ri0NCqTNJwdoyo+uMC9xXqqrq9Ntt912fgRQSZ7tHlVIstxyobJCB99px6VafL/vIrv+CxVGuGvi2Ov99yr5/otbR0OadaEW+6KG8/Gjyt8X5r3uemXNb9GEG8wFwXogkPbYvrSjOcw6JTmrvpRHkuXOC5Xe7ZGCLlCGf1Qoz5eaN6tOVUfN222R+6Ujyj56gaaaSoCoXHmd7vn1kHb7Bk26+RLZL/T+3rTtM/36H3fpqQ37tXNbnXaWOvRU1m498eIg3XhL5IumQOs3faXmL/pGi2j5YsOjjz6q7du3m4t6JcfL3jrK/sthIaPZta/rsSF5/tcDv5ff5VJ5uJsI+w4qfW2c0toNrV9X+rOJypskSYaKbzwcvm5vR8/tSySGPGEvdj5X5XZDUpwWLwga6bTLhivrdt/3sbdRU3/8sZxt+lholuPxehXahvhaQgCd1GFs+IZmLxnsazT0lfavrNXyrL+rtLROO7fV6ZUNf9fKf6zTzmsv0+yIo5YG3bQ/+ZWae6Af0N7CYrFo+/bt58UTMupqbJh2sZb66sr635xQRdj6r0HVb0nSAC1d1Fr/9Vx9fB7Ehkjd4DSfVMV2SYrX4pt7or9wYgN6r76bfDvt1s5t/vDYooNvu1vvRF04Uv/b1/pAx07p9//7Hb3yQVAoHXCpbnziG/q2P/C1fKWP/uxW6fJP9McVbv39bcn+62uVHu7Z/YCgQPqdi1uTeee5n/70p9q4caN59rnX7LubHszzqXLu+lKyWlTyROiQ2GbmCwX7MquyrZJkaP2yMHdNmo+paEOLZLVo3bKgNi7xl2npY/5sU7Ny7O9rzsMuVdedUn19gyqe+lBjLj0mx7JLldnhU7DdDKQ9sS9HjXYfeS19JcwdPne9ch9rkSwXqOixSP89dtAPwxF/i0Uvy/zhWjnW92LXKU299H1NXXRQxZtcKn3+oBbe8L6GZjQrZ7VpGHI/0/rQf505Vqe33/S9+LBJjmOtbRQGTxupWd/1/t601aWV9+5XXVPQ39yFSbrtv6z6RqA//Rbtf/a4/rj8E/1x9Qntrxuof/ytXd+OeFcmtPVbfB9pES1JGzdu7J0XV+FuENQd1pJftUiTElRybzv/6Ie5UOhybBhxmXIX+B5Ncns059J9WvjUZ3LUn1J93TGVPrxfifZTmrA2seP+MuOHaukrw5VplbduT60Lf5EUSU/sS7ux4bQqXm973N1bjmrlXsly81CtnBGpJXrnYoP9vouV6av03S816KoL92nOw4dVusml0qfqNMf+vsasjlde8HcRjNgAn+7EhsG+fqUD/3F92KQdqz/RH5d/oq3PNun41VbdtWxk5Bv2Cr5p/7Vu9wPam2zfvr13toTuVmww94k2TLm/9XUX4/lCOb8J87TKrs9VuE+yLrAq1///rHqoPvbrDbHB/VWbuBmwz6MKXwu3Vi1y/OZzFUuyP3aZFke6tm5vvZLq60+FvO5ubIiuawmg8/pk8u2T3+/Sff/rff1xa2tCZv/j7+vfp+xS+RFJO/bqkce/bH3DsS+19da/674pewOjz8iapNv+NEo/ufkCDfM3TBggXfjdBP3kT+N1+7RI2YogYy/SNYPV7dGKepPeFUAtmup7DMzx4Mcas8glh7tZUos8+1xaOO4zrbd9XducVyu9TeOSZjleaPKNTtSiomc/kzv4IirBpoKqi5Vm9fW7ln5QFfXeBTz1nyo//ROt8lygoj1JSjedCsn3XqFtd/svLAyV/+q4JiTXKTHxY828y6OGW4arIjioN3+p6k2ewEhJVa9/1poMjB+qpb/5um/QiGbl2PdryZbGdgNQsE7viyR5jqv4d75/Suo9Kn8n6G/FxPPUZ5r68Keqb2zxHvcjnyp31jEVu+O18q0kZQQfd0+jil/wr+uMysyf46hLRVt8v29vUpnveEve47B8+zBlB25PGap6plFZPz6uebc2qnCHlLn5Ci0d1foWT33w+hqVtz3644a+6JjKb92pf5/ziRz+nHHLl9o8Z7fuu/V9fSJp9wqHNvsvviQ1VR3XEzN26b4VhwLzBl59nf598wjNnj1Qg32t4DToa/rG7GG6vew7Sr8yUlKh1bDvDtE31HdaRMs3al3vMVhps70XEMUZ72vOGn8d1az67Qc1M+WEamZfrJqqK2U3t8wNrv/2NalwR+g/9F2PDRcofUOiCmb5LmyaW1R416cak1inxOR6zfvVaSWvTVTBbN+NQXnrzNJN/jqzRRXBdZjVpvWrfVlgt0dzkvdrfTt1dagu7Is6ExsMrf9+rXK3n/DGsuYvVb+9Tmk3euSelKDdzyaGDoTUndhgTVThWwlKDWQ9WlT+qxOa9+PjmnfXKZXvi1deVeh3QWxAqJ6IDQOV9K/f0UNPD5N97NcU7wsD8daBsi8boRUF1+nyDkODVfZpA6URfaMfUL8+ExuOulS0yff7S40qrA2982KZnaTKDYNk9T2tMnPNp6r3qHXds06paf5QOTaYGwN0oT7ubbEh+Ni88oVKg+voEM1acn2tCvd6vPvr8cix0ampy5plvWWYKu8PHerCU/9xO+ttkfulUyr3varY0uA73j6djg0t8rzjVpFvRHPPM24V7ov2uAGdYCBmvvjbu8a982oMZ7O5pH944IEHjIkTJxoPPPCAuahHNe13GXm3f2DYrXsNyTtZR39gLH3RbTSZFzYMwzBcRqZvOfOUudm0aJPbKHlov5EStG6LbZ+R+cQnhiv8yn2ajYbXDxmZk95r3adJ+428lz8PXWxzbZt9CNmX/XWGPUyZ5DDy9oeuKrIo98UwjAOrHWG2tdfQ2DrjQGCp1uOX+exRY90t+wxrvG85y3tGyi2HjMrPTCd9xM/p/Rxlt5jn+6ZbXKHraXIbJfeGftfJMw4YJfvPhCwWcX2qNcpCluy7Dhw4YEycONGYOHGicfDgQXMxziHn028Z9y770PjCXNBP3HzzzcbEiRONp59+2lzUg5qNhuqPjOVz9xk2S2sdYJu031j3eqN5Ya+I9VSYeqPLseGMceDFA0baqNb3Jc84YBTsORWyVMS62F/3d2ZfI4puX4z29ic4NgT2qdYoqAqNOd5j86nREFpVt/M5OhkbPvvUWHdL0HcdHz4WRVxfp47b+W3btm3GxIkTjcmTJ5uLcE7VGyXz3jB++9eT5oJ+Y/LkycbEiRONv/3tb+aiHtT52BBV/efTtP9jY/ncoP+L/euuOBnhmsQvuvo44r6co9gQsU4NqqMD+zy2zthWGrreSNdrEdc7ts440JnruKhig9vIG9t2Xa3b6x+eeeYZY+LEicZPfvITcxF6UJxhGOa2s+gRbr1yx/v6+w+u09KQ5j/9x4MPPqiXX35Z3//+9/XYY4+Zi3HeqldW3DEVS8rc/C0VzTWXozdwOp2aP3++JKm0tFQjR440L4JzoeWwfv/Deuk/Juhf+1Drhs7IzMzUBx98oEWLFmnRokXmYpyvtnyouBs9kiwqM65WurkcvUJFRYWWLVum+Ph4vfHGG+ZinCtvv6dlv5AW/OVbfWKU066YMmWKmpub9etf/1ozZ840F+M85VyzT1cta5HGJujAnivlG0MNvUxBQYH+67/+S6NGjdIf/vAHczF6SJ987LRXePcjvbq373SmDQDovuP/c0y7L+5bjxUBALrDrVefbdTg+Zf028QbAPQHJN96QstnKr/nLS2b9ZZ+veJ97Sjdq5V3N2rwosQ+05k2AKCTTh7Scz/ZqWU/3KX8/9yvHRveUf7qM7IvuUK9qRccAMDZ07Rjrx6ZtVPLs97RH0sPqDRnvzZ/MFjpN0ceKRsAcP4j+dYTPnVrz5tfqfnkV/pkq1ulq0+paeJwLfjX1qGkAQD9zN4T+vtBqdndoo9eOK7SZ79UfIZN/zo9igF7AAB90v7XT+nkSanpwy+1c/Vn2lEVpwn/cZUm+wfxAQD0SSTfekJiom68eYB3iPELvSMb/SJvVBQjGwHnm2bVv9CoUt+r0hc+Dh1dCECr735DN07zhtn4ERdo8qpRyl16hWgQjT4nZMTSL1X0AiOIApF8O3O4ki7z/n7hdxP0kz9+R/86kZsy6IMag0bJ3tuk4qhHXgX6JpJvPSJB9p9P0uo3JmvtKxN0e8blupDEG/qaLR8qLu59JWZ+Gbio8rzQoMTB72nMms9NCwPQgEs1Pe96rX1jslb/abx+MnO4BpqXAc5z5be+p7jBB5X1gn/8LkPFmQc1OG6f8mtNCwOQrhylezZP1to3JmvFE9/S5BFEBvQ1nyt/3HuKu9Cl3L3+eS3KTalVXNyHKg9dGOg3SL4BiM7cq2UY3wo71dx/sXlpAEA/kP67tjHBO43W0lHmpQEAfd/FWrrHHBP8E6Nho/8i+QYAAAAAAADECMk3AAAAAAAAIEZIvgEAAAAAAAAxQvINAAAAAAAAiBGSbwAAAAAAAECMkHwDAAAAAAAAYoTkGwAAAAAAABAjJN8AAAAAAACAGCH5BgAAAAAAAMQIyTcAAAAAAAAgRki+AQAAAAAAADFC8g0AAAAAAACIEZJvAAAAAAAAQIyQfAMAAAAAAABihOQbAAAAAAAAECMk3wAAAAAAAIAYIfkGAAAAAAAAxAjJNwAAAAAAACBGSL4BAAAAAAAAMULyDQAAAAAAAIiROMMwDPNMoCc8+OCDevnllzVz5kxzEYCzYNu2bZKk0tJSjRw50lwMnBOZmZn64IMPiA3AObJt2zbFx8frjTfeMBcB58yUKVPU3NxMbADOkW3btmnUqFH6wx/+YC5CDyH5hpjJy8vjj/c89sUXX8jtdkuSvvnNb5qLcZ649tpr9R//8R8k39Br5Obm6i9/+Yt5Ns4Tx48fl8fjkYgN57XJkydr/fr15tnAObNkyRISwuexjz/+WJJ0wQUXaPjw4eZinCd+8IMfaNWqVebZ6CEk3xAzJ06c0IYNG3Ty5ElzEc4DLpdLzzzzjK677jr95Cc/MRfjPDFjxgxNnz7dPBs4Zw4ePKhnn33WPBvniT179uill17SP/zDP9BC5Tx20003afz48ebZwDnz7rvvqrS01Dwb54mKigrt2LFDP/rRj/Ttb3/bXIzzxIIFC5SUlGSejR5C8g1AWG+//bYmTZqkf/7nf9Z///d/m4sBAP3Q73//e91yyy36xS9+occff9xcDADoh5YvX67HHntM//f//l/deuut5mIADLgAAAAAAAAAxA7JNwAAAAAAACBGSL4BAAAAAAAAMULyDQAAAAAAAIgRkm8AAAAAAABAjJB8AwAAAAAAAGKE5BsAAAAAAAAQIyTfAAAAAAAAgBgh+QYAAAAAAADECMk3AAAAAAAAIEZIvgEAAAAAAAAxQvINAAAAAAAAiBGSbwBUV1en5ORkJSYmKiUlRQsWLNCWLVskSV988YVWrFih1NRUJSYmKi4uTs8995x5FQCAPqaurk5xcXG64oorlJKSovnz58vhcEiSPv/8c61YsUIpKSmKi4tTXFycXn31VfMqAAB9zHPPPae4uDglJiYqNTVVCxYs0Oeffy5J2rdvH7EBiCDOMAzDPBNA/+NPwElSQkKCGhsbJUkXXHCBWlpa1NzcLIvFov/9v/+3Nm7caHo3AKAvevXVVzVjxozA669//ev64osvJEnx8fFqbm6WJG3cuFG33XZbYDkAQN/13HPPacGCBZIkm82mEydOBGJD8HXE9u3bNX369JD3Av3VgEcfffRR80wA/Y/ValVSUpJee+01nThxIjC/paVFX331lSRp2rRpeumll4LeBQDoy5KSkhQXF6ddu3bp9OnTOnPmTKDsq6++ksVi0bRp0/R//s//CXkfAKDvGj9+vA4ePKi9e/fqxIkTIbHh9OnTkqRHH32UmzJAEFq+AQgxf/58/c///I88Ho+5iLtXANAP1dXV6eabb9Y777zTJjbYbDa5XK6QeQCAvq+urk6pqalqbGwMtHSTJIvFoilTpmj79u0hywP9Hck3ACH8gbS+vj4wz2Kx6KmnnuLuFQD0U8FdEwTjpgwA9F/mrgn8nE6nkpKSzLOBfo0BFwCESEpK0uOPPy6LxRKY5/F4SLwBQD+WlJSk2267LSQ2TJkyhcQbAPRj06dP15QpU5SQkCD5btjfdtttJN6AMEi+AWhj+vTpgUeLrFYriTcAgB555JGQx07vuOOOkHIAQP8THAs8Ho9++tOfhpQD8OKxUwBhLViwQH/4wx/k8XhoOg4AkCTNmDFDO3bsUHNzs/gXEgAQ3C3B9OnT6esNiICWbwDC8rdwoOk4AMDvkUceUXNzMy2iAQCSr1uCRx99VJJo9Qa0g5ZvACKaMWOGHnnkEfr0AQBIQS0caBENAPDzxwZSC0BktHwDENFPf/pTEm8AgICkpCRt376dxBsAICApKUkbN240zwYQhJZvAAAAAAAAQIzQ8g0AAAAAAACIEZJvAAAAAAAAQIyQfAMAAAAAAABihOQbAAAAAAAAECMk34BOOrVloUrj4lSaXiiXubAbPPvKtfPWCSqNy5LDXAgA6NWIDQAAM9dvpmpTXJy2LKuSx1zYVc0eubbmqyJlsDbdWm4uBdBLkXwDOunQpkK1SGrZmq9DtebSLnhnvV5JvUrl9jk69Hy1WszlAIBej9gAAAjl1KFnqyRJnjXr5DQXd8FHT81T+TVDtSM9R8fe6bF0HoCzgOQb0Ekj52drgKQBs5dq5ChzaReMX6xZVQf0vSdSzSUAgPMEsQEAECpZI3/mrcMt9y9Rsrm4Cy6/s0TpTqeSp5hLAPR2JN+AThoyt0AZhqGM8mwlmgu7YXhST4TkGDmyXq+t6Yn7dT2kt+0PgH6P2HDuHXtyiXb2RKtDAOghifdWar5haO7qVFnMhV1m05BrzPN6j95WF9fetYRuG9ArkHwD0KHax3J0wjzzHOpt+wMA/VGvqoubK7R3WYV5LgDgbOptdfGR9frgqQbzXOCcIPkGoF2ntmTp70/1nj4letv+AEB/1LvqYrccP5unT3vL7gBAv9TL6uJmh3betESnzPOBc4TkG4CITmxdolduLO41HX33tv0BgP6oV9XFzW59cM8E7X3ebS4BAJwtva0u9ji0K32qDu0yFwDnDsk39HstR6u069YJKh0cp01xcdoUN1il12dp1w532wuLZo9c29drR1qiNo3Ll8tU3NLokGNNlrYMjlPFFkny6NNNC1U+1LfuwVfpr2uqdKLZ9Maw3HI+6V3Xprg4bbpinna+0U5Aa/YuX5442Pc54lSaOEEVT4bZnsetj0xDlB97aaG2DIzTpoGJem3LB/rgrjH6a/p6nfG/ZdlVgfVuMffxE+W2Hbf6j3Ho5F9fm/LAMa7v3P4AQDedqS3VjrQxKh3oq48GDtWWtBztrQ1zS7+D2ODZV66dt05QaVyWt98Zj1N7F00IrLv0mnnaGS7mhNXJ2OBxau99M7XFH4fi4lRqn6kdm5yB+rR12R6ODVFt26md49rGhU1x/jgapty3b6ov12vjhurdJ/3bdejQNf7lxvSqPocA9A2dig2eeh3aFFqnhhT3ZGxw+65nfPXkf2fky9lOaIiufvZqaazXoY05Kr/CX8+75Vwzx7utwVO1a0cn6+Koth2m7o82NryzXuXJY+R8xX8AirU3sJzvWAPnAMk39GvHXpinP1+armPj8pTWYGi+0aRZL2ZIu4rlvGGo/vobRyDgfbppocrHJWpH2hK5tteHrshdocqMCdpy6RjtXVYsj0eSPKq9b4xe+3GhTvnrfo9TJ5ZN1V9vyJfLnBAL1uxQ9fftevclacgt6bJYJB0p1aHUeao+Yl7Yu/3X7IlyOLOUsr/J+zkq8jTEU61j9wRvz6NDa+ZoyzWJqgwaovzUliy9llEoT7Ok5np9+sstsv62RvONAxo51rsJy+oDmm8Y3k5j7w/qADzqbUv23xma6yiQ1db6dssva5TuW5/9d02yz5ckm6zP1mhu9VJfx+U2XRvt/gBAt7jlfHiq/vuaHJ2+s0TpTYbmn2nS5F8my7M9X45rklWxpfWKpr3YcGJ7rl65/iqV2+fo0PPV3njSWKUd466S45lqtfjqxpbaUh0yxZywOhkbWvYV6q/JU+W6Jk83uLyfY9qL2fravgq5fnyVtvys3Pc4Ts/Hhui3nazJe5o0q2K5hsQH3i7ri01Km+srr67R5aMlxafq8gqXfvS7dO9CtnR9z2Fo/v48X0fmdo3c792X+UaNJvfEqLMAIHUyNvjr1GTt/HFrnerX07GhZV+h/jouQ582T5B1booGSDrzUo52ZRTqmHnhTtXPTu1dNFPlVyRq58/ydeqIJHnkWpOmXcvKvfvkqZLzWUVdF0e/7W7EhvGLle4yNH9zpu9dmRrri1PzjSLZW1cHnFUk39BvebYu1GuZpRr4WKX+8f40WS2SZJF1fq63Ipd06r58fehb/rL5BUp3NCjlzjBjFVnTNLV0t360f52G+Gad2bREjiPLNbWhyXtR4iiQ1eorfCNHu34TqbVWtQ7dU6ohxS79qKJIaRvKNNdV4tu/Ch3ZZH6fU7tmzVTD/Er9YG26EhPk/RwzluofX1mugQrenkUj7y/T3MMNunau7+1H12vnk1OV2tSgSavTNUDSkMx0DQ/ZRiSd2baXZXS2ZjnKNNx3LDwvlupTfyLSXaqPNlk1fLNDsxbYZQkKtgBwNrh+k6Zdv6qWtXS30ub76qF4i0benytvtVWvY78s1Ke+5duLDRfNWKlZbx3Q955I9c1xy3XPYjU9WBO4cJv2bIYG+EpP3TdPu8wtBAI6GRsay/Va6kJprUOz7kzxLhdvUeL8As0q9l6gtGycp51bPD0fGzq1bfnixkr9YI//wk06+ZL/AkxqeadIn+5L0cg9lZo6w+aNLQBwFnUuNvjrVKeSp5hW1NOxoXq9dmxKVKrTpfTiAqVt3q0flGZ637t9vZx1puU7VT8na+yGbZrbsFuJ/hvnr+fo7848pTcdkP12uySbht80NWQTEXVq2yI2oM8h+YZ+yqHddxWqRekaebc9ENy87Bp5ly8YTknRhSFl0pDkdlpZjUgOBIfTtmylvZity71XRt6k01utwcPzcL7Cx1G7Ll+7XNdeEjTLmqHEm7y/eqpDG0t7XsiRc5ddibd673QFGzBpqi7yL7e2UIcCJRYN8icCt1t12YuLlWixKvn+MmUYhtLvNR+T8Lq2bUnWdE0tzva+Z2+uqhaVy9Ps0M5ZWTq9ulLfm+vfOQA4ixqLtfe+asm2VNfdZKqH4tN15e3eq48BKfZA/ebXXmwYnuQvc2rQogrNWmDXEP9Fx4ISpa5N8ZU79NETVUHvDNa52PDR6iU65s7U5fPb1qdDUtN8scijY8+UqrVNRs/Ehq5tWxoweqkm+Y5FywvzVPEbp+Qu12uz1uuizRWa7LsxBgBnVZdjg01DrgmZEaJHYoM9W1MfStdFQTesh8yd57t+qdaJPa3z1eX62aqBvtjjcU7Vt59I0xBLssZuqNF8w6W0KP9v79q2iQ3oO0i+oX/asV71dZLGpumyBHOhlHh3pbdpctVi32OPnTfkhtRAK7iAUUtl97eO8FTo2D7zApJk0QB/hi7IgAitwJxbS719K9jb9omwKW5Oa3Pzemf40X7mZ2ls2xgYle5s2zK7QKmrfYF0Y5ZeGTdVH9nLlHZ/dBd3ANDT3C8Uyi1Js6ZqpLlQFl27waX5hqGMDemBGymdk6LhU9pWuIl35+ky3wpbXqlo02ecV2dig1NHXnJKKpbD3y9R8JSc03ph43SpIfTNXl2ODd3bduK9FRp7i3fDnvtmasv1c3TqQW7KADh3enVssFjatviKt0T4X7p79bMkWW7NVGLYuNOR7m2b2IC+gOQb+qVP36pst++EWEqeleH7zaFT+02FnebUiWqZ+laINPV0Hwfd33bivUUaOUmS3PLsm6DkteltE5YAcJZ8WlVhnnV2xKdpuK8Fm/bVeC/yusWhU3tl6ucmwrTH37dmT+nutq2yP1Hk65rAKY97qcZG2eIOAGKB2NATurttYgPOfyTf0C+1NPvurfh/nkUDxk3o4l2xcOrlqZWkBp3pfkTupB7Ydrxdk36z1Bc4K1T7s+I2LeQA4Gzxd3KtZs9Zv0EzPCXcLYouqnf5WhC4dbrRXBhjPbFta7omrU7z/n40X+8+7OuQHADOAWJDD+iJbRMbcJ4j+YZ+aUC8L/21r0L1poFLzx6bBrW9rdNJNllGSVK9GrabB2KItR7Ytrtcr80t1IW3+zqV3ZKlijXtj+gEALESeITzpQp1sVbrPlty91sA2xJ9N3nKdWy7uTDGemDbLfvy9dpdDRq+wNs1wZnH0/Ra0AizAHA2ERt6QA9sm9iA8x3JN/RLl42e4PutQgefiHzXpGVHjnZsNc/tpnqnzkiS0jR8vLmwsxJl8fXV6nk4V3sjxh+PHIty9IF5drd0c9vNDu2c5e2vIW1DiSY94F2ZZ9k87QrbFx4AxJZ1nK9za896ffhCxEpNx57J0S7zCHLddOqw75Ju1lRdbi7stEQN8o1Md+zBVXL5W2204dTORetb++fsEd3ctrtcr6Wu1JDSCqU9W+EbfdWtYz9e3E6cAYDYITb0hG5um9iAPoDkG/qnWZmBDkzPPJ4dPtnjLtdr852y3mAuiE6gibqJq6pCLZIG3Jmta7vUYWkwi6672deHnKdYjlm5ch41LyOdeClbjqMTwnQS2x3d2bZbjp+FDrAw8pdlvv7fHDqUmiUHgRTAWXbZ/OxAy4ITdy0OWw+17MtX5VqLEpPMJdEJHxucOrbdI8miyxak90AfNilKvt13d2Rvrqp+XKhP2/Sy4NFHj8+Ty5am4eaibunGtoNuyng70bbqO78r8/bx4ymWY1Z+OxdsABAbxIae0I1tExvQR5B8Q/8Un6ZrH/MP312tQ/ZE/fXhUh2qq5e73qHapxZqy6VzdGpZnsaGGQ1VknS0wdeCLbyTr3iTbCHc5XI85pAsmbr2sbQIQbSDvhCOuEI6XLXMX6mRY30vdq3SrksTVb4oX+9uKtXe5/NVcUOi/prh0MjVmeH7mjOtz8w/up5nj/9xULf2Pl6oY93YtmtNmvY6cpX6bNAAC/F2TX6pwPvaXSzHPeVh+39rb38AoFtGZGvUAt/Iae5i7b10jF57qkIf1dfLXVetvQ/P0Z/tKzVkbW7kFgjtxoZSHXvdPE86tSVXH+2VBtxcpEkzzKV+nYsNl9+XJ6t/lLyXFuq1C8forw+v195Npdr7VK7+ah+sytUTNGZZhP6EuhEburbttjdlJG8fP9/bstj7eleOdv0mTNcEgRtZDp1y+H51F2vnM+esXwkAfUlPxAa3u3U0zza6ERvaXa/kMfWv07X6udWZw+3Uqx3UxV3bdndiw2DfL9U6Uev9rWXXKu3s4mOvQHfFGYZhmGcC/YNbtfdMUPWT4XtvGLCgTD8ITg5JksehyuvH6KO9kmTX5dW7NXl88HDe5aqImxNIBA15aJsmL0vT8ATJc6RCu26aKdeuFI3cU6nJY4PSUZ56vfuzZH3wgvfulrXYqek32wJDh7ccLdVr18zTMbckpWuUq0Qpttb3txwt1Wvj5ulY2Hho1fDNTqUFDcV9pr5Ur9v967MrsaJCk2e0bi/YRw9fpcpfeY+RZW62Bu0v08C1TqXN9m6/c9v26NONWdrxs1J97d5t+uHqNFmCW/+FHF9pwPwCpT6brcSgBGhH+wMA3dLsUHX6VNW+Ej71NGRtjX5gHmGto9iwJUubbiz2/h6fqstfLtWEG2yyyKNjr69UZdoqeSat1NTXl+vy4Kqsm7HhzN58vZKSo1NhWwSkaKRjtyaPbp3Tk7GhU9tudsv5cJp2PV6ti37rUtqdodtsOVqqiivmye27whzy0DZNfTAtcBEnOVSZPEYf1Xlv5Fy0IFmntybqOkeBro10Aw0AOqMLsSGk7rJk6lpnob4TVEd3NTacqS/Wq8lZEdd74qUs/S2j2JuMmlugWS9mB9WXnayfJXneWaVXUnK9ST5LukZVl+jbo4Ovf/w6ros7te3uxobGYr1yYZb3RpItVdYZ0innPE2uCjeaKhB7JN/Q753YsV677s3VsV3eYDpgUqYufyxfk2bZQoKKa80Y7Vjmv40TZGyepgWGxG5Nvg1/tlIXbV+sQy9Ue5uSW2waMj9X9rWLlXxJ0PuDA28Iu0bur9FFv4zT3ufNZZJuKdP836W3vvY4tffBhXJurJDHLUkWDZyxWKM2rNTYUa0R13FrhPUpU2ONIrW5z9XsUPWP01T7Ur1kTVFicYVSZ1tNF57RbbvNMQz5DKGJy1be4zB5lO9lNPsDAN3i0aebcrXrwfU6VetNfA2csVjJT+TqO2Nbb2QoXL3mFxwbAvV8pq6tmqpjdwfFHFuKrA+u16Q7U3VR8M2IHooNLUerVH3fYh3aVK0Wj6R4q4bcvLJNLIpFbOjqti2rD2ju/b7Hk2rzteWanDAtO0L3q2Vfof42a6FOHJEGTFqqsVvzdG1wrAWAbos+NpjrtYDgOroLsSHiesfmadoeuxxh/5eWhm82lDa39XV09bNTO8ddpUO+m+IhQq5/WkVTF0e37baftSux4dT2HFWk58vjsWjgTXm6vnhx6E0u4Cwi+Qb0qKDkmynIAQD6qaALrLCJLABA/0NsAPoV+nwDAAAAAAAAYoTkGwAAAAAAABAjJN8AAAAAAACAGCH5BvQYj9wvFHlH1JHkfqE4MPoOAKCf8tTr3RdKfS9KdeSFep0xLQIA6GeIDUC/w4ALQE+IOCqdaWQeAEC/YR6prZVpFGcAQL9BbAD6J5JvAAAAAAAAQIzw2CkAAAAAAAAQIyTfAAAAAAAAgBgh+QYAAAAAAADECMk3AAAAAAAAIEZIvgEAAAAAAAAxQvINAAAAAAAAiBGSbwAAAAAAAECMkHwDAAAAAAAAYoTkGwAAAAAAABAjJN8AAAAAAACAGCH5BgAAAAAAAMQIyTcAAAAAAAAgRki+AQAAAAAAADFC8g0AAAAAAACIEZJvAAAAAAAAQIyQfAMAAAAAAABihOQbAAAAAAAAECMk3wAAAAAAAIAYIfkGAAAAAAAAxAjJNwAAAAAAACBGSL4BAAAAAAAAMULyDQAAAAAAAIgRkm8AAAAAAABAjJB8AwAAAAAAAGKE5BsAAAAAAAAQIyTfAAAAAAAAgBgh+QYAAAAAAADECMk3AAAAAAAAIEZIvgEAAAAAAAAxQvINAAAAAAAAiBGSbwAAAAAAAECMkHwDAAAAAAAAYoTkGwAAAAAAABAjJN8AAAAAAACAGCH5BgAAAAAAAMQIyTcAAAAAAAAgRki+AQAAAAAAADFC8g0AAAAAAACIEZJvAAAAAAAAQIyQfAMAAAAAAABihOQbAAAAAAAAECMk3wAAAAAAAIAYIfkGAAAAAAAAxAjJNwAAAAAAACBGSL4BAAAAAAAAMULyDQAAAAAAAIgRkm8AAAAAAABAjJB8AwAAAAAAAGKE5BsAAAAAAAAQIyTfAAAAAAAAgBgh+QYAAAAAAADECMk3AAAAAAAAIEZIvgEAAAAAAAAxQvINAAAAAAAAiBGSbwAAAAAAAECMkHwDAAAAAAAAYoTkGwAAAAAAABAjJN8AAAAAAACAGCH5BgAAAAAAAMQIyTcAAAAAAAAgRki+AQAAAAAAADFC8g0AAAAAAACIEZJvAAAAAAAAQIyQfAMAAAAAAABihOQbAAAAAAAAECMk3wAAAAAAAIAYIfkGAAAAAAAAxAjJNwAAAAAAACBGSL4BAAAAAAAAMULyDQAAAAAAAIgRkm8AAAAAAABAjJB8AwAAAAAAAGKE5BsAAAAAAAAQIyTfAAAAAAAAgBgh+QYAAAAAAADECMk3AAAAAAAAIEZIvgEAAAAAAAAxQvINAAAAAAAAiBGSbwAAAAAAAECMkHwDAAAAAAAAYoTkGwAAAAAAABAjJN8AAAAAAACAGCH5BgAAAAAAAMQIyTcAAAAAAAAgRki+AQAAAAAAADFC8g0AAAAAAACIEZJvAAAAAAAAQIyQfAMAAAAAAABi5P8POArlvu/TahsAAAAASUVORK5CYII=)"
      ],
      "metadata": {
        "id": "MI7ohwnLlEKu"
      }
    },
    {
      "cell_type": "markdown",
      "source": [
        "![cbc_mode.png](data:image/png;base64,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)"
      ],
      "metadata": {
        "id": "uCV348uqlVJj"
      }
    },
    {
      "cell_type": "code",
      "source": [
        "!pip install pycryptodome"
      ],
      "metadata": {
        "colab": {
          "base_uri": "https://localhost:8080/"
        },
        "collapsed": true,
        "id": "aUjKGl_EjB4L",
        "outputId": "34617b73-bd7a-4b60-a89b-fc60763db0d7"
      },
      "execution_count": null,
      "outputs": [
        {
          "output_type": "stream",
          "name": "stdout",
          "text": [
            "Collecting pycryptodome\n",
            "  Downloading pycryptodome-3.23.0-cp37-abi3-manylinux_2_17_x86_64.manylinux2014_x86_64.whl.metadata (3.4 kB)\n",
            "Downloading pycryptodome-3.23.0-cp37-abi3-manylinux_2_17_x86_64.manylinux2014_x86_64.whl (2.3 MB)\n",
            "\u001b[2K   \u001b[90m━━━━━━━━━━━━━━━━━━━━━━━━━━━━━━━━━━━━━━━━\u001b[0m \u001b[32m2.3/2.3 MB\u001b[0m \u001b[31m10.9 MB/s\u001b[0m eta \u001b[36m0:00:00\u001b[0m\n",
            "\u001b[?25hInstalling collected packages: pycryptodome\n",
            "Successfully installed pycryptodome-3.23.0\n"
          ]
        }
      ]
    },
    {
      "cell_type": "code",
      "source": [
        "from Crypto.Cipher import AES\n",
        "\n",
        "\n",
        "# KEY = ?\n",
        "# FLAG = ?\n",
        "\n",
        "\n",
        "!@chal.route('/ecbcbcwtf/decrypt/<ciphertext>/')\n",
        "def decrypt(ciphertext):\n",
        "    ciphertext = bytes.fromhex(ciphertext)\n",
        "\n",
        "    cipher = AES.new(KEY, AES.MODE_ECB)\n",
        "    try:\n",
        "        decrypted = cipher.decrypt(ciphertext)\n",
        "    except ValueError as e:\n",
        "        return {\"error\": str(e)}\n",
        "\n",
        "    return {\"plaintext\": decrypted.hex()}\n",
        "\n",
        "\n",
        "!@chal.route('/ecbcbcwtf/encrypt_flag/')\n",
        "def encrypt_flag():\n",
        "    iv = os.urandom(16)\n",
        "\n",
        "    cipher = AES.new(KEY, AES.MODE_CBC, iv)\n",
        "    encrypted = cipher.encrypt(FLAG.encode())\n",
        "    ciphertext = iv.hex() + encrypted.hex() # note that the iv is appended onto the ciphertext\n",
        "\n",
        "    return {\"ciphertext\": ciphertext}\n"
      ],
      "metadata": {
        "id": "oFe3M94zpDVW",
        "colab": {
          "base_uri": "https://localhost:8080/"
        },
        "outputId": "a17cd0b5-3b40-4916-d60d-03cc83f65585"
      },
      "execution_count": null,
      "outputs": [
        {
          "output_type": "stream",
          "name": "stdout",
          "text": [
            "/bin/bash: -c: line 1: syntax error near unexpected token `'/ecbcbcwtf/decrypt/<ciphertext>/''\n",
            "/bin/bash: -c: line 1: `@chal.route('/ecbcbcwtf/decrypt/<ciphertext>/')'\n",
            "/bin/bash: -c: line 1: syntax error near unexpected token `'/ecbcbcwtf/encrypt_flag/''\n",
            "/bin/bash: -c: line 1: `@chal.route('/ecbcbcwtf/encrypt_flag/')'\n"
          ]
        }
      ]
    },
    {
      "cell_type": "code",
      "source": [
        "# The iv is random, so this is a different output every time.\n",
        "ciphertext = 'c119a432482b30a6ee5417790d35f555e0f85cb1bf79d613a75f37bb397035b228479fcfa007e4c22720380e925aed1d'\n",
        "iv = ciphertext[:32] # the first 16 bytes is the iv.\n",
        "print(iv)\n",
        "cipher_flag = ciphertext[32:]\n",
        "iv + cipher_flag == ciphertext"
      ],
      "metadata": {
        "colab": {
          "base_uri": "https://localhost:8080/"
        },
        "id": "x9wSwdjwkPyG",
        "outputId": "69ead8a2-f9ac-4b1a-e2cd-d5057b1958ee"
      },
      "execution_count": null,
      "outputs": [
        {
          "output_type": "stream",
          "name": "stdout",
          "text": [
            "c119a432482b30a6ee5417790d35f555\n"
          ]
        },
        {
          "output_type": "execute_result",
          "data": {
            "text/plain": [
              "True"
            ]
          },
          "metadata": {},
          "execution_count": 81
        }
      ]
    },
    {
      "cell_type": "code",
      "source": [
        "print(cipher_flag)\n",
        "\n",
        "len(cipher_flag) # length 64 means that this is 32 bytes, ie two blocks."
      ],
      "metadata": {
        "colab": {
          "base_uri": "https://localhost:8080/"
        },
        "id": "8fX-1ZT88DPq",
        "outputId": "ef93c704-a1fe-4f46-d66e-2c4e7ed0c0c4"
      },
      "execution_count": null,
      "outputs": [
        {
          "output_type": "stream",
          "name": "stdout",
          "text": [
            "e0f85cb1bf79d613a75f37bb397035b228479fcfa007e4c22720380e925aed1d\n"
          ]
        },
        {
          "output_type": "execute_result",
          "data": {
            "text/plain": [
              "64"
            ]
          },
          "metadata": {},
          "execution_count": 79
        }
      ]
    },
    {
      "cell_type": "code",
      "source": [
        "first_block = cipher_flag[:32]\n",
        "second_block = cipher_flag[32:]\n",
        "print(first_block + second_block == cipher_flag, first_block, second_block)"
      ],
      "metadata": {
        "colab": {
          "base_uri": "https://localhost:8080/"
        },
        "id": "G2unGYVL9boB",
        "outputId": "081ed9db-e0d3-4247-9179-d59c4cc3ca92"
      },
      "execution_count": null,
      "outputs": [
        {
          "output_type": "stream",
          "name": "stdout",
          "text": [
            "True e0f85cb1bf79d613a75f37bb397035b2 28479fcfa007e4c22720380e925aed1d\n"
          ]
        }
      ]
    },
    {
      "cell_type": "code",
      "source": [
        "# After using the decrypt function on first_block, we get a26bdd423c444b958d36484c78569e60. Xoring with the iv gives\n",
        "bytes(x ^ y for x, y in zip(bytes.fromhex('a26bdd423c444b958d36484c78569e60'), bytes.fromhex(iv)))"
      ],
      "metadata": {
        "colab": {
          "base_uri": "https://localhost:8080/"
        },
        "id": "-RohkR1e9uj7",
        "outputId": "2e924442-eb32-4465-a701-d4e6a213e005"
      },
      "execution_count": null,
      "outputs": [
        {
          "output_type": "execute_result",
          "data": {
            "text/plain": [
              "b'crypto{3cb_5uck5'"
            ]
          },
          "metadata": {},
          "execution_count": 74
        }
      ]
    },
    {
      "cell_type": "code",
      "source": [
        "# And the second block, the plaintext is: bfcc2a818e1d89229000169a185114cf\n",
        "bytes(x ^ y for x, y in zip(bytes.fromhex('bfcc2a818e1d89229000169a185114cf'), bytes.fromhex(iv)))"
      ],
      "metadata": {
        "colab": {
          "base_uri": "https://localhost:8080/"
        },
        "id": "7ubslCoA90mL",
        "outputId": "19c6574b-85fa-41a2-a1f0-f48d971af992"
      },
      "execution_count": null,
      "outputs": [
        {
          "output_type": "execute_result",
          "data": {
            "text/plain": [
              "b'~\\xd5\\x8e\\xb3\\xc66\\xb9\\x84~T\\x01\\xe3\\x15d\\xe1\\x9a'"
            ]
          },
          "metadata": {},
          "execution_count": 77
        }
      ]
    },
    {
      "cell_type": "code",
      "source": [
        "# We may have to decrypt, then xor with the first block to get the second one.\n",
        "bytes(x ^ y for x, y in zip(bytes.fromhex('bfcc2a818e1d89229000169a185114cf'), bytes.fromhex(first_block)))"
      ],
      "metadata": {
        "colab": {
          "base_uri": "https://localhost:8080/"
        },
        "id": "CqN3QtpN_jVa",
        "outputId": "731acc56-6233-4a1c-cdb6-ddfce1c8af39"
      },
      "execution_count": null,
      "outputs": [
        {
          "output_type": "execute_result",
          "data": {
            "text/plain": [
              "b'_4v01d_17_!!!!!}'"
            ]
          },
          "metadata": {},
          "execution_count": 83
        }
      ]
    },
    {
      "cell_type": "code",
      "source": [],
      "metadata": {
        "id": "wDHkfvGpC4qj"
      },
      "execution_count": null,
      "outputs": []
    }
  ]
}