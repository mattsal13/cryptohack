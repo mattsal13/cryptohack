{
  "nbformat": 4,
  "nbformat_minor": 0,
  "metadata": {
    "colab": {
      "provenance": []
    },
    "kernelspec": {
      "name": "python3",
      "display_name": "Python 3"
    },
    "language_info": {
      "name": "python"
    }
  },
  "cells": [
    {
      "cell_type": "markdown",
      "source": [
        "## Functions"
      ],
      "metadata": {
        "id": "JwB2L9N-ZqWn"
      }
    },
    {
      "cell_type": "code",
      "execution_count": 1,
      "metadata": {
        "id": "99ZajILCZl8B"
      },
      "outputs": [],
      "source": [
        "# Converts a number in base10 to base2.\n",
        "\n",
        "def to_binary(num_10):\n",
        "  N = num_10\n",
        "  output = ''\n",
        "\n",
        "  while N > 1:\n",
        "    if N % 2 == 1:\n",
        "      output += '1'\n",
        "      N = (N-1) // 2\n",
        "      continue\n",
        "\n",
        "    N = N // 2\n",
        "    output += '0'\n",
        "  output += '1'\n",
        "\n",
        "  return output[::-1]\n",
        "\n",
        "# Euclid's algorithm.\n",
        "def gcd(a, b):\n",
        "  if a < b:\n",
        "    a, b = b, a\n",
        "  # Get the remainder when a is divided by b: a = b*k + r, where 0 <= r < b.\n",
        "  r = a % b\n",
        "  # If r = 0 then b | a and we are done.\n",
        "  if r == 0:\n",
        "    return b\n",
        "  # If b does not divide a then the gcd(a, b) will be the largest integer dividing b and r.\n",
        "  return gcd(b, r)\n",
        "\n",
        "# (!) DO NOT USE. The Bezout coefficients are wrong.\n",
        "# Need to figure out why this is wrong.\n",
        "def wrong_ext_gcd(a, b):\n",
        "  if a < b:\n",
        "    a, b = b, a\n",
        "\n",
        "  # Initialize.\n",
        "  s_prev, t_prev = 1, 0\n",
        "  s, t = 0, 1\n",
        "  q = a // b\n",
        "  r_prev, r = b, a % b\n",
        "\n",
        "  while True:\n",
        "    # We will need to update both s, t and s_next, t_next\n",
        "    s_tmp, t_tmp = s, t\n",
        "    # Update step is s_n = s_{n-2} - q_n*s_{n-1} and similarly for t_n.\n",
        "    s, t = s_prev - q*s, t_prev - q*t\n",
        "    # Update s, t\n",
        "    s_prev, t_prev = s_tmp, t_tmp\n",
        "    print(s_prev, t_prev)\n",
        "    if r == 0:\n",
        "      return r_prev, s, t\n",
        "    # Else update r's and q.\n",
        "    # r != 0\n",
        "    q = r_prev // r\n",
        "    r_prev, r = r, r_prev % r\n",
        "\n",
        "# Correct implementation. This works for the same reason that the gcd algorithm works:\n",
        "# because gcd(a, b) = gcd(b, a mod b). Assuming that gcd(b, a mod b) = bx + (a mod b)y,\n",
        "# substitute a mod b = a - a // b to get that gcd(a, b) = ay + b(x - (a // b)*y).\n",
        "def ext_gcd(a, b):\n",
        "  if b == 0:\n",
        "    return (a, 1, 0)\n",
        "  gcd, x1, y1 = ext_gcd(b, a % b)\n",
        "  x = y1\n",
        "  y = x1 - (a // b) * y1\n",
        "  return (gcd, x, y)\n",
        "\n",
        "def legendre_symbol(a, p):\n",
        "    \"\"\"Compute the Legendre symbol (a | p)\"\"\"\n",
        "    ls = pow(a, (p - 1) // 2, p)\n",
        "    return -1 if ls == p - 1 else ls\n",
        "\n",
        "# Tonelli-Shanks algorithm (ChatGPT)\n",
        "def tonelli_shanks(a, p):\n",
        "    \"\"\"\n",
        "    Solve for x such that x^2 ≡ a mod p, using the Tonelli–Shanks algorithm.\n",
        "    Requires that p is an odd prime and a is a quadratic residue mod p.\n",
        "    Returns one solution (the other is p - x).\n",
        "    Raises ValueError if no square root exists.\n",
        "    \"\"\"\n",
        "    if legendre_symbol(a, p) != 1:\n",
        "        raise ValueError(f\"{a} is not a square mod {p}\")\n",
        "\n",
        "    # Handle the easy case\n",
        "    if p % 4 == 3:\n",
        "        return pow(a, (p + 1) // 4, p)\n",
        "\n",
        "    # Step 1: Factor p-1 = Q * 2^S with Q odd\n",
        "    Q = p - 1\n",
        "    S = 0\n",
        "    while Q % 2 == 0:\n",
        "        Q //= 2\n",
        "        S += 1\n",
        "\n",
        "    # Step 2: Find a non-residue z\n",
        "    for z in range(2, p):\n",
        "        if legendre_symbol(z, p) == -1:\n",
        "            break\n",
        "    c = pow(z, Q, p)\n",
        "\n",
        "    # Step 3: Initialize variables\n",
        "    R = pow(a, (Q + 1) // 2, p)\n",
        "    t = pow(a, Q, p)\n",
        "    M = S\n",
        "\n",
        "    # Step 4: Loop until t == 1\n",
        "    while t != 1:\n",
        "        # Find the least i such that t^(2^i) ≡ 1\n",
        "        i = 1\n",
        "        temp = pow(t, 2, p)\n",
        "        while temp != 1:\n",
        "            temp = pow(temp, 2, p)\n",
        "            i += 1\n",
        "            if i == M:\n",
        "                raise Exception(\"No solution found\")\n",
        "\n",
        "        # Update variables\n",
        "        b = pow(c, 1 << (M - i - 1), p)\n",
        "        R = (R * b) % p\n",
        "        t = (t * b * b) % p\n",
        "        c = (b * b) % p\n",
        "        M = i\n",
        "\n",
        "    return R\n"
      ]
    },
    {
      "cell_type": "markdown",
      "source": [
        "## Modular Exponentiation"
      ],
      "metadata": {
        "id": "aaCIM-IUZuJ3"
      }
    },
    {
      "cell_type": "code",
      "source": [
        "pow(101, 17, 22663)"
      ],
      "metadata": {
        "colab": {
          "base_uri": "https://localhost:8080/"
        },
        "id": "rg8cepN_Zrug",
        "outputId": "1649858e-64ab-4f73-9168-37d96c3eb81b"
      },
      "execution_count": 2,
      "outputs": [
        {
          "output_type": "execute_result",
          "data": {
            "text/plain": [
              "19906"
            ]
          },
          "metadata": {},
          "execution_count": 2
        }
      ]
    },
    {
      "cell_type": "markdown",
      "source": [
        "## Public Keys\n",
        "The most common value for e is 65537 = 0x10001."
      ],
      "metadata": {
        "id": "Z-nnlUpJbPZq"
      }
    },
    {
      "cell_type": "code",
      "source": [
        "p, q = 17, 23\n",
        "N = p*q\n",
        "e= 65537\n",
        "# Encrypt 12.\n",
        "pow(12, e, N)"
      ],
      "metadata": {
        "colab": {
          "base_uri": "https://localhost:8080/"
        },
        "id": "-WIBa691Z-13",
        "outputId": "3fced421-0531-44d2-8ea6-e4ab713e8b6d"
      },
      "execution_count": 3,
      "outputs": [
        {
          "output_type": "execute_result",
          "data": {
            "text/plain": [
              "301"
            ]
          },
          "metadata": {},
          "execution_count": 3
        }
      ]
    },
    {
      "cell_type": "markdown",
      "source": [
        "## Euler's Totient\n",
        "If p or q is deduced, then $\\phi(N) = (p-1)(q-1)$ can be deduced which allows for messages to be decrypted."
      ],
      "metadata": {
        "id": "LZyoi7_HbrxO"
      }
    },
    {
      "cell_type": "code",
      "source": [
        "p = 857504083339712752489993810777\n",
        "q = 1029224947942998075080348647219"
      ],
      "metadata": {
        "id": "q1s53M7tbmkR"
      },
      "execution_count": 4,
      "outputs": []
    },
    {
      "cell_type": "code",
      "source": [
        "flag = (p-1) * (q-1)\n",
        "flag"
      ],
      "metadata": {
        "colab": {
          "base_uri": "https://localhost:8080/"
        },
        "id": "2cNG5JLSb75A",
        "outputId": "9dec7088-a49f-4909-f039-0480b0f9e33d"
      },
      "execution_count": 6,
      "outputs": [
        {
          "output_type": "execute_result",
          "data": {
            "text/plain": [
              "882564595536224140639625987657529300394956519977044270821168"
            ]
          },
          "metadata": {},
          "execution_count": 6
        }
      ]
    },
    {
      "cell_type": "markdown",
      "source": [
        "## Private Keys"
      ],
      "metadata": {
        "id": "tP_kkobAcOeQ"
      }
    },
    {
      "cell_type": "markdown",
      "source": [
        "Note that in RSA, the private key is $d = e^{-1}\\mod\\phi(N)$."
      ],
      "metadata": {
        "id": "JX4edm_0cQJ4"
      }
    },
    {
      "cell_type": "code",
      "source": [
        "p = 857504083339712752489993810777\n",
        "q = 1029224947942998075080348647219\n",
        "e=65537\n",
        "totient = (p-1) * (q-1)"
      ],
      "metadata": {
        "id": "b9d-M7PhcBJv"
      },
      "execution_count": 10,
      "outputs": []
    },
    {
      "cell_type": "code",
      "source": [
        "d = pow(e, -1, totient)"
      ],
      "metadata": {
        "id": "SYjG_8nldQ9o"
      },
      "execution_count": 14,
      "outputs": []
    },
    {
      "cell_type": "code",
      "source": [
        "d"
      ],
      "metadata": {
        "colab": {
          "base_uri": "https://localhost:8080/"
        },
        "id": "flFhTAtIdWU_",
        "outputId": "5a90a149-b10c-448d-ab83-0f0e3b1bd5c6"
      },
      "execution_count": 15,
      "outputs": [
        {
          "output_type": "execute_result",
          "data": {
            "text/plain": [
              "121832886702415731577073962957377780195510499965398469843281"
            ]
          },
          "metadata": {},
          "execution_count": 15
        }
      ]
    },
    {
      "cell_type": "markdown",
      "source": [
        "## RSA Decryption\n",
        "We'll use the private key $d$ computed in the previous challenge to decrypt c.Note that $c \\equiv M^e\\mod N$ So $M \\equiv c^d\\mod N$."
      ],
      "metadata": {
        "id": "H-MOrRwvdmVG"
      }
    },
    {
      "cell_type": "code",
      "source": [
        "N = 882564595536224140639625987659416029426239230804614613279163\n",
        "e = 65537\n",
        "c = 77578995801157823671636298847186723593814843845525223303932"
      ],
      "metadata": {
        "id": "dM-xySMkdl6W"
      },
      "execution_count": 13,
      "outputs": []
    },
    {
      "cell_type": "code",
      "source": [
        "pow(c, d, N)"
      ],
      "metadata": {
        "colab": {
          "base_uri": "https://localhost:8080/"
        },
        "id": "U8wshdUvdW1n",
        "outputId": "9f12e8ef-91e4-4ad0-f63f-1ed61cc50f35"
      },
      "execution_count": 16,
      "outputs": [
        {
          "output_type": "execute_result",
          "data": {
            "text/plain": [
              "13371337"
            ]
          },
          "metadata": {},
          "execution_count": 16
        }
      ]
    },
    {
      "cell_type": "markdown",
      "source": [
        "## RSA Signatures\n",
        "\n",
        "First encrypt via $c = m^{e_0}\\mod N_0$ where $e_0$ is the receiver's public key. Then to sign a message, you compute a hash $S = H(m)^{d_1}$ where $d_1$ is your private key. Your friend: decrypts the message using their private key, and verifies the sender using your public key.\n",
        "\n",
        "We need to sign crypto{Immut4ble_m3ssag1ng} using SHA256."
      ],
      "metadata": {
        "id": "R30fE5XYeKkS"
      }
    },
    {
      "cell_type": "code",
      "source": [
        "N = 15216583654836731327639981224133918855895948374072384050848479908982286890731769486609085918857664046075375253168955058743185664390273058074450390236774324903305663479046566232967297765731625328029814055635316002591227570271271445226094919864475407884459980489638001092788574811554149774028950310695112688723853763743238753349782508121985338746755237819373178699343135091783992299561827389745132880022259873387524273298850340648779897909381979714026837172003953221052431217940632552930880000919436507245150726543040714721553361063311954285289857582079880295199632757829525723874753306371990452491305564061051059885803\n",
        "d = 11175901210643014262548222473449533091378848269490518850474399681690547281665059317155831692300453197335735728459259392366823302405685389586883670043744683993709123180805154631088513521456979317628012721881537154107239389466063136007337120599915456659758559300673444689263854921332185562706707573660658164991098457874495054854491474065039621922972671588299315846306069845169959451250821044417886630346229021305410340100401530146135418806544340908355106582089082980533651095594192031411679866134256418292249592135441145384466261279428795408721990564658703903787956958168449841491667690491585550160457893350536334242689"
      ],
      "metadata": {
        "id": "wBSuBv6Ad9Tf"
      },
      "execution_count": 17,
      "outputs": []
    },
    {
      "cell_type": "code",
      "source": [
        "!pip install pycryptodome"
      ],
      "metadata": {
        "colab": {
          "base_uri": "https://localhost:8080/"
        },
        "collapsed": true,
        "id": "kljpAHyze1RQ",
        "outputId": "45ff7e0c-a72f-4c15-d6df-d4a54718528a"
      },
      "execution_count": 26,
      "outputs": [
        {
          "output_type": "stream",
          "name": "stdout",
          "text": [
            "Collecting pycryptodome\n",
            "  Downloading pycryptodome-3.23.0-cp37-abi3-manylinux_2_17_x86_64.manylinux2014_x86_64.whl.metadata (3.4 kB)\n",
            "Downloading pycryptodome-3.23.0-cp37-abi3-manylinux_2_17_x86_64.manylinux2014_x86_64.whl (2.3 MB)\n",
            "\u001b[?25l   \u001b[90m━━━━━━━━━━━━━━━━━━━━━━━━━━━━━━━━━━━━━━━━\u001b[0m \u001b[32m0.0/2.3 MB\u001b[0m \u001b[31m?\u001b[0m eta \u001b[36m-:--:--\u001b[0m\r\u001b[2K   \u001b[91m━━\u001b[0m\u001b[91m╸\u001b[0m\u001b[90m━━━━━━━━━━━━━━━━━━━━━━━━━━━━━━━━━━━━━\u001b[0m \u001b[32m0.2/2.3 MB\u001b[0m \u001b[31m4.6 MB/s\u001b[0m eta \u001b[36m0:00:01\u001b[0m\r\u001b[2K   \u001b[91m━━━━━━━━━━━━━━━━━━━━━━━━━━━\u001b[0m\u001b[90m╺\u001b[0m\u001b[90m━━━━━━━━━━━━\u001b[0m \u001b[32m1.5/2.3 MB\u001b[0m \u001b[31m22.7 MB/s\u001b[0m eta \u001b[36m0:00:01\u001b[0m\r\u001b[2K   \u001b[90m━━━━━━━━━━━━━━━━━━━━━━━━━━━━━━━━━━━━━━━━\u001b[0m \u001b[32m2.3/2.3 MB\u001b[0m \u001b[31m26.2 MB/s\u001b[0m eta \u001b[36m0:00:00\u001b[0m\n",
            "\u001b[?25hInstalling collected packages: pycryptodome\n",
            "Successfully installed pycryptodome-3.23.0\n"
          ]
        }
      ]
    },
    {
      "cell_type": "code",
      "source": [
        "from Crypto.Util.Padding import pad, unpad\n",
        "from Crypto.Cipher import AES\n",
        "from Crypto.Random import get_random_bytes"
      ],
      "metadata": {
        "id": "p_6372-kfF0v"
      },
      "execution_count": 27,
      "outputs": []
    },
    {
      "cell_type": "code",
      "source": [
        "from Crypto.Util.number import bytes_to_long\n",
        "# test\n",
        "bytes_to_long(b'11111')"
      ],
      "metadata": {
        "colab": {
          "base_uri": "https://localhost:8080/"
        },
        "id": "nuGf49dbfNYA",
        "outputId": "7588539f-8f18-4217-baee-8c7f813f6fe4"
      },
      "execution_count": 29,
      "outputs": [
        {
          "output_type": "execute_result",
          "data": {
            "text/plain": [
              "211278704945"
            ]
          },
          "metadata": {},
          "execution_count": 29
        }
      ]
    },
    {
      "cell_type": "code",
      "source": [
        "flag = b'crypto{Immut4ble_m3ssag1ng}'\n",
        "M_int = bytes_to_long(flag)"
      ],
      "metadata": {
        "id": "XQBRGgjsfYuX"
      },
      "execution_count": 34,
      "outputs": []
    },
    {
      "cell_type": "code",
      "source": [
        "pow(M_int, d, N)"
      ],
      "metadata": {
        "colab": {
          "base_uri": "https://localhost:8080/"
        },
        "id": "LaQiWCEphj4Q",
        "outputId": "63f3c1de-5aea-41dc-93d7-1b14a7b920db"
      },
      "execution_count": 33,
      "outputs": [
        {
          "output_type": "execute_result",
          "data": {
            "text/plain": [
              "7291586416201791766037636146241032964444936655920786498190334983618088824671059306356976964930175153467659405016015484148997139426801809505209218745817283306679724121955906940007795458080780539944591259177980185221220905794340880634553922224851374662498660988101250385874724529886300501437862749328840700899496861012259366168737844891835419680934283978224510379976627338846422811241945389667155869113639301247183460690434224070987806621763555532207354013586001527640073178859649682724810390492935602724187386492928658632710195517150986345438635341713740498090921365843196435262342784637782024652806738889588590356660"
            ]
          },
          "metadata": {},
          "execution_count": 33
        }
      ]
    },
    {
      "cell_type": "code",
      "source": [
        "# We need to compute H(m) using SHA256 hash.\n",
        "from Crypto.Hash import SHA256\n",
        "\n",
        "hash_object = SHA256.new(data=flag)\n",
        "print(hash_object.digest())\n",
        "print(hash_object.hexdigest())"
      ],
      "metadata": {
        "colab": {
          "base_uri": "https://localhost:8080/"
        },
        "id": "C40W0cmlhpeJ",
        "outputId": "66358550-76f2-4ce9-a497-f629d978bccf"
      },
      "execution_count": 36,
      "outputs": [
        {
          "output_type": "stream",
          "name": "stdout",
          "text": [
            "b'\\x99\\xb4\\xc7\\xbb\\x81L\\xc60\\xc4\\x19\\x9eH\\x14\\xff\\xed\\x85\\xa85\\xf6O\\xfc\\x82\\xaa\\xda\\xa68\\x8d\\x9d\\xf9\\xae\\xb2\\xcb'\n",
            "99b4c7bb814cc630c4199e4814ffed85a835f64ffc82aadaa6388d9df9aeb2cb\n"
          ]
        }
      ]
    },
    {
      "cell_type": "code",
      "source": [
        "# Now we compute H(m)^d mod N.\n",
        "Hm = b'\\x99\\xb4\\xc7\\xbb\\x81L\\xc60\\xc4\\x19\\x9eH\\x14\\xff\\xed\\x85\\xa85\\xf6O\\xfc\\x82\\xaa\\xda\\xa68\\x8d\\x9d\\xf9\\xae\\xb2\\xcb'\n",
        "pow(bytes_to_long(Hm), d, N)"
      ],
      "metadata": {
        "colab": {
          "base_uri": "https://localhost:8080/"
        },
        "id": "KRNp_PxyiSW5",
        "outputId": "8baedb03-8451-4adc-f6b4-2f417c0f850c"
      },
      "execution_count": 37,
      "outputs": [
        {
          "output_type": "execute_result",
          "data": {
            "text/plain": [
              "13480738404590090803339831649238454376183189744970683129909766078877706583282422686710545217275797376709672358894231550335007974983458408620258478729775647818876610072903021235573923300070103666940534047644900475773318682585772698155617451477448441198150710420818995347235921111812068656782998168064960965451719491072569057636701190429760047193261886092862024118487826452766513533860734724124228305158914225250488399673645732882077575252662461860972889771112594906884441454355959482925283992539925713424132009768721389828848907099772040836383856524605008942907083490383109757406940540866978237471686296661685839083475"
            ]
          },
          "metadata": {},
          "execution_count": 37
        }
      ]
    },
    {
      "cell_type": "markdown",
      "source": [
        "## Factoring"
      ],
      "metadata": {
        "id": "PZ34l_pooDlL"
      }
    },
    {
      "cell_type": "code",
      "source": [
        "!pip install primefac"
      ],
      "metadata": {
        "colab": {
          "base_uri": "https://localhost:8080/"
        },
        "id": "kpPp1JV1iq-5",
        "outputId": "5fb4d43f-d5a6-4f2d-9d31-a75534843cad"
      },
      "execution_count": 71,
      "outputs": [
        {
          "output_type": "stream",
          "name": "stdout",
          "text": [
            "Requirement already satisfied: primefac in /usr/local/lib/python3.11/dist-packages (2.0.12)\n"
          ]
        }
      ]
    },
    {
      "cell_type": "code",
      "source": [
        "N = 510143758735509025530880200653196460532653147"
      ],
      "metadata": {
        "id": "Y2MXnP-OoKMa"
      },
      "execution_count": 39,
      "outputs": []
    },
    {
      "cell_type": "code",
      "source": [
        "from primefac import primegen\n",
        "\n",
        "#test\n",
        "list(primegen(limit=20))"
      ],
      "metadata": {
        "colab": {
          "base_uri": "https://localhost:8080/"
        },
        "id": "M_kDBJPupMNR",
        "outputId": "522e0528-415e-4d20-ff17-37a375836a07"
      },
      "execution_count": 44,
      "outputs": [
        {
          "output_type": "execute_result",
          "data": {
            "text/plain": [
              "[2, 3, 5, 7, 11, 13, 17, 19]"
            ]
          },
          "metadata": {},
          "execution_count": 44
        }
      ]
    },
    {
      "cell_type": "code",
      "source": [
        "# The hint is suggesting that we use a fork of primefac.\n",
        "!pip install factordb-python"
      ],
      "metadata": {
        "colab": {
          "base_uri": "https://localhost:8080/"
        },
        "collapsed": true,
        "id": "Fik_b6FSqYDp",
        "outputId": "cc71c9bf-8d70-4866-b1be-201c20463b16"
      },
      "execution_count": 62,
      "outputs": [
        {
          "output_type": "stream",
          "name": "stdout",
          "text": [
            "Collecting factordb-python\n",
            "  Downloading factordb-python-1.3.0.tar.gz (4.0 kB)\n",
            "  Preparing metadata (setup.py) ... \u001b[?25l\u001b[?25hdone\n",
            "Requirement already satisfied: requests in /usr/local/lib/python3.11/dist-packages (from factordb-python) (2.32.3)\n",
            "Requirement already satisfied: charset-normalizer<4,>=2 in /usr/local/lib/python3.11/dist-packages (from requests->factordb-python) (3.4.2)\n",
            "Requirement already satisfied: idna<4,>=2.5 in /usr/local/lib/python3.11/dist-packages (from requests->factordb-python) (3.10)\n",
            "Requirement already satisfied: urllib3<3,>=1.21.1 in /usr/local/lib/python3.11/dist-packages (from requests->factordb-python) (2.5.0)\n",
            "Requirement already satisfied: certifi>=2017.4.17 in /usr/local/lib/python3.11/dist-packages (from requests->factordb-python) (2025.7.14)\n",
            "Building wheels for collected packages: factordb-python\n",
            "  Building wheel for factordb-python (setup.py) ... \u001b[?25l\u001b[?25hdone\n",
            "  Created wheel for factordb-python: filename=factordb_python-1.3.0-py3-none-any.whl size=4620 sha256=3ca0acb9759e631f288c792600370c9ee3a80da5a188ed792618379a354426fb\n",
            "  Stored in directory: /root/.cache/pip/wheels/23/c6/8b/5b4f1a12b84694034056342ea171aabf5c985f6438bcc7cceb\n",
            "Successfully built factordb-python\n",
            "Installing collected packages: factordb-python\n",
            "Successfully installed factordb-python-1.3.0\n"
          ]
        }
      ]
    },
    {
      "cell_type": "code",
      "source": [
        "# Almost instant!\n",
        "\n",
        "from factordb.factordb import FactorDB\n",
        "\n",
        "f = FactorDB(N)\n",
        "\n",
        "print(f.get_factor_list())\n",
        "\n",
        "print(f.connect())\n",
        "\n",
        "print(f.get_factor_list())\n",
        "\n",
        "print(f.get_factor_from_api())\n",
        "\n",
        "f.get_status()\n"
      ],
      "metadata": {
        "colab": {
          "base_uri": "https://localhost:8080/",
          "height": 105
        },
        "id": "CZejpGE6tRly",
        "outputId": "6e6080ff-aa58-4a99-b876-39a718b41d18"
      },
      "execution_count": 67,
      "outputs": [
        {
          "output_type": "stream",
          "name": "stdout",
          "text": [
            "[]\n",
            "<Response [200]>\n",
            "[19704762736204164635843, 25889363174021185185929]\n",
            "[['19704762736204164635843', 1], ['25889363174021185185929', 1]]\n"
          ]
        },
        {
          "output_type": "execute_result",
          "data": {
            "text/plain": [
              "'FF'"
            ],
            "application/vnd.google.colaboratory.intrinsic+json": {
              "type": "string"
            }
          },
          "metadata": {},
          "execution_count": 67
        }
      ]
    },
    {
      "cell_type": "code",
      "source": [
        "19704762736204164635843 < 25889363174021185185929"
      ],
      "metadata": {
        "colab": {
          "base_uri": "https://localhost:8080/"
        },
        "id": "vU4b8Buf1sJU",
        "outputId": "43ca338b-54a2-4128-b51d-5882c13699ff"
      },
      "execution_count": 68,
      "outputs": [
        {
          "output_type": "execute_result",
          "data": {
            "text/plain": [
              "True"
            ]
          },
          "metadata": {},
          "execution_count": 68
        }
      ]
    },
    {
      "cell_type": "markdown",
      "source": [
        "## Monoprime"
      ],
      "metadata": {
        "id": "jUnE6tRW2E_H"
      }
    },
    {
      "cell_type": "code",
      "source": [
        "n = 171731371218065444125482536302245915415603318380280392385291836472299752747934607246477508507827284075763910264995326010251268493630501989810855418416643352631102434317900028697993224868629935657273062472544675693365930943308086634291936846505861203914449338007760990051788980485462592823446469606824421932591\n",
        "e = 65537\n",
        "ct = 161367550346730604451454756189028938964941280347662098798775466019463375610700074840105776873791605070092554650190486030367121011578171525759600774739890458414593857709994072516290998135846956596662071379067305011746842247628316996977338024343628757374524136260758515864509435302781735938531030576289086798942\n"
      ],
      "metadata": {
        "id": "41C_ggVp2F96"
      },
      "execution_count": 69,
      "outputs": []
    },
    {
      "cell_type": "code",
      "source": [
        "from primefac import isprime\n",
        "\n",
        "isprime(n)"
      ],
      "metadata": {
        "colab": {
          "base_uri": "https://localhost:8080/"
        },
        "id": "x5nr7XcK2Jey",
        "outputId": "a6daef2e-5a6b-46c1-df86-508da4f7d48b"
      },
      "execution_count": 74,
      "outputs": [
        {
          "output_type": "execute_result",
          "data": {
            "text/plain": [
              "True"
            ]
          },
          "metadata": {},
          "execution_count": 74
        }
      ]
    },
    {
      "cell_type": "markdown",
      "source": [
        "n is a prime here, rather than a product of two primes. That means finding the modular inverse is a lot easer since $\\phi(n) = n-1$."
      ],
      "metadata": {
        "id": "aYQmNZvA2pGo"
      }
    },
    {
      "cell_type": "code",
      "source": [
        "d = pow(e, -1, n-1)\n",
        "pow(ct, d, n)"
      ],
      "metadata": {
        "colab": {
          "base_uri": "https://localhost:8080/"
        },
        "id": "RILcVPGH2hNr",
        "outputId": "37251735-3e0d-4d48-cde7-5323c1d5fa22"
      },
      "execution_count": 75,
      "outputs": [
        {
          "output_type": "execute_result",
          "data": {
            "text/plain": [
              "44981230718212183184022261350591509650967020174777710365581497711727767219325"
            ]
          },
          "metadata": {},
          "execution_count": 75
        }
      ]
    },
    {
      "cell_type": "code",
      "source": [
        "from Crypto.Util.number import long_to_bytes\n",
        "long_to_bytes(44981230718212183184022261350591509650967020174777710365581497711727767219325)"
      ],
      "metadata": {
        "colab": {
          "base_uri": "https://localhost:8080/"
        },
        "id": "u3eKKyIB22cM",
        "outputId": "fef3838d-5292-4694-b4fe-15f8c1c7bb20"
      },
      "execution_count": 78,
      "outputs": [
        {
          "output_type": "execute_result",
          "data": {
            "text/plain": [
              "b'crypto{0n3_pr1m3_41n7_pr1m3_l0l}'"
            ]
          },
          "metadata": {},
          "execution_count": 78
        }
      ]
    },
    {
      "cell_type": "markdown",
      "source": [
        "## Manyprime\n",
        "\n",
        "Here the modulus will be a product of 30 primes. But apparently, it is susceptible to Elliptic Curve factorization. Here we use Sage built in EC factorization method."
      ],
      "metadata": {
        "id": "EE_KqJgJ3KBw"
      }
    },
    {
      "cell_type": "code",
      "source": [
        "# I don't think there is sage support for notebooks, or even Windows. Have to do\n",
        "# this in WSL: see https://doc.sagemath.org/html/en/installation/index.html."
      ],
      "metadata": {
        "id": "C-Psqsu527ZD"
      },
      "execution_count": 80,
      "outputs": []
    },
    {
      "cell_type": "code",
      "source": [
        "n = 580642391898843192929563856870897799650883152718761762932292482252152591279871421569162037190419036435041797739880389529593674485555792234900969402019055601781662044515999210032698275981631376651117318677368742867687180140048715627160641771118040372573575479330830092989800730105573700557717146251860588802509310534792310748898504394966263819959963273509119791037525504422606634640173277598774814099540555569257179715908642917355365791447508751401889724095964924513196281345665480688029639999472649549163147599540142367575413885729653166517595719991872223011969856259344396899748662101941230745601719730556631637\n",
        "e = 65537\n",
        "ct = 320721490534624434149993723527322977960556510750628354856260732098109692581338409999983376131354918370047625150454728718467998870322344980985635149656977787964380651868131740312053755501594999166365821315043312308622388016666802478485476059625888033017198083472976011719998333985531756978678758897472845358167730221506573817798467100023754709109274265835201757369829744113233607359526441007577850111228850004361838028842815813724076511058179239339760639518034583306154826603816927757236549096339501503316601078891287408682099750164720032975016814187899399273719181407940397071512493967454225665490162619270814464"
      ],
      "metadata": {
        "id": "dLrrQ4KJ3x50"
      },
      "execution_count": 81,
      "outputs": []
    },
    {
      "cell_type": "code",
      "source": [
        "# Sage actually did it in 43 seconds:\n",
        "factors = [9282105380008121879,\n",
        " 9303850685953812323,\n",
        " 9389357739583927789,\n",
        " 10336650220878499841,\n",
        " 10638241655447339831,\n",
        " 11282698189561966721,\n",
        " 11328768673634243077,\n",
        " 11403460639036243901,\n",
        " 11473665579512371723,\n",
        " 11492065299277279799,\n",
        " 11530534813954192171,\n",
        " 11665347949879312361,\n",
        " 12132158321859677597,\n",
        " 12834461276877415051,\n",
        " 12955403765595949597,\n",
        " 12973972336777979701,\n",
        " 13099895578757581201,\n",
        " 13572286589428162097,\n",
        " 14100640260554622013,\n",
        " 14178869592193599187,\n",
        " 14278240802299816541,\n",
        " 14523070016044624039,\n",
        " 14963354250199553339,\n",
        " 15364597561881860737,\n",
        " 15669758663523555763,\n",
        " 15824122791679574573,\n",
        " 15998365463074268941,\n",
        " 16656402470578844539,\n",
        " 16898740504023346457,\n",
        " 17138336856793050757,\n",
        " 17174065872156629921,\n",
        " 17281246625998849649]"
      ],
      "metadata": {
        "id": "1MHDv1MeHXyW"
      },
      "execution_count": 82,
      "outputs": []
    },
    {
      "cell_type": "code",
      "source": [
        "# Check that the algorithm gave the right factors:\n",
        "num = 1\n",
        "\n",
        "for p in factors:\n",
        "  num *= p\n",
        "num == n"
      ],
      "metadata": {
        "colab": {
          "base_uri": "https://localhost:8080/"
        },
        "id": "2p5KL9G8JnoQ",
        "outputId": "3c7fe43a-980e-429b-8d1f-dd53ef9da598"
      },
      "execution_count": 86,
      "outputs": [
        {
          "output_type": "execute_result",
          "data": {
            "text/plain": [
              "True"
            ]
          },
          "metadata": {},
          "execution_count": 86
        }
      ]
    },
    {
      "cell_type": "markdown",
      "source": [
        "If $n = p_1\\cdots p_n$ then $\\phi(n) = (p_1-1)\\cdots (p_n-1)$."
      ],
      "metadata": {
        "id": "SieGoe7iIvgk"
      }
    },
    {
      "cell_type": "code",
      "source": [
        "totient = 1\n",
        "for p in factors:\n",
        "  totient *= p-1\n",
        "\n",
        "d = pow(e, -1, totient)\n",
        "d"
      ],
      "metadata": {
        "colab": {
          "base_uri": "https://localhost:8080/"
        },
        "id": "r1xjh9e1Ijgl",
        "outputId": "bf817045-497e-45bf-c341-65e11cb42499"
      },
      "execution_count": 87,
      "outputs": [
        {
          "output_type": "execute_result",
          "data": {
            "text/plain": [
              "550678668057320270486894977713280661612386679473387004433937990192257019009907567239119014475553352525151197453709254404700764265858700310364694278627740936496980796299768511049032643264376359955800264702060642943865098798169536307529141678474309717202937979408478029523743103567031688359785501822834619529958535700930643075021264741270961281670213783654512824458687819377344959486643077970750359994201843167516881424941358993141613678672658457307473999414959060492054590697942850267611629510044892244182678685166778803001599034675379574122977541489674412812063097749209824025650218295674398899691008132810473473"
            ]
          },
          "metadata": {},
          "execution_count": 87
        }
      ]
    },
    {
      "cell_type": "code",
      "source": [
        "flag = pow(ct, d, n)\n",
        "long_to_bytes(flag) # those are small factors?..."
      ],
      "metadata": {
        "colab": {
          "base_uri": "https://localhost:8080/"
        },
        "id": "MsGONESIKIps",
        "outputId": "34b78ece-7ed4-477c-d6d1-8fbcba5300dc"
      },
      "execution_count": 90,
      "outputs": [
        {
          "output_type": "execute_result",
          "data": {
            "text/plain": [
              "b'crypto{700_m4ny_5m4ll_f4c70r5}'"
            ]
          },
          "metadata": {},
          "execution_count": 90
        }
      ]
    },
    {
      "cell_type": "markdown",
      "source": [
        "## Salty"
      ],
      "metadata": {
        "id": "JaqBBrD3KteH"
      }
    },
    {
      "cell_type": "code",
      "source": [
        "#!/usr/bin/env python3\n",
        "\n",
        "from Crypto.Util.number import getPrime, inverse, bytes_to_long, long_to_bytes\n",
        "\n",
        "e = 1\n",
        "d = -1\n",
        "\n",
        "while d == -1:\n",
        "    p = getPrime(512)\n",
        "    q = getPrime(512)\n",
        "    phi = (p - 1) * (q - 1)\n",
        "    d = inverse(e, phi)\n",
        "\n",
        "n = p * q\n",
        "\n",
        "flag = b\"XXXXXXXXXXXXXXXXXXXXXXX\"\n",
        "pt = bytes_to_long(flag)\n",
        "ct = pow(pt, e, n)\n",
        "\n",
        "print(f\"n = {n}\")\n",
        "print(f\"e = {e}\")\n",
        "print(f\"ct = {ct}\")\n",
        "\n",
        "pt = pow(ct, d, n)\n",
        "decrypted = long_to_bytes(pt)\n",
        "assert decrypted == flag\n"
      ],
      "metadata": {
        "colab": {
          "base_uri": "https://localhost:8080/"
        },
        "id": "Fxwxg9vqKLF2",
        "outputId": "c2773e56-deee-4e63-c9ad-d744292da92c"
      },
      "execution_count": 98,
      "outputs": [
        {
          "output_type": "stream",
          "name": "stdout",
          "text": [
            "n = 98868319883029907016349725196897151600662217009690343400705449197683613662916936195675900019840288832356302268775528808231764194264376008919687675765031948836733924247422191003599619683904135959427565804452993259710635451580260389715246246232044973466736769434300739350920996294285435514326836521889377314113\n",
            "e = 1\n",
            "ct = 8461779300153613774778637702853471884451704643272595544\n"
          ]
        }
      ]
    },
    {
      "cell_type": "code",
      "source": [
        "#output.txt file\n",
        "n = 110581795715958566206600392161360212579669637391437097703685154237017351570464767725324182051199901920318211290404777259728923614917211291562555864753005179326101890427669819834642007924406862482343614488768256951616086287044725034412802176312273081322195866046098595306261781788276570920467840172004530873767\n",
        "e = 1\n",
        "ct = 44981230718212183604274785925793145442655465025264554046028251311164494127485\n"
      ],
      "metadata": {
        "id": "xgb6YqLcKvYm"
      },
      "execution_count": 99,
      "outputs": []
    },
    {
      "cell_type": "code",
      "source": [
        "long_to_bytes(ct)"
      ],
      "metadata": {
        "colab": {
          "base_uri": "https://localhost:8080/"
        },
        "id": "kyv1q86aKzPk",
        "outputId": "a9860f42-f8d8-4c3f-8282-ada0469d9806"
      },
      "execution_count": 100,
      "outputs": [
        {
          "output_type": "execute_result",
          "data": {
            "text/plain": [
              "b'crypto{saltstack_fell_for_this!}'"
            ]
          },
          "metadata": {},
          "execution_count": 100
        }
      ]
    },
    {
      "cell_type": "markdown",
      "source": [
        "## Modulus Inutilis"
      ],
      "metadata": {
        "id": "FZzxLQ-mcIJt"
      }
    },
    {
      "cell_type": "code",
      "source": [
        "#!/usr/bin/env python3\n",
        "\n",
        "# from Crypto.Util.number import getPrime, inverse, bytes_to_long, long_to_bytes\n",
        "\n",
        "# e = 3\n",
        "# d = -1\n",
        "\n",
        "# while d == -1:\n",
        "#     p = getPrime(1024)\n",
        "#     q = getPrime(1024)\n",
        "#     phi = (p - 1) * (q - 1)\n",
        "#     d = inverse(e, phi)\n",
        "\n",
        "# n = p * q\n",
        "\n",
        "# flag = b\"XXXXXXXXXXXXXXXXXXXXXXX\"\n",
        "# pt = bytes_to_long(flag)\n",
        "# ct = pow(pt, e, n)\n",
        "\n",
        "# print(f\"n = {n}\")\n",
        "# print(f\"e = {e}\")\n",
        "# print(f\"ct = {ct}\")\n",
        "\n",
        "# pt = pow(ct, d, n)\n",
        "# decrypted = long_to_bytes(pt)\n",
        "# assert decrypted == flag\n"
      ],
      "metadata": {
        "id": "xiszVRSwbVQr"
      },
      "execution_count": 109,
      "outputs": []
    },
    {
      "cell_type": "code",
      "source": [
        "n = 17258212916191948536348548470938004244269544560039009244721959293554822498047075403658429865201816363311805874117705688359853941515579440852166618074161313773416434156467811969628473425365608002907061241714688204565170146117869742910273064909154666642642308154422770994836108669814632309362483307560217924183202838588431342622551598499747369771295105890359290073146330677383341121242366368309126850094371525078749496850520075015636716490087482193603562501577348571256210991732071282478547626856068209192987351212490642903450263288650415552403935705444809043563866466823492258216747445926536608548665086042098252335883\n",
        "e = 3\n",
        "ct = 243251053617903760309941844835411292373350655973075480264001352919865180151222189820473358411037759381328642957324889519192337152355302808400638052620580409813222660643570085177957\n"
      ],
      "metadata": {
        "id": "_pLbPbqCcTUd"
      },
      "execution_count": 102,
      "outputs": []
    },
    {
      "cell_type": "code",
      "source": [
        "# The ciphertext is cleary much smaller than n. Just take the normal cube root.\n",
        "from sympy import root\n",
        "\n",
        "root(ct, 3)"
      ],
      "metadata": {
        "colab": {
          "base_uri": "https://localhost:8080/",
          "height": 37
        },
        "id": "3UzKyUP4cYW1",
        "outputId": "89953c14-31e6-4db2-99b5-1dbb5327c006"
      },
      "execution_count": 104,
      "outputs": [
        {
          "output_type": "execute_result",
          "data": {
            "text/plain": [
              "624239975241694158443315202759206900318542905782320965248893"
            ],
            "text/latex": "$\\displaystyle 624239975241694158443315202759206900318542905782320965248893$"
          },
          "metadata": {},
          "execution_count": 104
        }
      ]
    },
    {
      "cell_type": "code",
      "source": [
        "flag = long_to_bytes(624239975241694158443315202759206900318542905782320965248893)\n",
        "flag"
      ],
      "metadata": {
        "colab": {
          "base_uri": "https://localhost:8080/"
        },
        "id": "PC8xyUeoc6sO",
        "outputId": "d493c517-43b2-4340-9739-6fcbfca1c49e"
      },
      "execution_count": 106,
      "outputs": [
        {
          "output_type": "execute_result",
          "data": {
            "text/plain": [
              "b'crypto{N33d_m04R_p4dd1ng}'"
            ]
          },
          "metadata": {},
          "execution_count": 106
        }
      ]
    },
    {
      "cell_type": "markdown",
      "source": [
        "## Working with fields"
      ],
      "metadata": {
        "id": "jgr5PhaWdOuu"
      }
    },
    {
      "cell_type": "code",
      "source": [
        "pow(209, -1, 991)"
      ],
      "metadata": {
        "colab": {
          "base_uri": "https://localhost:8080/"
        },
        "id": "PKmZb-eYdJw_",
        "outputId": "4eecff2b-6b3c-4d2d-fb9e-1e9f5000fd36"
      },
      "execution_count": 107,
      "outputs": [
        {
          "output_type": "execute_result",
          "data": {
            "text/plain": [
              "569"
            ]
          },
          "metadata": {},
          "execution_count": 107
        }
      ]
    },
    {
      "cell_type": "markdown",
      "source": [
        "## Generators of groups\n",
        "\n",
        "Find the generator of $F_p^\\times$ given that p = 28151."
      ],
      "metadata": {
        "id": "kJmGTKYkdta2"
      }
    },
    {
      "cell_type": "code",
      "source": [],
      "metadata": {
        "id": "jUH-YOw3dmiE"
      },
      "execution_count": null,
      "outputs": []
    }
  ]
}