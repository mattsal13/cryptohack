{
  "nbformat": 4,
  "nbformat_minor": 0,
  "metadata": {
    "colab": {
      "provenance": []
    },
    "kernelspec": {
      "name": "python3",
      "display_name": "Python 3"
    },
    "language_info": {
      "name": "python"
    }
  },
  "cells": [
    {
      "cell_type": "markdown",
      "source": [
        "## Functions"
      ],
      "metadata": {
        "id": "2mP_zFeuUe6j"
      }
    },
    {
      "cell_type": "code",
      "execution_count": null,
      "metadata": {
        "id": "4FJl_AgRUZmn"
      },
      "outputs": [],
      "source": [
        "# Converts a number in base10 to base2.\n",
        "\n",
        "def to_binary(num_10):\n",
        "  N = num_10\n",
        "  output = ''\n",
        "\n",
        "  while N > 1:\n",
        "    if N % 2 == 1:\n",
        "      output += '1'\n",
        "      N = (N-1) // 2\n",
        "      continue\n",
        "\n",
        "    N = N // 2\n",
        "    output += '0'\n",
        "  output += '1'\n",
        "\n",
        "  return output[::-1]\n",
        "\n",
        "# Euclid's algorithm.\n",
        "def gcd(a, b):\n",
        "  if a < b:\n",
        "    a, b = b, a\n",
        "  # Get the remainder when a is divided by b: a = b*k + r, where 0 <= r < b.\n",
        "  r = a % b\n",
        "  # If r = 0 then b | a and we are done.\n",
        "  if r == 0:\n",
        "    return b\n",
        "  # If b does not divide a then the gcd(a, b) will be the largest integer dividing b and r.\n",
        "  return gcd(b, r)\n",
        "\n",
        "# (!) DO NOT USE. The Bezout coefficients are wrong.\n",
        "# Need to figure out why this is wrong.\n",
        "def wrong_ext_gcd(a, b):\n",
        "  if a < b:\n",
        "    a, b = b, a\n",
        "\n",
        "  # Initialize.\n",
        "  s_prev, t_prev = 1, 0\n",
        "  s, t = 0, 1\n",
        "  q = a // b\n",
        "  r_prev, r = b, a % b\n",
        "\n",
        "  while True:\n",
        "    # We will need to update both s, t and s_next, t_next\n",
        "    s_tmp, t_tmp = s, t\n",
        "    # Update step is s_n = s_{n-2} - q_n*s_{n-1} and similarly for t_n.\n",
        "    s, t = s_prev - q*s, t_prev - q*t\n",
        "    # Update s, t\n",
        "    s_prev, t_prev = s_tmp, t_tmp\n",
        "    print(s_prev, t_prev)\n",
        "    if r == 0:\n",
        "      return r_prev, s, t\n",
        "    # Else update r's and q.\n",
        "    # r != 0\n",
        "    q = r_prev // r\n",
        "    r_prev, r = r, r_prev % r\n",
        "\n",
        "# Correct implementation. This works for the same reason that the gcd algorithm works:\n",
        "# because gcd(a, b) = gcd(b, a mod b). Assuming that gcd(b, a mod b) = bx + (a mod b)y,\n",
        "# substitute a mod b = a - a // b to get that gcd(a, b) = ay + b(x - (a // b)*y).\n",
        "def ext_gcd(a, b):\n",
        "  if b == 0:\n",
        "    return (a, 1, 0)\n",
        "  gcd, x1, y1 = ext_gcd(b, a % b)\n",
        "  x = y1\n",
        "  y = x1 - (a // b) * y1\n",
        "  return (gcd, x, y)\n",
        "\n",
        "def legendre_symbol(a, p):\n",
        "    \"\"\"Compute the Legendre symbol (a | p)\"\"\"\n",
        "    ls = pow(a, (p - 1) // 2, p)\n",
        "    return -1 if ls == p - 1 else ls\n",
        "\n",
        "# Tonelli-Shanks algorithm (ChatGPT)\n",
        "def tonelli_shanks(a, p):\n",
        "    \"\"\"\n",
        "    Solve for x such that x^2 ≡ a mod p, using the Tonelli–Shanks algorithm.\n",
        "    Requires that p is an odd prime and a is a quadratic residue mod p.\n",
        "    Returns one solution (the other is p - x).\n",
        "    Raises ValueError if no square root exists.\n",
        "    \"\"\"\n",
        "    if legendre_symbol(a, p) != 1:\n",
        "        raise ValueError(f\"{a} is not a square mod {p}\")\n",
        "\n",
        "    # Handle the easy case\n",
        "    if p % 4 == 3:\n",
        "        return pow(a, (p + 1) // 4, p)\n",
        "\n",
        "    # Step 1: Factor p-1 = Q * 2^S with Q odd\n",
        "    Q = p - 1\n",
        "    S = 0\n",
        "    while Q % 2 == 0:\n",
        "        Q //= 2\n",
        "        S += 1\n",
        "\n",
        "    # Step 2: Find a non-residue z\n",
        "    for z in range(2, p):\n",
        "        if legendre_symbol(z, p) == -1:\n",
        "            break\n",
        "    c = pow(z, Q, p)\n",
        "\n",
        "    # Step 3: Initialize variables\n",
        "    R = pow(a, (Q + 1) // 2, p)\n",
        "    t = pow(a, Q, p)\n",
        "    M = S\n",
        "\n",
        "    # Step 4: Loop until t == 1\n",
        "    while t != 1:\n",
        "        # Find the least i such that t^(2^i) ≡ 1\n",
        "        i = 1\n",
        "        temp = pow(t, 2, p)\n",
        "        while temp != 1:\n",
        "            temp = pow(temp, 2, p)\n",
        "            i += 1\n",
        "            if i == M:\n",
        "                raise Exception(\"No solution found\")\n",
        "\n",
        "        # Update variables\n",
        "        b = pow(c, 1 << (M - i - 1), p)\n",
        "        R = (R * b) % p\n",
        "        t = (t * b * b) % p\n",
        "        c = (b * b) % p\n",
        "        M = i\n",
        "\n",
        "    return R\n"
      ]
    },
    {
      "cell_type": "markdown",
      "source": [
        "## GCD"
      ],
      "metadata": {
        "id": "mBodcjBHUhXO"
      }
    },
    {
      "cell_type": "code",
      "source": [
        "import math"
      ],
      "metadata": {
        "id": "7Z0QOjSjUqk6"
      },
      "execution_count": null,
      "outputs": []
    },
    {
      "cell_type": "code",
      "source": [
        "a, b = 66528, 52920\n",
        "\n",
        "gcd(a, b)"
      ],
      "metadata": {
        "colab": {
          "base_uri": "https://localhost:8080/"
        },
        "id": "w1pIYXf-Ugo1",
        "outputId": "0ecfc1b5-3a2b-4fbf-cea1-190d9f25156f"
      },
      "execution_count": null,
      "outputs": [
        {
          "output_type": "execute_result",
          "data": {
            "text/plain": [
              "1512"
            ]
          },
          "metadata": {},
          "execution_count": 6
        }
      ]
    },
    {
      "cell_type": "markdown",
      "source": [
        "## Extended GCD"
      ],
      "metadata": {
        "id": "48r28LPxg9cS"
      }
    },
    {
      "cell_type": "code",
      "source": [
        "p = 26513\n",
        "q = 32321\n",
        "\n",
        "ext_gcd(p, q)"
      ],
      "metadata": {
        "id": "oNGmsBFRUpd7",
        "colab": {
          "base_uri": "https://localhost:8080/"
        },
        "outputId": "f3eda7b2-8b0c-44df-ce35-3fd6f2b077c1"
      },
      "execution_count": null,
      "outputs": [
        {
          "output_type": "execute_result",
          "data": {
            "text/plain": [
              "(1, 10245, -8404)"
            ]
          },
          "metadata": {},
          "execution_count": 23
        }
      ]
    },
    {
      "cell_type": "code",
      "source": [
        "-1524*p + 125*q"
      ],
      "metadata": {
        "colab": {
          "base_uri": "https://localhost:8080/"
        },
        "id": "euU6lcT3hB4i",
        "outputId": "4805311e-93d6-4d75-caab-266a471c6252"
      },
      "execution_count": null,
      "outputs": [
        {
          "output_type": "execute_result",
          "data": {
            "text/plain": [
              "1"
            ]
          },
          "metadata": {},
          "execution_count": 22
        }
      ]
    },
    {
      "cell_type": "markdown",
      "source": [
        "## Modular Arithmetic 1"
      ],
      "metadata": {
        "id": "Ge94yJ-Oho-o"
      }
    },
    {
      "cell_type": "code",
      "source": [
        "8146798528947 % 17"
      ],
      "metadata": {
        "colab": {
          "base_uri": "https://localhost:8080/"
        },
        "id": "8gtHGrfGiHrZ",
        "outputId": "aeb910fe-c402-4f2e-8f6f-bce5a5a413ec"
      },
      "execution_count": null,
      "outputs": [
        {
          "output_type": "execute_result",
          "data": {
            "text/plain": [
              "4"
            ]
          },
          "metadata": {},
          "execution_count": 24
        }
      ]
    },
    {
      "cell_type": "markdown",
      "source": [
        "## Modular Inverting"
      ],
      "metadata": {
        "id": "0yo6tmuEmCav"
      }
    },
    {
      "cell_type": "code",
      "source": [
        "3**11 % 13"
      ],
      "metadata": {
        "colab": {
          "base_uri": "https://localhost:8080/"
        },
        "id": "FsVGhlaViItK",
        "outputId": "bb34ce56-e268-4e27-ad1d-d4da898369b7"
      },
      "execution_count": null,
      "outputs": [
        {
          "output_type": "execute_result",
          "data": {
            "text/plain": [
              "9"
            ]
          },
          "metadata": {},
          "execution_count": 26
        }
      ]
    },
    {
      "cell_type": "markdown",
      "source": [
        "## Quadratic Residues"
      ],
      "metadata": {
        "id": "WEhC-l4s3nBi"
      }
    },
    {
      "cell_type": "code",
      "source": [
        "p, ints = 29, [14, 6, 11]\n",
        "\n",
        "# First use pow(a, (p-1)//2, p) to check if a quadratic residue can exist.\n",
        "# If the result is 1, then a is a QR; if -1, it is not.\n",
        "for a in ints:\n",
        "  print(a, pow(a, (p-1)//2, p))"
      ],
      "metadata": {
        "id": "BZY977_Lm-vJ",
        "colab": {
          "base_uri": "https://localhost:8080/"
        },
        "outputId": "17a4b60e-9c31-4994-e816-abe81cabb902"
      },
      "execution_count": null,
      "outputs": [
        {
          "output_type": "stream",
          "name": "stdout",
          "text": [
            "14 28\n",
            "6 1\n",
            "11 28\n"
          ]
        }
      ]
    },
    {
      "cell_type": "code",
      "source": [
        "# So 6 is the QR mod 29. To find its square roots, we'll use brute force for now:\n",
        "for n in range(29):\n",
        "  if pow(n, 2, 29) == 6:\n",
        "    print(n, 29-n)\n",
        "    break"
      ],
      "metadata": {
        "colab": {
          "base_uri": "https://localhost:8080/"
        },
        "id": "LJGKFGaOajU9",
        "outputId": "adc8524a-9ee1-4b87-9db8-9ff2db531bf2"
      },
      "execution_count": null,
      "outputs": [
        {
          "output_type": "stream",
          "name": "stdout",
          "text": [
            "8 21\n"
          ]
        }
      ]
    },
    {
      "cell_type": "markdown",
      "source": [
        "## Legendre Symbol"
      ],
      "metadata": {
        "id": "dbQFxxHZh-M6"
      }
    },
    {
      "cell_type": "code",
      "source": [
        "p = 101524035174539890485408575671085261788758965189060164484385690801466167356667036677932998889725476582421738788500738738503134356158197247473850273565349249573867251280253564698939768700489401960767007716413932851838937641880157263936985954881657889497583485535527613578457628399173971810541670838543309159139\n"
      ],
      "metadata": {
        "id": "4LioO3AqcWVD"
      },
      "execution_count": null,
      "outputs": []
    },
    {
      "cell_type": "code",
      "source": [
        "ints = [25081841204695904475894082974192007718642931811040324543182130088804239047149283334700530600468528298920930150221871666297194395061462592781551275161695411167049544771049769000895119729307495913024360169904315078028798025169985966732789207320203861858234048872508633514498384390497048416012928086480326832803, 45471765180330439060504647480621449634904192839383897212809808339619841633826534856109999027962620381874878086991125854247108359699799913776917227058286090426484548349388138935504299609200377899052716663351188664096302672712078508601311725863678223874157861163196340391008634419348573975841578359355931590555, 17364140182001694956465593533200623738590196990236340894554145562517924989208719245429557645254953527658049246737589538280332010533027062477684237933221198639948938784244510469138826808187365678322547992099715229218615475923754896960363138890331502811292427146595752813297603265829581292183917027983351121325, 14388109104985808487337749876058284426747816961971581447380608277949200244660381570568531129775053684256071819837294436069133592772543582735985855506250660938574234958754211349215293281645205354069970790155237033436065434572020652955666855773232074749487007626050323967496732359278657193580493324467258802863, 4379499308310772821004090447650785095356643590411706358119239166662089428685562719233435615196994728767593223519226235062647670077854687031681041462632566890129595506430188602238753450337691441293042716909901692570971955078924699306873191983953501093343423248482960643055943413031768521782634679536276233318, 85256449776780591202928235662805033201684571648990042997557084658000067050672130152734911919581661523957075992761662315262685030115255938352540032297113615687815976039390537716707854569980516690246592112936796917504034711418465442893323439490171095447109457355598873230115172636184525449905022174536414781771, 50576597458517451578431293746926099486388286246142012476814190030935689430726042810458344828563913001012415702876199708216875020997112089693759638454900092580746638631062117961876611545851157613835724635005253792316142379239047654392970415343694657580353333217547079551304961116837545648785312490665576832987, 96868738830341112368094632337476840272563704408573054404213766500407517251810212494515862176356916912627172280446141202661640191237336568731069327906100896178776245311689857997012187599140875912026589672629935267844696976980890380730867520071059572350667913710344648377601017758188404474812654737363275994871, 4881261656846638800623549662943393234361061827128610120046315649707078244180313661063004390750821317096754282796876479695558644108492317407662131441224257537276274962372021273583478509416358764706098471849536036184924640593888902859441388472856822541452041181244337124767666161645827145408781917658423571721, 18237936726367556664171427575475596460727369368246286138804284742124256700367133250078608537129877968287885457417957868580553371999414227484737603688992620953200143688061024092623556471053006464123205133894607923801371986027458274343737860395496260538663183193877539815179246700525865152165600985105257601565]"
      ],
      "metadata": {
        "id": "HjoN1k0DiFL2"
      },
      "execution_count": null,
      "outputs": []
    },
    {
      "cell_type": "code",
      "source": [
        "# Note the following: if p = 3 mod 4 and (a/p) = 1 mod p, then the square roots of a are simply \\pm a^{(p+1)//4}.\n",
        "p % 4"
      ],
      "metadata": {
        "colab": {
          "base_uri": "https://localhost:8080/"
        },
        "id": "EXAl95mGiFmq",
        "outputId": "913c7afb-fce7-40f4-d52a-066d68caac9d"
      },
      "execution_count": null,
      "outputs": [
        {
          "output_type": "execute_result",
          "data": {
            "text/plain": [
              "3"
            ]
          },
          "metadata": {},
          "execution_count": 6
        }
      ]
    },
    {
      "cell_type": "code",
      "source": [
        "# Check reciprocity of ints:\n",
        "print(\"The following indices are quadratic residues:\")\n",
        "for i in range(len(ints)):\n",
        "  if pow(ints[i], (p-1)//2, p) == 1:\n",
        "    print(i)"
      ],
      "metadata": {
        "colab": {
          "base_uri": "https://localhost:8080/"
        },
        "id": "Lc8HA9odjv9b",
        "outputId": "ceeeac19-c2cd-4ca7-dd03-5d60c15dc3e7"
      },
      "execution_count": null,
      "outputs": [
        {
          "output_type": "stream",
          "name": "stdout",
          "text": [
            "The following indices are quadratic residues:\n",
            "5\n"
          ]
        }
      ]
    },
    {
      "cell_type": "code",
      "source": [
        "# Now since p = 3 mod 4 we can use the formula stated earlier.\n",
        "a = ints[5]\n",
        "\n",
        "print(\"The root with smallest magnitude is: \")\n",
        "root = pow(a, (p+1)//4, p)\n",
        "print(max(root, -root % p))"
      ],
      "metadata": {
        "colab": {
          "base_uri": "https://localhost:8080/"
        },
        "id": "f05i2gr3kLkk",
        "outputId": "bdab837b-6400-4e50-9df4-3b7d70b305bc"
      },
      "execution_count": null,
      "outputs": [
        {
          "output_type": "stream",
          "name": "stdout",
          "text": [
            "The root with smallest magnitude is: \n",
            "93291799125366706806545638475797430512104976066103610269938025709952247020061090804870186195285998727680200979853848718589126765742550855954805290253592144209552123062161458584575060939481368210688629862036958857604707468372384278049741369153506182660264876115428251983455344219194133033177700490981696141526\n"
          ]
        }
      ]
    },
    {
      "cell_type": "markdown",
      "source": [
        "## Modular Square Root"
      ],
      "metadata": {
        "id": "R5uARdNHoq9R"
      }
    },
    {
      "cell_type": "code",
      "source": [
        "a = 8479994658316772151941616510097127087554541274812435112009425778595495359700244470400642403747058566807127814165396640215844192327900454116257979487432016769329970767046735091249898678088061634796559556704959846424131820416048436501387617211770124292793308079214153179977624440438616958575058361193975686620046439877308339989295604537867493683872778843921771307305602776398786978353866231661453376056771972069776398999013769588936194859344941268223184197231368887060609212875507518936172060702209557124430477137421847130682601666968691651447236917018634902407704797328509461854842432015009878011354022108661461024768"
      ],
      "metadata": {
        "id": "_dKeOjrxlZke"
      },
      "execution_count": null,
      "outputs": []
    },
    {
      "cell_type": "code",
      "source": [
        "p = 30531851861994333252675935111487950694414332763909083514133769861350960895076504687261369815735742549428789138300843082086550059082835141454526618160634109969195486322015775943030060449557090064811940139431735209185996454739163555910726493597222646855506445602953689527405362207926990442391705014604777038685880527537489845359101552442292804398472642356609304810680731556542002301547846635101455995732584071355903010856718680732337369128498655255277003643669031694516851390505923416710601212618443109844041514942401969629158975457079026906304328749039997262960301209158175920051890620947063936347307238412281568760161"
      ],
      "metadata": {
        "id": "CT6UjEpCo4j8"
      },
      "execution_count": null,
      "outputs": []
    },
    {
      "cell_type": "code",
      "source": [
        "# Can't use simple formula because p is not 3 mod 4. Have to use Tonelli-Shanks algorithm.\n",
        "# Sage has Tonelli-Shanks built in.\n",
        "p % 4"
      ],
      "metadata": {
        "colab": {
          "base_uri": "https://localhost:8080/"
        },
        "id": "D9zBTJkTo6ky",
        "outputId": "6cf5345e-51a1-4fed-ce08-6e297f2a8dff"
      },
      "execution_count": null,
      "outputs": [
        {
          "output_type": "execute_result",
          "data": {
            "text/plain": [
              "1"
            ]
          },
          "metadata": {},
          "execution_count": 16
        }
      ]
    },
    {
      "cell_type": "code",
      "source": [
        "tonelli_shanks(a, p)"
      ],
      "metadata": {
        "colab": {
          "base_uri": "https://localhost:8080/"
        },
        "id": "YwiVSkvqpZSq",
        "outputId": "92ca796b-3fd1-48ec-9485-ca2b2c9b4927"
      },
      "execution_count": null,
      "outputs": [
        {
          "output_type": "execute_result",
          "data": {
            "text/plain": [
              "2362339307683048638327773298580489298932137505520500388338271052053734747862351779647314176817953359071871560041125289919247146074907151612762640868199621186559522068338032600991311882224016021222672243139362180461232646732465848840425458257930887856583379600967761738596782877851318489355679822813155123045705285112099448146426755110160002515592418850432103641815811071548456284263507805589445073657565381850521367969675699760755310784623577076440037747681760302434924932113640061738777601194622244192758024180853916244427254065441962557282572849162772740798989647948645207349737457445440405057156897508368531939120"
            ]
          },
          "metadata": {},
          "execution_count": 18
        }
      ]
    },
    {
      "cell_type": "markdown",
      "source": [
        "## Chinese Remainder Theorem"
      ],
      "metadata": {
        "id": "3R8ZL6UBzOc1"
      }
    },
    {
      "cell_type": "code",
      "source": [
        "pow(6, -1, 11)"
      ],
      "metadata": {
        "colab": {
          "base_uri": "https://localhost:8080/"
        },
        "id": "tjn-wtNBzPUx",
        "outputId": "437c1be0-a3ba-4b44-e2f9-97538693519a"
      },
      "execution_count": null,
      "outputs": [
        {
          "output_type": "execute_result",
          "data": {
            "text/plain": [
              "2"
            ]
          },
          "metadata": {},
          "execution_count": 19
        }
      ]
    },
    {
      "cell_type": "code",
      "source": [
        "17*51 + 5"
      ],
      "metadata": {
        "colab": {
          "base_uri": "https://localhost:8080/"
        },
        "id": "agO2j_QNzUmb",
        "outputId": "fac15217-f2e2-421e-85e4-0fba27b21f70"
      },
      "execution_count": null,
      "outputs": [
        {
          "output_type": "execute_result",
          "data": {
            "text/plain": [
              "872"
            ]
          },
          "metadata": {},
          "execution_count": 22
        }
      ]
    },
    {
      "cell_type": "code",
      "source": [
        "ints = [5, 11, 17]\n",
        "\n",
        "for n in ints:\n",
        "  print(n, 872 % n)"
      ],
      "metadata": {
        "colab": {
          "base_uri": "https://localhost:8080/"
        },
        "id": "QYbSYoMszooy",
        "outputId": "cef63215-34d1-42b9-805a-0955b2cf3dd9"
      },
      "execution_count": null,
      "outputs": [
        {
          "output_type": "stream",
          "name": "stdout",
          "text": [
            "5 2\n",
            "11 3\n",
            "17 5\n"
          ]
        }
      ]
    },
    {
      "cell_type": "markdown",
      "source": [
        "## Adrien's Signs"
      ],
      "metadata": {
        "id": "sjawE-mL8Hl-"
      }
    },
    {
      "cell_type": "code",
      "source": [
        "output = [67594220461269, 501237540280788, 718316769824518, 296304224247167, 48290626940198, 30829701196032, 521453693392074, 840985324383794, 770420008897119, 745131486581197, 729163531979577, 334563813238599, 289746215495432, 538664937794468, 894085795317163, 983410189487558, 863330928724430, 996272871140947, 352175210511707, 306237700811584, 631393408838583, 589243747914057, 538776819034934, 365364592128161, 454970171810424, 986711310037393, 657756453404881, 388329936724352, 90991447679370, 714742162831112, 62293519842555, 653941126489711, 448552658212336, 970169071154259, 339472870407614, 406225588145372, 205721593331090, 926225022409823, 904451547059845, 789074084078342, 886420071481685, 796827329208633, 433047156347276, 21271315846750, 719248860593631, 534059295222748, 879864647580512, 918055794962142, 635545050939893, 319549343320339, 93008646178282, 926080110625306, 385476640825005, 483740420173050, 866208659796189, 883359067574584, 913405110264883, 898864873510337, 208598541987988, 23412800024088, 911541450703474, 57446699305445, 513296484586451, 180356843554043, 756391301483653, 823695939808936, 452898981558365, 383286682802447, 381394258915860, 385482809649632, 357950424436020, 212891024562585, 906036654538589, 706766032862393, 500658491083279, 134746243085697, 240386541491998, 850341345692155, 826490944132718, 329513332018620, 41046816597282, 396581286424992, 488863267297267, 92023040998362, 529684488438507, 925328511390026, 524897846090435, 413156582909097, 840524616502482, 325719016994120, 402494835113608, 145033960690364, 43932113323388, 683561775499473, 434510534220939, 92584300328516, 763767269974656, 289837041593468, 11468527450938, 628247946152943, 8844724571683, 813851806959975, 72001988637120, 875394575395153, 70667866716476, 75304931994100, 226809172374264, 767059176444181, 45462007920789, 472607315695803, 325973946551448, 64200767729194, 534886246409921, 950408390792175, 492288777130394, 226746605380806, 944479111810431, 776057001143579, 658971626589122, 231918349590349, 699710172246548, 122457405264610, 643115611310737, 999072890586878, 203230862786955, 348112034218733, 240143417330886, 927148962961842, 661569511006072, 190334725550806, 763365444730995, 516228913786395, 846501182194443, 741210200995504, 511935604454925, 687689993302203, 631038090127480, 961606522916414, 138550017953034, 932105540686829, 215285284639233, 772628158955819, 496858298527292, 730971468815108, 896733219370353, 967083685727881, 607660822695530, 650953466617730, 133773994258132, 623283311953090, 436380836970128, 237114930094468, 115451711811481, 674593269112948, 140400921371770, 659335660634071, 536749311958781, 854645598266824, 303305169095255, 91430489108219, 573739385205188, 400604977158702, 728593782212529, 807432219147040, 893541884126828, 183964371201281, 422680633277230, 218817645778789, 313025293025224, 657253930848472, 747562211812373, 83456701182914, 470417289614736, 641146659305859, 468130225316006, 46960547227850, 875638267674897, 662661765336441, 186533085001285, 743250648436106, 451414956181714, 527954145201673, 922589993405001, 242119479617901, 865476357142231, 988987578447349, 430198555146088, 477890180119931, 844464003254807, 503374203275928, 775374254241792, 346653210679737, 789242808338116, 48503976498612, 604300186163323, 475930096252359, 860836853339514, 994513691290102, 591343659366796, 944852018048514, 82396968629164, 152776642436549, 916070996204621, 305574094667054, 981194179562189, 126174175810273, 55636640522694, 44670495393401, 74724541586529, 988608465654705, 870533906709633, 374564052429787, 486493568142979, 469485372072295, 221153171135022, 289713227465073, 952450431038075, 107298466441025, 938262809228861, 253919870663003, 835790485199226, 655456538877798, 595464842927075, 191621819564547]"
      ],
      "metadata": {
        "id": "c34_VJWezyiB"
      },
      "execution_count": null,
      "outputs": []
    },
    {
      "cell_type": "code",
      "source": [
        "# Adrien's program\n",
        "from random import randint\n",
        "\n",
        "a = 288260533169915\n",
        "p = 1007621497415251\n",
        "\n",
        "FLAG = b'crypto{????????????????????}'\n",
        "\n",
        "\n",
        "def encrypt_flag(flag):\n",
        "    ciphertext = []\n",
        "    plaintext = ''.join([bin(i)[2:].zfill(8) for i in flag])\n",
        "\n",
        "    for b in plaintext:\n",
        "        e = randint(1, p)\n",
        "        n = pow(a, e, p)\n",
        "        if b == '1':\n",
        "            ciphertext.append(n)\n",
        "        else:\n",
        "            n = -n % p\n",
        "            ciphertext.append(n)\n",
        "    return ciphertext\n",
        "\n",
        "\n",
        "print(encrypt_flag(FLAG))"
      ],
      "metadata": {
        "colab": {
          "base_uri": "https://localhost:8080/"
        },
        "id": "Ulm8hxxC8OOr",
        "outputId": "ded898bd-03d8-4455-adc8-94c42fef596a"
      },
      "execution_count": null,
      "outputs": [
        {
          "output_type": "stream",
          "name": "stdout",
          "text": [
            "[222077460479196, 659960485003165, 622290682245105, 876060884441065, 507767691509324, 664555958578766, 10857499316777, 402070165079339, 699051463573810, 568682646975967, 205075572723125, 705038875367195, 441756130250159, 701562553739620, 833485496836599, 87874892589906, 336201764642921, 632926285250828, 342486655840696, 882619167477204, 898446483864851, 896690794868564, 357725597665349, 113486214158379, 602206483133824, 914768969421198, 265961599935001, 55459714546728, 11505230606273, 814039500436172, 394519297314141, 931854088767082, 609315581263715, 17476012156087, 94168547551513, 553254150140289, 275871533204662, 12533206283573, 147134372069739, 893950019843093, 633489038591600, 913652113409190, 395864513876690, 937329013414054, 289698405152646, 797780990175452, 911314331958224, 289329795785310, 642025875419634, 11126921493349, 3145309732152, 639891509194546, 600006185635236, 279634191791805, 514709144074848, 481470686810954, 716794859938573, 216505193809525, 936787818251111, 608246329514342, 634955487487351, 320363641947592, 622685534452722, 850748197630882, 160224759177150, 279668218638342, 368095557798947, 601003316024838, 296072224169716, 57823455416168, 272709812565321, 299844353907727, 799613599106800, 132841059666844, 37744187789026, 516654163264054, 814407504228760, 860878875125503, 784193706630165, 443012465332541, 169788501131215, 595512823534943, 582010241872134, 401608575237310, 951371563365621, 676623926186597, 782220369539595, 465199417913454, 148719639854783, 881516548954905, 101040508715607, 391830814326195, 9103528658102, 540656491649839, 301030130791904, 830755742356936, 60646107953422, 795542497329831, 507237097835152, 215893149592340, 732885535733931, 592497127383901, 974611730146578, 563634854210527, 58043735757888, 301639158995740, 151593860463434, 193883933534421, 318798905070707, 452267346220038, 776498854951024, 398903523150075, 824625782625706, 626664187336805, 307944449787702, 14792939022062, 106559492078178, 504697500242347, 709153320569677, 990870258270002, 961837506889901, 778144655235075, 683661649669180, 559447280248333, 730005149073202, 348988621214560, 121984390402988, 758850001503564, 690193251174990, 507337018932820, 358832207024195, 544537815484047, 76142843006145, 937822185072971, 792151159155076, 463159277909784, 754190505868528, 412422313753639, 81756479715699, 717043416415656, 654483052008483, 679872282381528, 885604979983485, 225854050483977, 385999159996018, 584542863354422, 998899784922882, 323130212322924, 183083938517812, 717623873703216, 839710180084180, 831757094777926, 304198273555997, 651190942197343, 890602038866868, 834302674145713, 333509870880861, 583814656865397, 424973578157701, 579165226382111, 804951748165738, 612918849579020, 561013611444117, 407485717869752, 375097126917064, 404269628921158, 14330102102232, 151537394336068, 777056854103334, 1003608769263964, 920736893442714, 33310969039367, 580106334748681, 380489154523140, 190055559696884, 732738520483758, 822343185054527, 407604303629920, 721909928048229, 682084656372221, 725789734540565, 987460353531386, 23830861670452, 581455713171434, 42072204023713, 922852548934076, 512367986868966, 563317000668180, 769962622606065, 98871701551139, 759424573923093, 426258452104516, 467956472556879, 47770349215928, 339049528073161, 869812436397094, 618613653814114, 697533233743306, 254786043536712, 519690994075138, 867727727118005, 340425645810642, 77987306154520, 636726152140684, 591897356864391, 78963711099516, 86114437751832, 162878854381347, 28831713510353, 540019723856368, 126862609452142, 198065273166623, 467412476159816, 970746187737365, 455954752779163, 835732881163744, 654872786110353, 365004646015949, 204686410613039, 533000531597569, 117878448237991, 585929992716390, 424311240781849, 786157672955339]\n"
          ]
        }
      ]
    },
    {
      "cell_type": "code",
      "source": [
        "len(FLAG)"
      ],
      "metadata": {
        "colab": {
          "base_uri": "https://localhost:8080/"
        },
        "id": "Dg37dP8N8TgK",
        "outputId": "82013c05-714c-42fe-e52c-cfa231f038ca"
      },
      "execution_count": null,
      "outputs": [
        {
          "output_type": "execute_result",
          "data": {
            "text/plain": [
              "28"
            ]
          },
          "metadata": {},
          "execution_count": 28
        }
      ]
    },
    {
      "cell_type": "code",
      "source": [
        "len(encrypt_flag(FLAG)) # 8*28 = 224. That's the length of the plaintext written in bits."
      ],
      "metadata": {
        "colab": {
          "base_uri": "https://localhost:8080/"
        },
        "id": "06WgKrf99G3B",
        "outputId": "a789fcaf-dc40-406b-fe86-458789bcbacb"
      },
      "execution_count": null,
      "outputs": [
        {
          "output_type": "execute_result",
          "data": {
            "text/plain": [
              "224"
            ]
          },
          "metadata": {},
          "execution_count": 30
        }
      ]
    },
    {
      "cell_type": "code",
      "source": [
        "\n",
        "# Is there anyway for me to tell the difference between n and -n % p when e is random integer between 1 and p and n = a^e mod p?\n",
        "# a < p\n",
        "a / p"
      ],
      "metadata": {
        "colab": {
          "base_uri": "https://localhost:8080/"
        },
        "id": "MP874jf-_UvK",
        "outputId": "385985c7-63b7-4745-96d1-deca746c6593"
      },
      "execution_count": null,
      "outputs": [
        {
          "output_type": "execute_result",
          "data": {
            "text/plain": [
              "0.28608017386425405"
            ]
          },
          "metadata": {},
          "execution_count": 40
        }
      ]
    },
    {
      "cell_type": "code",
      "source": [
        "# This is DL problem, but maybe a has a relatively low order mod p?\n",
        "for n in range(1, p):\n",
        "  if pow(a, n, p) == 1:\n",
        "    print(n)\n",
        "    break\n",
        "# Nope"
      ],
      "metadata": {
        "id": "0X7VulLr_5g5"
      },
      "execution_count": null,
      "outputs": []
    },
    {
      "cell_type": "code",
      "source": [
        "# Is a a quadratic residue?\n",
        "print(f'p mod 4 is {p % 4}.')\n",
        "\n",
        "legendre_symbol(a, p) # So a is a quadratic residue."
      ],
      "metadata": {
        "id": "3cOpX-UREHbC",
        "colab": {
          "base_uri": "https://localhost:8080/"
        },
        "outputId": "f4a6ad0b-ae27-4722-8d1c-5867a0d57608"
      },
      "execution_count": null,
      "outputs": [
        {
          "output_type": "stream",
          "name": "stdout",
          "text": [
            "p mod 4 is 3.\n"
          ]
        },
        {
          "output_type": "execute_result",
          "data": {
            "text/plain": [
              "1"
            ]
          },
          "metadata": {},
          "execution_count": 4
        }
      ]
    },
    {
      "cell_type": "code",
      "source": [
        "# If a is a QR then a^e is as well, but -a^e won't be. So we can distinguish signs by computing the legendre symbols of the outputs.\n",
        "output_legendre = [legendre_symbol(x, p) for x in output]\n",
        "output_legendre[:8] # the first byte"
      ],
      "metadata": {
        "id": "DrMil1AoKYPK",
        "colab": {
          "base_uri": "https://localhost:8080/"
        },
        "outputId": "cddffd25-44df-49bd-cbb8-91030970aba6"
      },
      "execution_count": null,
      "outputs": [
        {
          "output_type": "execute_result",
          "data": {
            "text/plain": [
              "[-1, 1, 1, -1, -1, -1, 1, 1]"
            ]
          },
          "metadata": {},
          "execution_count": 7
        }
      ]
    },
    {
      "cell_type": "code",
      "source": [
        "# The -1's correspond to 0's:\n",
        "bit_string = ''.join(['0' if x == -1 else '1' for x in output_legendre])\n",
        "print(bit_string[:8], len(bit_string) / 8)"
      ],
      "metadata": {
        "colab": {
          "base_uri": "https://localhost:8080/"
        },
        "id": "wcsC0UO7yj8T",
        "outputId": "3832451b-a02a-4ccb-b8f5-267b564c255a"
      },
      "execution_count": null,
      "outputs": [
        {
          "output_type": "stream",
          "name": "stdout",
          "text": [
            "01100011 28.0\n"
          ]
        }
      ]
    },
    {
      "cell_type": "code",
      "source": [
        "# So we have 28 bytes as expected.\n",
        "flag_bytes = []\n",
        "for n in range(28):\n",
        "  # Convert each substring of 8 bits to a byte:\n",
        "  value = int(bit_string[8*n : 8*(n+1)], 2) # converts to int first\n",
        "  byte_val = value.to_bytes(1, byteorder='big') # big means most significant byte comes first.\n",
        "  flag_bytes.append(byte_val)"
      ],
      "metadata": {
        "id": "HWlhWSIAzVvh"
      },
      "execution_count": null,
      "outputs": []
    },
    {
      "cell_type": "code",
      "source": [
        "# Let's append those bytes together:\n",
        "flag = b''\n",
        "\n",
        "for byt in flag_bytes:\n",
        "  flag += byt"
      ],
      "metadata": {
        "id": "hTmvnqd01V3R"
      },
      "execution_count": null,
      "outputs": []
    },
    {
      "cell_type": "code",
      "source": [
        "flag"
      ],
      "metadata": {
        "colab": {
          "base_uri": "https://localhost:8080/"
        },
        "id": "q9luN1BZ1Y5-",
        "outputId": "ca36c6dd-e733-4517-ad63-a41fbf601d29"
      },
      "execution_count": null,
      "outputs": [
        {
          "output_type": "execute_result",
          "data": {
            "text/plain": [
              "b'crypto{p4tterns_1n_re5idu3s}'"
            ]
          },
          "metadata": {},
          "execution_count": 21
        }
      ]
    },
    {
      "cell_type": "markdown",
      "source": [
        "## Modular Binomials"
      ],
      "metadata": {
        "id": "hEcNxchu2QEd"
      }
    },
    {
      "cell_type": "markdown",
      "source": [
        "Rearrange the following equations to get the primes $p,\\, q$.\n",
        "\n",
        "$ N = p\\cdot q $\n",
        "\n",
        "$ c_1 = (2\\cdot p + 3\\cdot q)^{e_1} \\mod N $\n",
        "\n",
        "$ c_2 = (5\\cdot p + 7\\cdot q)^{e_2} \\mod N $"
      ],
      "metadata": {
        "id": "ya_8Hbol2Zlj"
      }
    },
    {
      "cell_type": "code",
      "source": [
        "N = 14905562257842714057932724129575002825405393502650869767115942606408600343380327866258982402447992564988466588305174271674657844352454543958847568190372446723549627752274442789184236490768272313187410077124234699854724907039770193680822495470532218905083459730998003622926152590597710213127952141056029516116785229504645179830037937222022291571738973603920664929150436463632305664687903244972880062028301085749434688159905768052041207513149370212313943117665914802379158613359049957688563885391972151218676545972118494969247440489763431359679770422939441710783575668679693678435669541781490217731619224470152467768073\n",
        "e1 = 12886657667389660800780796462970504910193928992888518978200029826975978624718627799215564700096007849924866627154987365059524315097631111242449314835868137\n",
        "e2 = 12110586673991788415780355139635579057920926864887110308343229256046868242179445444897790171351302575188607117081580121488253540215781625598048021161675697\n",
        "c1 = 14010729418703228234352465883041270611113735889838753433295478495763409056136734155612156934673988344882629541204985909650433819205298939877837314145082403528055884752079219150739849992921393509593620449489882380176216648401057401569934043087087362272303101549800941212057354903559653373299153430753882035233354304783275982332995766778499425529570008008029401325668301144188970480975565215953953985078281395545902102245755862663621187438677596628109967066418993851632543137353041712721919291521767262678140115188735994447949166616101182806820741928292882642234238450207472914232596747755261325098225968268926580993051\n",
        "c2 = 14386997138637978860748278986945098648507142864584111124202580365103793165811666987664851210230009375267398957979494066880296418013345006977654742303441030008490816239306394492168516278328851513359596253775965916326353050138738183351643338294802012193721879700283088378587949921991198231956871429805847767716137817313612304833733918657887480468724409753522369325138502059408241232155633806496752350562284794715321835226991147547651155287812485862794935695241612676255374480132722940682140395725089329445356434489384831036205387293760789976615210310436732813848937666608611803196199865435145094486231635966885932646519"
      ],
      "metadata": {
        "id": "EtTUAcfS11Ce"
      },
      "execution_count": null,
      "outputs": []
    },
    {
      "cell_type": "code",
      "source": [
        "# It would be convenient if we could just \"invert\" by finding x so that e_1 * x = 1 mod phi(N), but phi(N) = (p-1)(q-1), so we can't know that!"
      ],
      "metadata": {
        "id": "2R_Mqnlm2WAC"
      },
      "execution_count": null,
      "outputs": []
    },
    {
      "cell_type": "markdown",
      "source": [
        "The idea is to first reduce the equations to the form $(p+Aq)^m \\equiv C_1\\mod N$ and $(p+Bq)^m \\equiv C_2\\mod N$. Note that since $N = pq$, we have $(p+Aq)^m \\equiv p^m + A^mq^m \\equiv C_1$ etc. Then we can subtract to solve for $q$, etc."
      ],
      "metadata": {
        "id": "fEYuLJNnB84m"
      }
    },
    {
      "cell_type": "code",
      "source": [
        "m = e1*e2\n",
        "# First have the exponents equal m.\n",
        "C1, C2 = pow(c1, e2, N), pow(c2, e1, N)\n",
        "# Now multiply C1 and C2 by the inverses of 2^m and 5^m mod N, respectively. Then C1 and C2 will be in the form described above.\n",
        "C1 = pow(2, -m, N) * C1 % N\n",
        "C2 = pow(5, -m, N) * C2 % N\n",
        "\n",
        "C = (C1-C2) % N\n",
        "\n",
        "# Not strictly needed, but here for reference.\n",
        "A = pow(2, -m, N) * 3 % N\n",
        "B = pow(5, -m, N) * 7 % N"
      ],
      "metadata": {
        "id": "sJuNjBi8_pTV"
      },
      "execution_count": null,
      "outputs": []
    },
    {
      "cell_type": "markdown",
      "source": [
        "Now we have $C_1 - C_2 \\equiv (A^m - B^m)\\cdot q^m\\mod N$ which is of the form $C \\equiv q^m \\cdot D\\mod N $. Since $N = pq$, what will $\\textrm{gcd}(C, N)$ be? If $C \\ !\\equiv 0\\mod N$ then $\\textrm{gcd}(C, N) = q$."
      ],
      "metadata": {
        "id": "z0O2-QXyF48g"
      }
    },
    {
      "cell_type": "code",
      "source": [
        "q = gcd(C, N)\n",
        "q"
      ],
      "metadata": {
        "colab": {
          "base_uri": "https://localhost:8080/"
        },
        "id": "KqDrsCORDYTE",
        "outputId": "34d1bf09-57c9-45af-e615-7ce8fa1f7fd5"
      },
      "execution_count": null,
      "outputs": [
        {
          "output_type": "execute_result",
          "data": {
            "text/plain": [
              "132760587806365301971479157072031448380135765794466787456948786731168095877956875295282661565488242190731593282663694728914945967253173047324353981530949360031535707374701705328450856944598803228299967009004598984671293494375599408764139743217465012770376728876547958852025425539298410751132782632817947101601"
            ]
          },
          "metadata": {},
          "execution_count": 9
        }
      ]
    },
    {
      "cell_type": "code",
      "source": [
        "# And p = N // q\n",
        "p = N // q\n",
        "p"
      ],
      "metadata": {
        "colab": {
          "base_uri": "https://localhost:8080/"
        },
        "id": "e2b8lBQYHGgG",
        "outputId": "68bae0d1-aa2e-4b94-d94c-8b0235197e79"
      },
      "execution_count": null,
      "outputs": [
        {
          "output_type": "execute_result",
          "data": {
            "text/plain": [
              "112274000169258486390262064441991200608556376127408952701514962644340921899196091557519382763356534106376906489445103255177593594898966250176773605432765983897105047795619470659157057093771407309168345670541418772427807148039207489900810013783673957984006269120652134007689272484517805398390277308001719431273"
            ]
          },
          "metadata": {},
          "execution_count": 12
        }
      ]
    },
    {
      "cell_type": "markdown",
      "source": [
        "## Successive Powers\n",
        "\n",
        "nums is a list of successive powers of an integer x modulo a 3-digit prime p. So if we let $a=x^r$ this means we have the modular equations\n",
        "\n",
        "\\begin{align}\n",
        "  a \\equiv 588\\mod p \\\\\n",
        "  ax \\equiv 665\\mod p \\\\\n",
        "  ax^2 \\equiv 216\\mod p \\\\\n",
        "  ax^3 \\equiv 113\\mod p \\\\\n",
        "  \\vdots \\\\\n",
        "  ax^{12} \\equiv 237\\mod p\n",
        "\\end{align}\n",
        "\n",
        "Notice that $ax^5\\equiv 4\\mod p$ and that $ax^6\\equiv 836\\mod p$. Since 836/4 = 209, we get that $x\\equiv 209\\mod p$. Furthermore that implies that $588\\cdot 209 - 665=122227$ is a multiple of $p$. The only 3-digit prime dividing 122227 is 919."
      ],
      "metadata": {
        "id": "vNRz72YMy3p1"
      }
    },
    {
      "cell_type": "code",
      "source": [
        "nums = [588,665,216,113,642,4,836,114,851,492,819,237]"
      ],
      "metadata": {
        "id": "Es5Vt9OIy7P1"
      },
      "execution_count": null,
      "outputs": []
    },
    {
      "cell_type": "code",
      "source": [
        "588*209-665"
      ],
      "metadata": {
        "colab": {
          "base_uri": "https://localhost:8080/"
        },
        "id": "kGJZC_XS22JU",
        "outputId": "40bb61c4-2596-4548-f424-9b2867660b1c"
      },
      "execution_count": null,
      "outputs": [
        {
          "output_type": "execute_result",
          "data": {
            "text/plain": [
              "122227"
            ]
          },
          "metadata": {},
          "execution_count": 7
        }
      ]
    },
    {
      "cell_type": "markdown",
      "source": [
        "## Broken RSA\n",
        "\n",
        "Notice that e is a power of 2. Maybe we can just take successive square roots."
      ],
      "metadata": {
        "id": "O0cmXlmY7G4R"
      }
    },
    {
      "cell_type": "code",
      "source": [
        "n = 27772857409875257529415990911214211975844307184430241451899407838750503024323367895540981606586709985980003435082116995888017731426634845808624796292507989171497629109450825818587383112280639037484593490692935998202437639626747133650990603333094513531505209954273004473567193235535061942991750932725808679249964667090723480397916715320876867803719301313440005075056481203859010490836599717523664197112053206745235908610484907715210436413015546671034478367679465233737115549451849810421017181842615880836253875862101545582922437858358265964489786463923280312860843031914516061327752183283528015684588796400861331354873\n",
        "e = 16\n",
        "ct = 11303174761894431146735697569489134747234975144162172162401674567273034831391936916397234068346115459134602443963604063679379285919302225719050193590179240191429612072131629779948379821039610415099784351073443218911356328815458050694493726951231241096695626477586428880220528001269746547018741237131741255022371957489462380305100634600499204435763201371188769446054925748151987175656677342779043435047048130599123081581036362712208692748034620245590448762406543804069935873123161582756799517226666835316588896306926659321054276507714414876684738121421124177324568084533020088172040422767194971217814466953837590498718"
      ],
      "metadata": {
        "id": "Ia2PGRzp6tqO"
      },
      "execution_count": null,
      "outputs": []
    },
    {
      "cell_type": "code",
      "source": [
        "import math"
      ],
      "metadata": {
        "id": "jza2yDuY7MXX"
      },
      "execution_count": null,
      "outputs": []
    },
    {
      "cell_type": "code",
      "source": [
        "math.log(n)"
      ],
      "metadata": {
        "colab": {
          "base_uri": "https://localhost:8080/"
        },
        "id": "RezI1skPFZrX",
        "outputId": "188ded4e-44bd-4854-b30e-0a8fed41d739"
      },
      "execution_count": null,
      "outputs": [
        {
          "output_type": "execute_result",
          "data": {
            "text/plain": [
              "1419.4138913829297"
            ]
          },
          "metadata": {},
          "execution_count": 10
        }
      ]
    },
    {
      "cell_type": "code",
      "source": [
        "math.log(ct)"
      ],
      "metadata": {
        "colab": {
          "base_uri": "https://localhost:8080/"
        },
        "id": "et-fCUBZFayv",
        "outputId": "3acc1e04-e836-4a7b-ce9c-8ed8fe5481e4"
      },
      "execution_count": null,
      "outputs": [
        {
          "output_type": "execute_result",
          "data": {
            "text/plain": [
              "1418.5149158299766"
            ]
          },
          "metadata": {},
          "execution_count": 11
        }
      ]
    },
    {
      "cell_type": "code",
      "source": [
        "print(n % 4)\n",
        "legendre_symbol(ct, n) # note that n is not prime though"
      ],
      "metadata": {
        "colab": {
          "base_uri": "https://localhost:8080/"
        },
        "id": "CYg2Qzp7FcCt",
        "outputId": "d26134c6-990c-4cfd-93a0-1ce8469e3631"
      },
      "execution_count": null,
      "outputs": [
        {
          "output_type": "stream",
          "name": "stdout",
          "text": [
            "1\n"
          ]
        },
        {
          "output_type": "execute_result",
          "data": {
            "text/plain": [
              "1"
            ]
          },
          "metadata": {},
          "execution_count": 26
        }
      ]
    },
    {
      "cell_type": "code",
      "source": [
        "# For each iteration of the tonelli shanks algorithm, we have to take two roots: +root and -root mod n.\n",
        "roots = {'root2': 0, 'root4': 0, 'root8': 0, 'root16': 0}"
      ],
      "metadata": {
        "id": "L6MY_3rnI2of"
      },
      "execution_count": null,
      "outputs": []
    },
    {
      "cell_type": "code",
      "source": [
        "def roots(num): # returns both square roots mod n\n",
        "  primitive_root = tonelli_shanks(num, n)\n",
        "  return [primitive_root, (-primitive_root % n)]"
      ],
      "metadata": {
        "id": "kOb0SSyxMRrF"
      },
      "execution_count": null,
      "outputs": []
    },
    {
      "cell_type": "code",
      "source": [
        "root2 = roots(ct)\n",
        "\n",
        "root2"
      ],
      "metadata": {
        "colab": {
          "base_uri": "https://localhost:8080/"
        },
        "id": "jI01qi8oPMsn",
        "outputId": "ae46ffa4-ed09-4f46-df07-d6408470f911"
      },
      "execution_count": null,
      "outputs": [
        {
          "output_type": "execute_result",
          "data": {
            "text/plain": [
              "[25896648132584848997586711135603893785415337101949225244631343481210405780811332119759307874059727010777167812035912372196575481842224645733061195132115112220159107703674501271473559970753594546204150685962550523843522413970644096008465829310813222999461562111843184013149599517813014050923809256205123632691855348385395308350697366794668591307747085387335341734086863787410869181572477318095841062013941906480427573647366672297300893346591531516627997796199042635223117454430097540639866770047391459705942440796647902108687843667674773561359583115940919066324629237139967028333486037894618590781065861597201909020864,\n",
              " 1876209277290408531829279775610318190428970082481016207268064357540097243512035775781673732526982975202835623046204623691442249584410200075563601160392876951338521405776324547113823141527044491280442804730385474358915225656103037642524774022281290532043647842429820460417593717722047892067941676520685046558109318705328172047219348526208276495972215926104663340969617416448141309264122399427823135098111300264808334963118235417909543066424015154406480571480422598513998095021752269781150411795224421130311435065453643474234594190683492403130203347982361246536213794774549032994266145388909424903522934803659422334009]"
            ]
          },
          "metadata": {},
          "execution_count": 39
        }
      ]
    },
    {
      "cell_type": "code",
      "source": [
        "nested_list = list(map(roots, root2))\n",
        "root4 = []\n",
        "for sublist in nested_list:\n",
        "  root4.extend(sublist)\n",
        "\n",
        "root4"
      ],
      "metadata": {
        "colab": {
          "base_uri": "https://localhost:8080/"
        },
        "collapsed": true,
        "id": "A2yndO1oPrc5",
        "outputId": "e60ad9bd-ee9c-4fb8-858f-897849b79c3c"
      },
      "execution_count": null,
      "outputs": [
        {
          "output_type": "execute_result",
          "data": {
            "text/plain": [
              "[133707155336421411889306987407657823691387782750625431175394153252389679328080550789263073137172912564340992728590367579804708323572982310728306699138641085703468154531798733428351933887786456051713245297094079388690616746062093049573187183364716359382354218025593597299832282017987715084510029925180603964551767250165996734205210361024457733153724288780129621535840550561094253066568716668078234729413851960531924024806179657367268083059650197486201419568082424106668229421873377157138969621534250468372797867838018492649279410989062081770301947482828608998471037916971693652955924340137443542520283778604352119898,\n",
              " 27639150254538836117526683923806554152152919401679616020724013685498113344995287344751718533449537073415662442353526628308213023103061863497896489593369348085794160954919027085159031178392852581432880245395841918813747022880685040601417416149729797172122855736247410876267360953517074227907240902800628075285412899840557483663711504959852410070565577024659875453520640653297916237770031000855585962382639354784703984585678728057843168329955896473548276948111382809630447320029976433263878212221081630367881077994263527090273158447369203882719484516440451703862371993997544367674796258943390572142068512622256979234975,\n",
              " 17706563790853271915270246636212932149281858583203718253795580627512759139391201201540428980555622007240231538733266439514751073835954001796742749364971179090450981392353164195795715903344084413002712760319912158034799981379261718695045317725361716891083389048064174837837759160549599707187722908565154041817320118922303351604623725278914259932490287596757435814933999340945501883926495685391999453900915310077726840334396679817179544140822397401290738702066952879246224086603227269988056377248669893110601641937601328189109095503749592699923327536091872617885835239566252552071046037501070818204020643998477773315543,\n",
              " 10066293619021985614145744275001279826562448601226523198103827211237743884932166694000552626031087978739771896348850556373266657590680844011882046927536810081046647717097661622791667208936554624481880730373023840167637658247485414955945285607732796640421820906208829635729434074985462235804028024160654637432644548168420128793292990041962607871229013716682569260122481862913508606910104032131664743211137896667509068276088227898030892272193149269743739665612512354490891462848622540432960804593945987725652233924500217393813342354608673264566458927831407694975007792348263509256706145782457197480568152402383558039330]"
            ]
          },
          "metadata": {},
          "execution_count": 42
        }
      ]
    },
    {
      "cell_type": "code",
      "source": [
        "# Repeat again for eighth roots.\n",
        "nested_list = list(map(roots, root4))\n",
        "root8 = []\n",
        "\n",
        "for sublist in nested_list:\n",
        "  root8.extend(sublist)\n",
        "\n",
        "root8"
      ],
      "metadata": {
        "colab": {
          "base_uri": "https://localhost:8080/"
        },
        "collapsed": true,
        "id": "btr7gopuQSGA",
        "outputId": "c08b6f49-41a7-4013-df93-09c1a8d358af"
      },
      "execution_count": null,
      "outputs": [
        {
          "output_type": "execute_result",
          "data": {
            "text/plain": [
              "[20058442271887390782341184553061693259218418956749367788824628331872951745693512666971057383133087145112672251544375693720903210309282292454435797503703963084282995922799267630989319592605415992771069804154505046471899368694387498398677671153177173001176232341893700315420538967289845800479312887797111470649358418178557722902634481957860132330775228811481649888112684228430126737629529135768061434048677678809834480772389209710436916268063442944861678775938178803409222396101086687028222333979529287399821437653336368165308841484432081379655209496176144360301915193174027514866451178023988032198572385093175849110662,\n",
              " 7714415137987866747074806358152518716625888227680873663074779506877551278629855228569924223453622840867331183537741302167114521117352553354188998788804026087214633186651558187598063519675223044713523686538430951730538270932359635252312932179917340530328977612379304158146654268245216142512438044928697208600606248912165757495282233363016735472944072501958355186943796975428883753207070581755602763063375527935401427838095698004773520144952103726172799591741286430327893153350763123392794847863086593436432438208765177417613596373926184584834576967747135952558927838740488546461301005259539983486016411307685482244211,\n",
              " 17098975897428456716194270927415356864954096642606493929059154866703557888462954947912008872552339352205990175483498505792117985904083699289681502671418679914191897758540195962573914609283592038873720221085036155580437338159458620150444238622368726779473079552388042681202096679228679076368554549055661796394456104095267187679182253465150159379287281763735900063005517584310979842781524143711194375107870488731830983791884591706011715389067506588660474121594503391263616188085308206323734799724188169301886601066541034602498625207501106826469220173374966851129503005821026262779184367623692057319176056166273701255937,\n",
              " 10673881512446800813221719983798855110890210541823747522840252972046945135860412947628972734034370633774013259598618490095899745522551146518943293621089309257305731350910629856013468502997046998610873269607899842622000301467288513500546364710725786752032130401884961792365096556306382866623196383670146882855508562995456292718734461855726708424432019549704105012050963619548030648055075573812469822004182718013404924818600316009198721023948040082374004246084961842473499361366541604097282382118427711534367274795560510980423812650857159138020566290548313461731340026093489798548567815659835958365412740234587630098936,\n",
              " 5370880177111772214966546989780441184730582979088758194198682681008863224482634838132300999325647948020669097872225930157677364880187170876526265706842694194817578106909197243970588941339921130887677710793075528335843046264994387999241539379961528661362926489572004938607247080065754774399781057421287427370041922231774646799000471046519617269175802256452115093380121098704284238963938166801256148574846004557731299841068446848016662269146335836458809411833017994122500323517829063121087409567809485321633279599141185122092531690838114539687787203275626675170771604097842940338370255078417038830200297871843596952086,\n",
              " 22401977232763485314449443921433770791113724205341483257700725157741639799840733057408680607261062037959334337209891065730340366546447674932098530585665294976680051002541628574616794170940717906596915779899860469866594593361752745651749063953132984870142283464700999534959946155469307168591969875304521251879922744858948833598916244274357250534543499056987889981676360105154726251872661550722408048537207202187504608769416460867193774143869210834575668955846447239614615225934020747299929772274806395514620596262960360460829906167520151424801999260647653637690071427816673120989381928205110976854388498529017734402787,\n",
              " 17974135028758639473188353434648645491825700931236018696547434635242040282069845584386905412452009840704475856476581174106472693238791276610118802768100701650527558338278546414415378899970206537237127882220830766500528027003674789767048386526159609001904570277574656234140949464048540410769681523114293950493903769460786635702910341667700875169045622674106994566211435218251682119656243455063173803794055498145478551555098536906666404957084392548680931128001248227132422925984458961111491476389573158695174961045341543301293114303398775480666447753713570047722665700557422845178760475114203326996035949766196813800137,\n",
              " 9798722381116618056227637476565566484018606253194222755351973203508462742253522311154076194134700145275527578605535821781545038187843569198505993524407287520970070771172279404172004212310432500247465608472105231701909612623072343883942216806934904529600639676698348239426243771486521532222069409611514728756060897629936844695006373653175992634673678639333010508845045985607328371180356262460490393317997708599757357055386370808544031455931154122353547239678217006604692623467390849309525705453042722141078914816760002281629323554959490483823338710209710265138177331357093216148991708169324688688552846634664517554736]"
            ]
          },
          "metadata": {},
          "execution_count": 43
        }
      ]
    },
    {
      "cell_type": "code",
      "source": [
        "# One more time to get the 16th roots.\n",
        "nested_list = []\n",
        "\n",
        "for num in root8:\n",
        "  try:\n",
        "    # Attempt to take the square root.\n",
        "    nested_list.append(roots(num))\n",
        "  except ValueError:\n",
        "    print('Found a non-residue.')\n",
        "    continue\n",
        "\n",
        "root16 = []\n",
        "\n",
        "for sublist in nested_list:\n",
        "  root16.extend(sublist)\n",
        "\n",
        "root16"
      ],
      "metadata": {
        "colab": {
          "base_uri": "https://localhost:8080/"
        },
        "collapsed": true,
        "id": "gxJp6cPnRGvG",
        "outputId": "d643b101-b38c-48f6-9779-4e4ea5755bfe"
      },
      "execution_count": null,
      "outputs": [
        {
          "output_type": "stream",
          "name": "stdout",
          "text": [
            "Found a non-residue.\n",
            "Found a non-residue.\n",
            "Found a non-residue.\n",
            "Found a non-residue.\n"
          ]
        },
        {
          "output_type": "execute_result",
          "data": {
            "text/plain": [
              "[27772857409875257529415990911214211975844307184430241451899407838750503024323367895540981606586709985980003435082116995884478493648417679670782240786518871242668255973770988737167589482305554697589427755948133831217194514801188587815879226601454549604874476927252882744344317256396808255582550941978968312010016490081931048157003674361093215320945272838509986687284028991543505902180465028764465401474732603047959528463455521587693401684330259430026213913640315266928039931940062910914620141512756390510844994503754868094272416592656824961726496896913664170409316563677657113965998358809997237032168697425106457591932,\n",
              " 3539237778217166137842555505989117928829373135679837081419793629975084339895165734744802166985243124825558545835111376731639963926630733027020121729222875979138253687409199990746840367239948177008792432240913040959783652482774028474930018387772452212315504588656134688759198795637320603697276380147029386127517034728685287241008264454039149966809075617511786899506397040329859490325408881358346677488650021265701441002763289567009616142451526468236858947361753824473530778652420098975754873762941,\n",
              " 4630361540119164638498318880320757224917973066675767169076022453085735149562954575209814363023887599722953966126514746206394662283584514894244940779217406676431236969298024848905285314320974655688614456863292576319637071761610469243805956404043991147459322825701729779874144173432471630489234834727790764147507262408574668434851900809737757962150126473526369201692631736829290155061667970351704759675524530807701076072222629503408993408471396130684817663824749056660925873736453124432277438917606895000162811273730240312127883638799174130142263676875753527386097040244568213368833271061688815949241840749146936342957,\n",
              " 23142495869756092890917672030893454750926334117754474282823385385664767874760413320331167243562822386257049468955602249681623069143050330914379855513290582495066392140152800969682097797959664381795979033829643421882800567865136664407184646929050522384045887128571274693693049062102590312502516097998017915102457404682148811963064814511139109841569174839913635873363849467029720335774931747171959437436528675937534832538262278211801443004544150540349660703854716177076189675715396685988739742925008985836091064588371305270794554219559091834347522787047526785474745991669947847958918912221839199735346955651714395011916,\n",
              " 19131664325244422450634030181888057284566825932645013932859065813345921245302100150721638094279911113216588827243825487231002063098557924909621276728411482071837861591454363693584865315301759586921308266563936067611580289196185791534523770162296677605924247221621200132163665062728462780938899078427860492539514834564122784884525820846824317285486786477714501565842078843832366209067143458287721632488618156139644229246144251907409379065461808127071002124177670596010376484587500071693473178347738323521244278594875880819212391879441116358217255924912293481706558302078892365977976347559606848786420190701175027128464,\n",
              " 8641193084630835078781960729326154691277481251785227519040342025404581779021267744819343512306798872763414607838291508657015668328076920899003519564096507099659767517996462125002517796978879450563285224128999930590857350430561342116466833170797835925580962732651804341403528172806599162052851854297948186710449832526600695513390894474052550518232514835725503509214402360026644281769456259235942564623435050605591679364340655807801057347553738543963476243501794637726739064864349738727544003494877557315009597267225664763710045978917149606272530539010986831154284729835623695349775835723921166898168605699686304226409,\n",
              " 15737564176056916599841033439863625438741359873619873409428350041517712853447522745052672637966252714480002726272786998114955619106521084966776009613201118238135649909583974317653180478422277687820684458684774321527928987044563927906505515058742972856334634403323302530025367587134394193797074396801843068272727492465379296417977275145263441693667228539391884523651300435695869063716919455598959674392109694315795550698399558188441049675348177435343320181883658511270527502642298025431853237936690031299200526270922959774455086177296931129954687912861957268748952649407389186387930181377573214150886925056803808709793,\n",
              " 12035293233818340929574957471350586537102947310810368042471057797232790170875845150488308968620457271500000708809329997773062112320113760841848786679306870933361979199866851500934202633858361349663909032008161676674508652582183205744485088274351540675170575550949701943541825648400667749194676535923965610977237174625344183979939440175613426110052072774048120551405180768163141427119680261924704522719943512429440357912085349526769386737667369235691158185795806722466588046809551784989163943905925849537053349591178585808467351681061334834535098551061323044111890382507126874939822001905954801533701871344057522645080]"
            ]
          },
          "metadata": {},
          "execution_count": 45
        }
      ]
    },
    {
      "cell_type": "code",
      "source": [
        "# Now let's convert these to bytes and see if we can get the flag.\n",
        "for num in root16:\n",
        "  byte_length = (num.bit_length() + 7) // 8\n",
        "  byte_data = num.to_bytes(byte_length, 'big')\n",
        "  print(byte_data)"
      ],
      "metadata": {
        "colab": {
          "base_uri": "https://localhost:8080/"
        },
        "id": "qSGC_g-oRRVH",
        "outputId": "00e15f04-d032-432a-d62d-a1dc205f0f9f"
      },
      "execution_count": null,
      "outputs": [
        {
          "output_type": "stream",
          "name": "stdout",
          "text": [
            "b'\\xdc\\x00\\xdfe\\xab\\x84\\x94\\xc4{\\x1a\\'\\xc0at\\xf1~LL\\x8d\\xcc~J\\x95\\xa0i\\xf0\\xd1)\\xf8\\xa2\\xd1 XS\\x03\\xd5\\xcbDf\\xe4!\\xfa\\x0b\\x14\\x0eH>i\\x8b\\xe3B\\xcaT@\\xcf$\\xb6i\\xb9N\\xdeP\\x19_\\xbb\\x93\\x9c\\xdc\\x8e\\xad\\x8b97\\xdea\\x13\\xc6+/\\xa9@\\\\\\xe8mI\\x0b\\xc6\\xf4nz#\\xe5\\xcc\\xce.W\\x87\\x14o\\t\\xf4\\xb9z9\\xc7-\\xf7\\xd1\\x16\\xa7\\x11\\x88}\\xa1\\x94$)\\x9d\\x94\\xfb\\x1c\\xcbe\\x7fo\\xef+9\\x9f4\\xe0\\xcc\\xdfy\\xba\\x9c\\xfac\\x9a\\xf0K\\xa2\\x16\\xfd\\x8a\\xfbH%\\x10\\xae\\xfb\\x15\\xf7\\xebX:\\xc9\\xf1\\xbeO\\x8c\\xe5\\xad~7X\\x17h\\xc6\\xd9\\x1f.9\\x10([8\\x93y\\xf4 \\xe7\\x8c\\xb06\\xc1\\x0ex\\xc8\"i\\xdc\\xfcjJ\\xcc\\x9b(\\xa2\\x9f\\x0f\\x1c\\x96\\xa3\\x16\\x87Pw\\x02\\xab\\xe6\\xeaTm#\\xda!\\xc2\\xc8Cw\\xe2>\\xa2U\\x82j\\xed\\xf8U7\\x8a!\\x1cU\\xab\\x98\\xad0\\xd2\\x9d\\x92j\\xa6\\xbf\\x89\\xd0d\\x97\\xb0\\x1ac\\xf2x\\x00|'\n",
            "b\"Hey, if you are reading this maybe I didn't mess up my code too much. Phew. I really should play more CryptoHack before rushing to code stuff from scratch again. Here's the flag: crypto{m0dul4r_squ4r3_r00t}\"\n",
            "b'$\\xad\\xf5\\x99\\x1e\\x0c\\x91\\xd9\\x13\\x90F\\xc4sx\\x8f\\xeaBk\\xe9\\x05h\\x1f\\x9f\\xe1q\\x0e\\xac\\xd9Voc7\\x99\\xfb6\\x15\\xa2\\xcf\\xe3}\\xd5\\xb1\\xa2u\\xe7\\x9f\\x01B\\x00(\\x16\\xdb]\\xdb\\xe0\\xbfK\\xae48\\xf3\\xc3\\x06\\xbc\\xf0\\x01\\xae\\x86:\\x9f{\\xff\\xd1_\\xb8_\\x1a\\\\\\xb7\\x9b\\x85\\x98v\\xeds\\xbbuq\\xf3\\xb1\\xfeo\\xd6\\xfeY\\xf1\\xb1!\\xaf\\xce\\x1b\\n\\xc9\\x07\\xa6\\x90m\\xb7t\\x14g\\xa3U\\x1a6\\xe4>\\x85\\xe5L\\xa2b\\xdaq\\x8aU\\xce\\x04\\xad\\xac*\\x9e\\x89h\\xe8\\x0035\\xab\\xf5\\xba\\xa3\\xcd8\\r\\xa3\\xc5Um\\xdbDu\\x96]\\x80!\\x06J\\x80V\\x1en\\x9a\\xfd\\x1cQ\\xc6\\x1b\\xf2\\xd5\\x0f\\xa8\\xb4\\xa8\\xe8T\\x88y\\x86\\xdaC,l\\x12*\\x1f\\xf7\\x14\\xbb\\xcb\\x92\\x02\\xf4\\xf7gM\\xc4Y\\xfew\\xd8\\x8a\\x13\\xa5g\\xda#\\xe8\\x17\\xccvC<\\xa9E\\xb2\\x02\\x98\\xe6\\xd4gL9\\xda|\\xf13\\x00\\x0ec\\x07\\xb9\\xb3P\\x13|\\x81W\\xa2\\xc3\\xbcI\\xc5\\x99Rf3\\x18\\x1fi\\xda23\\x9ey\\xad'\n",
            "b\"\\xb7R\\xe9\\xcc\\x8dx\\x02\\xebg\\x89\\xe0\\xfb\\xed\\xfca\\x94\\t\\xe0\\xa4\\xc7\\x16*\\xf5\\xbe\\xf8\\xe2$P\\xa23m\\xe8\\xbeW\\xcd\\xc0(t\\x83fLHh\\x9e&\\xa9='\\x8b\\xbbtTo\\x91\\x0e\\xce\\xd0\\xdb\\xfe\\x85_\\xadt\\x150\\xb2`\\xbb\\xb5rx\\xa7\\xcd\\x9f\\x1d\\x1d\\x15A\\x98{\\x1c=\\xd3\\xe4\\xf5\\x99q\\xe6\\xe4,\\x93\\x9di\\xf0A\\xcbIe\\xdf\\xb1I\\xcf\\x1e\\xabA\\x00\\xf9~\\x07\\xb3\\x1eT\\x97\\xa7\\xca\\xb5N\\x7f\\xdd\\xce\\xca\\xd0\\xf0\\x85\\x13\\xb9\\xa6Uc\\xee\\x17\\x9a\\xc2\\x89\\xf3\\x10/\\x9ddf\\xf5\\x1e\\xba1\\xde\\xd0\\xa3=\\x12F\\x1b\\xc0\\xa5\\x00Q\\x8a8\\x16\\x86Z\\xd1\\xe22\\xe3\\x80l\\xc0\\xbf9$\\x81\\xfa\\xf7\\xcf\\xa9u\\x17:g\\x88\\xfe\\x1e\\x90\\x02q\\xc1\\x8a\\xd8\\x81\\xbd=\\xfam\\xe5R\\xeb\\xf7B\\x07\\x99\\x98\\x06\\xe6e\\xcf\\x0e\\x93\\xf0TM\\x9e\\xc7`)P\\x8dF\\x9d\\x01\\xe3x\\xfb%.D\\xf2\\x9f(\\nU\\xa2I\\xde@\\xb1\\xaa\\x84\\x85\\xf2\\x84M}\\x17l\\xe0\\x95\\x12\\x80\\xeay\\x9f\\xa3\\xef\\t\\xfbL\"\n",
            "b\"\\x97\\x8dN,\\xc8*\\x9a\\x91\\x81\\xa72\\xf4\\xdeW\\xff\\x86\\xf9\\xd3\\xf1\\x9b\\x11J\\x16\\xae\\x05\\xf5\\x9b\\xff\\x19\\xb03\\xce\\xe7`%\\x1e\\xb5\\xba\\xd7\\xf0\\xbb\\x843&\\x08{\\xbfeX\\x05\\xdf\\xcfUaw\\xb3\\x9fVT\\x18\\xfew\\x97\\xf5\\x10M\\x04\\xba\\xabW#\\xc3\\ng\\x97\\x1dX\\xaaj\\xbd\\x87G\\x85[\\x9b{\\x04\\x04\\x13+^\\xf2\\xab\\xb1\\xf4*V\\x19\\xdc\\xc8\\xb2\\xe3\\x88n|\\xa1\\x19t\\xb8\\x03\\xdb\\xe8\\xb8+\\x06\\xdb\\xedIY\\xecJ\\n\\\\@\\x14\\xfa\\xee\\x9c@\\x83\\x92\\x8f\\xd0\\xf0\\x7fb\\xf4\\xce\\x92\\xa7\\xee\\xce\\x90\\xad\\x1c\\x0eW\\xdbH\\xc7n\\xe6O8\\xda\\x1b'\\xb8T\\x028\\x97\\xbf\\x98\\xe7N[\\t\\x84,\\x13a;~\\xc1\\x8e\\x15\\xf1P\\xf9\\x1bjI\\xfaa\\xad\\xb6\\xddYZdq\\x98\\xfe\\xa1x\\xec\\x89\\xee3o\\x82/\\x8bU\\x9b\\xaa\\xcb\\x9e\\x93N\\x15\\xcd\\xa2\\x12\\xcf!X8 \\x01\\x01aIm$i$\\x95c\\xaa]c(\\xe0\\xda\\x9dv\\xd9\\xea\\xb2\\x9b\\xb1\\xae\\x01L\\xc8\\x055\\xe45\\xdb\\xbb\\r\\xd8\\x90\"\n",
            "b\"Ds\\x918\\xe3Y\\xfa2\\xf9r\\xf4\\xcb\\x83\\x1c\\xf1\\xf7Rx\\x9c1m\\x00~\\xf2c\\xfb5*\\xde\\xf2\\x9dQp\\xf2\\xde\\xb7\\x15\\x89\\x8e\\xf3fu\\xd7\\xee\\x05\\xcc\\x7f\\x043\\xdd\\xab`x\\x0bw\\xda}3\\xde\\xa5T\\xf8\\xe2\\xdd\\x10g\\n\\x87D\\xba\\xd0\\xe4\\x94\\x97>^\\xd6\\xf3\\xe5Y\\x1a\\x8e\\xc5v\\xcd\\xd9\\xe3T\\xc4\\xb33\\x1a\\x95<\\xa7\\x92\\xa4m\\xb2\\xb6\\xb1\\xf6_Dj\\xf0M\\xc0\\xc3\\xc3\\xaa\\x0f4\\x96\\xfa\\xbd\\x9f\\xbci/#)n\\xb6\\x89\\x14\\x85\\xbd\\xd1\\x16\\xaf\\xa9{\\x02[\\xadn\\x04}\\xb4\\xc0\\xf3\\xf6\\xbc\\xd0f\\x10\\xb77Y\\xf1O\\xec$\\xf7\\x90\\x16\\xa8\\xb2\\xae\\xb7\\xb9\\x0eG\\xb5p+\\xd1\\xa7\\xcd~Bp\\xf9\\xd0;\\x89\\xc2\\x9dj%\\xe0\\xb2\\x1a:3\\xcb\\x0f\\xe4.k\\x8b\\xc9\\xde\\x18\\xc0\\xcf\\x12\\x17\\xde\\x01\\x0e\\xca\\x7f\\xe1M\\r\\x0c\\xcd\\x86\\xc6\\xf4\\xcf0\\x83p'\\xdd\\xb0\\x97\\xdfE\\xfd\\xbfT\\xbfi\\x03\\x83T\\xff\\xa6.g\\xe4Lhf\\xbb]W++X1\\xae}\\x93\\xd3\\xffC\\xfag\\x9a\\x9ci\"\n",
            "b'|\\xaa_\\xa5(\\xe0\\xf2\\x1c\\x8a\\x1f\\x95\\xc8lt\\x90;\\xe1+\\xe2\\xae\\x882\\xa76-\\x12(\\xf0\\x0e\\x9eC\\xc41!c\\xe4\\x82\\x9c4\\x8b\\xb4\\xb8\\x96\\xbe\\xe1\\x02\\x12\\xa6~O\\xd9\\xdf\\xd3\\xde\\x99\\x90\\xb9\\xe6\\xb5\\xb8\\x84\\xe2\\xcf\\xfb\\xbf\\xd6i\\xdd\\xf38\\xa7#\\xe3\\\\\\xc9\\xcat0\\xb4,\\xde\\x95w#\\xe7\\x16\\xed\\x1e)\\xd7\\xb4\\xda\\x14\\x9a<0\\x084\\x9c\\xa7\\x8f\\x03\\xcd\\xa5\\xca\\x86\\xdf\\x04\\x81l\\x8c.d\\xa0\\x08\\x89#\\xb7\\xb0\\xa2\\x88E\\x16 1A\\xcfp\\xb0c\\xab\\xb0\\xc7\\x9f\\xb2t\\xc4\\xe9\\xcb\\\\\\xf2\\x19\\xcdF\\xdb\\xd49\\xfb\\x92\\xecR@\\x8e)6\\'9\\x98\\x0cq~Q\\xd5\\xc1\\xbf\\x19_\\x7f\\xe6X\\xaf\\xff\\xc1\\x85\\xb6Hy\\xfc\\xf7\\xaf\\xd0\\x9f\\xddL\\x12\\x03l@\\xec\\xd9\\xcb\\xd84\\xa5\\x03c\\x11\\xb2\\xd7\\r\\xefj\\xadH\\x14\\x88H{\\xed[\\xbe\\xce\\x05\\xcb\"X\\xa53H\\xe6\\x7fQ\\xde\\xa2\\xb3[\\nf\\xb9\\x92r/\\x06\\x7f\\x93C\\xa8+!\\xac[\\x16\\xc7\\xfd<\\x1e[z&\\x86\\x10\\x9a\\xef\\xeb\\x8c\\xa1'\n",
            "b'_V\\x7f\\xc0\\x82\\xa3\\xa2\\xa7\\xf0\\xfa\\x91\\xf7\\xf5\\x00aBk \\xab\\x1d\\xf6\\x17\\xeej<\\xde\\xa89\\xea\\x04\\x8d\\\\\\'1\\x9f\\xf1H\\xa82XmAtU-F+\\xc3\\r\\x93\\xb1O\\xf9\\x8eU\\xfdb\\xa3}\\x05\\xce\\x8d\\xaa\\xd6`\\xdd\\xa5c\\xfc\\xd9M\\x83\\xbb\\xa2\\x0b\\xb1\\xbbm\\x9b\\xe9\\xc3@\\xd3\\xae\\x82=\\xfa:\\xae\\x06\\xdd3,T_\\x8c\\xf2R\\xf2\\xd7\\xd5\\xd6\\x1a\\r\\x1d\\n\\x880\\xfaZ\\xf9\\xc9\\x88!\\xf9\\x10iN\\x12x\\xe4\\xee\\xb4\\xd6l\\xcd\\xa4\\xe9a6\\x96\\x88\\x84S(\\x9b\\x9d\\xe9D\\xff\\xbd\\xa8\\xba#\\x10\\xa0.\\x96\\xed5\\r\\xf5\\xad4\\x9b\\x84\\x04\\xc8\\xfa?q\\xfe\\xf8\\x1e\\xdd\\xa5\\'[E\\xa0\\xe1\\xa3\\xea\\xf2\\xdb\\x81%\\xb6\\xf6\\xb3p\\xab\\x1e\\xc8\\x89\\xde\\x15\\xacP\\xaf\\x04%.7\\xb6\\xd6\\xa9\\xe9/\\x03\\x81&L\\xc3\"`o\\\\~\\xbeV<\\x97\\x07s\\xe6\\xa4\\x02\\x9f\\xd1`\\xf5\\x80f\\x0e\\x88\\xc7\\xc1_&7\\xd4\\x8b\\x111\\xe3]\\xb2s\\x9b\\xae\\xb0\\x15\\x08\\xf6\\xdc\\xea\\x1e\\xe3]i;2\\xbc\\xe8X'\n"
          ]
        }
      ]
    },
    {
      "cell_type": "code",
      "source": [
        "# LOL"
      ],
      "metadata": {
        "id": "KXI8lhnjSN2o"
      },
      "execution_count": null,
      "outputs": []
    },
    {
      "cell_type": "markdown",
      "source": [
        "## No Way Back Home"
      ],
      "metadata": {
        "id": "QcwvjJoASbpp"
      }
    },
    {
      "cell_type": "code",
      "source": [
        "!pip install pycryptodome"
      ],
      "metadata": {
        "colab": {
          "base_uri": "https://localhost:8080/"
        },
        "id": "VkdZzUZ5gDTa",
        "outputId": "772b6a4f-ca60-47ff-8486-4048303d7235"
      },
      "execution_count": null,
      "outputs": [
        {
          "output_type": "stream",
          "name": "stdout",
          "text": [
            "Collecting pycryptodome\n",
            "  Downloading pycryptodome-3.23.0-cp37-abi3-manylinux_2_17_x86_64.manylinux2014_x86_64.whl.metadata (3.4 kB)\n",
            "Downloading pycryptodome-3.23.0-cp37-abi3-manylinux_2_17_x86_64.manylinux2014_x86_64.whl (2.3 MB)\n",
            "\u001b[?25l   \u001b[90m━━━━━━━━━━━━━━━━━━━━━━━━━━━━━━━━━━━━━━━━\u001b[0m \u001b[32m0.0/2.3 MB\u001b[0m \u001b[31m?\u001b[0m eta \u001b[36m-:--:--\u001b[0m\r\u001b[2K   \u001b[91m━━━━━\u001b[0m\u001b[90m╺\u001b[0m\u001b[90m━━━━━━━━━━━━━━━━━━━━━━━━━━━━━━━━━━\u001b[0m \u001b[32m0.3/2.3 MB\u001b[0m \u001b[31m8.1 MB/s\u001b[0m eta \u001b[36m0:00:01\u001b[0m\r\u001b[2K   \u001b[91m━━━━━━━━━━━━━━━━━━━━━━━━━━━━━━━━━━\u001b[0m\u001b[90m╺\u001b[0m\u001b[90m━━━━━\u001b[0m \u001b[32m1.9/2.3 MB\u001b[0m \u001b[31m27.5 MB/s\u001b[0m eta \u001b[36m0:00:01\u001b[0m\r\u001b[2K   \u001b[90m━━━━━━━━━━━━━━━━━━━━━━━━━━━━━━━━━━━━━━━━\u001b[0m \u001b[32m2.3/2.3 MB\u001b[0m \u001b[31m23.2 MB/s\u001b[0m eta \u001b[36m0:00:00\u001b[0m\n",
            "\u001b[?25hInstalling collected packages: pycryptodome\n",
            "Successfully installed pycryptodome-3.23.0\n"
          ]
        }
      ]
    },
    {
      "cell_type": "code",
      "source": [
        "from Crypto.Cipher import AES\n",
        "from Crypto.Util.Padding import pad, unpad\n",
        "from hashlib import sha256\n",
        "from Crypto.Util.number import getPrime, GCD, bytes_to_long, long_to_bytes, inverse\n",
        "from random import randint\n",
        "\n",
        "FLAG = b'crypto{????????????????????????????????}'\n",
        "\n",
        "p, q = getPrime(512), getPrime(512)\n",
        "n = p * q\n",
        "\n",
        "# Alice side\n",
        "v = (p * randint(1, n)) % n\n",
        "k_A = randint(1, n)\n",
        "while GCD(k_A, n) != 1:\n",
        "    k_A = randint(1, n)\n",
        "vka = (v * k_A) % n\n",
        "\n",
        "# Bob side\n",
        "k_B = randint(1, n)\n",
        "while GCD(k_B, n) != 1:\n",
        "    k_B = randint(1, n)\n",
        "vkakb = (vka * k_B) % n\n",
        "\n",
        "# Alice side\n",
        "vkb = (vkakb * inverse(k_A, n)) % n\n",
        "\n",
        "# Bob side\n",
        "v_s = (vkb * inverse(k_B, n)) % n\n",
        "\n",
        "# Alice side\n",
        "key = sha256(long_to_bytes(v)).digest()\n",
        "cipher = AES.new(key, AES.MODE_ECB)\n",
        "m = pad(FLAG, 16)\n",
        "c = cipher.encrypt(m).hex()\n",
        "\n",
        "out = \"\"\n",
        "out += f\"p, q = ({p}, {q}) \\n\"\n",
        "out += f\"vka = {vka} \\n\"\n",
        "out += f\"vkakb = {vkakb} \\n\"\n",
        "out += f\"vkb = {vkb} \\n\"\n",
        "out += f\"c = '{c}' \\n\"\n",
        "with open(\"out.txt\", \"w\") as f:\n",
        "    f.write(out)\n"
      ],
      "metadata": {
        "id": "77Z8hY2QSdXm"
      },
      "execution_count": null,
      "outputs": []
    },
    {
      "cell_type": "code",
      "source": [
        "p, q = (10699940648196411028170713430726559470427113689721202803392638457920771439452897032229838317321639599506283870585924807089941510579727013041135771337631951, 11956676387836512151480744979869173960415735990945471431153245263360714040288733895951317727355037104240049869019766679351362643879028085294045007143623763)\n",
        "vka = 124641741967121300068241280971408306625050636261192655845274494695382484894973990899018981438824398885984003880665335336872849819983045790478166909381968949910717906136475842568208640203811766079825364974168541198988879036997489130022151352858776555178444457677074095521488219905950926757695656018450299948207\n",
        "vkakb = 114778245184091677576134046724609868204771151111446457870524843414356897479473739627212552495413311985409829523700919603502616667323311977056345059189257932050632105761365449853358722065048852091755612586569454771946427631498462394616623706064561443106503673008210435922340001958432623802886222040403262923652\n",
        "vkb = 6568897840127713147382345832798645667110237168011335640630440006583923102503659273104899584827637961921428677335180620421654712000512310008036693022785945317428066257236409339677041133038317088022368203160674699948914222030034711433252914821805540365972835274052062305301998463475108156010447054013166491083\n",
        "c = 'fef29e5ff72f28160027959474fc462e2a9e0b2d84b1508f7bd0e270bc98fac942e1402aa12db6e6a36fb380e7b53323'\n"
      ],
      "metadata": {
        "id": "zZGkXrVeT8Ea"
      },
      "execution_count": null,
      "outputs": []
    },
    {
      "cell_type": "code",
      "source": [],
      "metadata": {
        "id": "0Ia3qYwsT-tJ"
      },
      "execution_count": null,
      "outputs": []
    }
  ]
}