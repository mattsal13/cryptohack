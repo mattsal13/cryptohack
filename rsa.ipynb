{
 "cells": [
  {
   "cell_type": "code",
   "execution_count": 6,
   "metadata": {},
   "outputs": [],
   "source": [
    "''' Monoprime '''\n",
    "import Crypto.Util.number\n",
    "# n is just a prime here, rather than pq. \n",
    "n = 171731371218065444125482536302245915415603318380280392385291836472299752747934607246477508507827284075763910264995326010251268493630501989810855418416643352631102434317900028697993224868629935657273062472544675693365930943308086634291936846505861203914449338007760990051788980485462592823446469606824421932591                                                                  \n",
    "e = 65537\n",
    "ct = 161367550346730604451454756189028938964941280347662098798775466019463375610700074840105776873791605070092554650190486030367121011578171525759600774739890458414593857709994072516290998135846956596662071379067305011746842247628316996977338024343628757374524136260758515864509435302781735938531030576289086798942  "
   ]
  },
  {
   "cell_type": "code",
   "execution_count": 9,
   "metadata": {},
   "outputs": [],
   "source": [
    "# We only need to find the inverse of e modulo n-1, since phi(n) = n-1. \n",
    "d = pow(e, -1, n-1)\n",
    "\n",
    "# Then since c = p**e, we just compute c**d to get plaintext p. \n",
    "pt = pow(ct, d, n)"
   ]
  },
  {
   "cell_type": "code",
   "execution_count": 20,
   "metadata": {},
   "outputs": [
    {
     "data": {
      "text/plain": [
       "b'\\x00\\x00\\x00\\x00\\x00\\x00\\x00\\x00\\x00\\x00\\x00\\x00\\x00\\x00\\x00\\x00\\x00\\x00crypto{0n3_pr1m3_41n7_pr1m3_l0l}'"
      ]
     },
     "execution_count": 20,
     "metadata": {},
     "output_type": "execute_result"
    }
   ],
   "source": [
    "# Then convert to bytes -> ascii \n",
    "pt_bytes = pt.to_bytes(50, 'big') \n",
    "\n",
    "pt_bytes"
   ]
  },
  {
   "cell_type": "code",
   "execution_count": 1,
   "metadata": {},
   "outputs": [],
   "source": [
    "''' Manyprime '''\n",
    "\n",
    "n = 580642391898843192929563856870897799650883152718761762932292482252152591279871421569162037190419036435041797739880389529593674485555792234900969402019055601781662044515999210032698275981631376651117318677368742867687180140048715627160641771118040372573575479330830092989800730105573700557717146251860588802509310534792310748898504394966263819959963273509119791037525504422606634640173277598774814099540555569257179715908642917355365791447508751401889724095964924513196281345665480688029639999472649549163147599540142367575413885729653166517595719991872223011969856259344396899748662101941230745601719730556631637\n",
    "e = 65537\n",
    "ct = 320721490534624434149993723527322977960556510750628354856260732098109692581338409999983376131354918370047625150454728718467998870322344980985635149656977787964380651868131740312053755501594999166365821315043312308622388016666802478485476059625888033017198083472976011719998333985531756978678758897472845358167730221506573817798467100023754709109274265835201757369829744113233607359526441007577850111228850004361838028842815813724076511058179239339760639518034583306154826603816927757236549096339501503316601078891287408682099750164720032975016814187899399273719181407940397071512493967454225665490162619270814464\n",
    "\n",
    "# First we need to factor n. We'll have to use SageMath's ecm (elliptic curve factorization method)\n",
    "factors = [9282105380008121879, 9303850685953812323, 9389357739583927789, 10336650220878499841, 10638241655447339831, 11282698189561966721, 11328768673634243077, 11403460639036243901, 11473665579512371723, 11492065299277279799, 11530534813954192171, 11665347949879312361,\n",
    " 12132158321859677597,\n",
    " 12834461276877415051,\n",
    " 12955403765595949597,\n",
    " 12973972336777979701,\n",
    " 13099895578757581201,\n",
    " 13572286589428162097,\n",
    " 14100640260554622013,\n",
    " 14178869592193599187,\n",
    " 14278240802299816541,\n",
    " 14523070016044624039,\n",
    " 14963354250199553339,\n",
    " 15364597561881860737,\n",
    " 15669758663523555763,\n",
    " 15824122791679574573,\n",
    " 15998365463074268941,\n",
    " 16656402470578844539,\n",
    " 16898740504023346457,\n",
    " 17138336856793050757,\n",
    " 17174065872156629921,\n",
    " 17281246625998849649]"
   ]
  },
  {
   "cell_type": "code",
   "execution_count": 2,
   "metadata": {},
   "outputs": [
    {
     "data": {
      "text/plain": [
       "True"
      ]
     },
     "execution_count": 2,
     "metadata": {},
     "output_type": "execute_result"
    }
   ],
   "source": [
    "# Are the prime factors unique?\n",
    "len(factors) == len(set(factors))"
   ]
  },
  {
   "cell_type": "code",
   "execution_count": 3,
   "metadata": {},
   "outputs": [],
   "source": [
    "# Compute the euler totient function:\n",
    "euler = 1\n",
    "for factor in factors:\n",
    "    euler *= (factor - 1)"
   ]
  },
  {
   "cell_type": "code",
   "execution_count": 4,
   "metadata": {},
   "outputs": [],
   "source": [
    "# Now we calculate the inverse of e mod euler as usual:\n",
    "d = pow(e, -1, euler)\n",
    "\n",
    "m = pow(ct, d, n)"
   ]
  },
  {
   "cell_type": "code",
   "execution_count": 8,
   "metadata": {},
   "outputs": [
    {
     "data": {
      "text/plain": [
       "b'\\x00\\x00\\x00\\x00\\x00\\x00\\x00\\x00\\x00\\x00\\x00\\x00\\x00\\x00\\x00\\x00\\x00\\x00\\x00\\x00crypto{700_m4ny_5m4ll_f4c70r5}'"
      ]
     },
     "execution_count": 8,
     "metadata": {},
     "output_type": "execute_result"
    }
   ],
   "source": [
    "m.to_bytes(50, 'big')"
   ]
  },
  {
   "cell_type": "code",
   "execution_count": 11,
   "metadata": {},
   "outputs": [
    {
     "data": {
      "text/plain": [
       "b'\\x00\\x00\\x00\\x00\\x00\\x00\\x00\\x00\\x00\\x00\\x00\\x00\\x00\\x00\\x00\\x00\\x00\\x00crypto{saltstack_fell_for_this!}'"
      ]
     },
     "execution_count": 11,
     "metadata": {},
     "output_type": "execute_result"
    }
   ],
   "source": [
    "''' Salty '''\n",
    "\n",
    "c = 44981230718212183604274785925793145442655465025264554046028251311164494127485\n",
    "c_bytes = c.to_bytes(50, 'big')\n",
    "\n",
    "c_bytes"
   ]
  },
  {
   "cell_type": "code",
   "execution_count": 18,
   "metadata": {},
   "outputs": [
    {
     "name": "stdout",
     "output_type": "stream",
     "text": [
      "(mpz(624239975241694158443315202759206900318542905782320965248893), True)\n",
      "b'crypto{N33d_m04R_p4dd1ng}'\n"
     ]
    }
   ],
   "source": [
    "''' Modulus Inutilis '''\n",
    "\n",
    "n = 17258212916191948536348548470938004244269544560039009244721959293554822498047075403658429865201816363311805874117705688359853941515579440852166618074161313773416434156467811969628473425365608002907061241714688204565170146117869742910273064909154666642642308154422770994836108669814632309362483307560217924183202838588431342622551598499747369771295105890359290073146330677383341121242366368309126850094371525078749496850520075015636716490087482193603562501577348571256210991732071282478547626856068209192987351212490642903450263288650415552403935705444809043563866466823492258216747445926536608548665086042098252335883\n",
    "e = 3\n",
    "ct = 243251053617903760309941844835411292373350655973075480264001352919865180151222189820473358411037759381328642957324889519192337152355302808400638052620580409813222660643570085177957\n",
    "\n",
    "# The essential issue here is that m and e are small compared to n, so that m**e < n. Since ct = m**e = m**3 mod n, we only need to compute the real cube root of ct.\n",
    "# This can be done with gmpy2. \n",
    "import gmpy2 as gp \n",
    "\n",
    "print(gp.iroot(ct, 3))\n",
    "root = 624239975241694158443315202759206900318542905782320965248893\n",
    "print(root.to_bytes(25, 'big'))\n"
   ]
  },
  {
   "cell_type": "code",
   "execution_count": null,
   "metadata": {},
   "outputs": [],
   "source": []
  },
  {
   "cell_type": "code",
   "execution_count": 1,
   "metadata": {},
   "outputs": [],
   "source": [
    "''' Everything is big '''\n",
    "\n",
    "# There is an exploit when the private exponent d is relatively low. More specifically, if d < 1/3 N**1/4, then one can recover d by computing the continued fraction\n",
    "# expansion of e/N. \n",
    "\n",
    "N = 0xb8af3d3afb893a602de4afe2a29d7615075d1e570f8bad8ebbe9b5b9076594cf06b6e7b30905b6420e950043380ea746f0a14dae34469aa723e946e484a58bcd92d1039105871ffd63ffe64534b7d7f8d84b4a569723f7a833e6daf5e182d658655f739a4e37bd9f4a44aff6ca0255cda5313c3048f56eed5b21dc8d88bf5a8f8379eac83d8523e484fa6ae8dbcb239e65d3777829a6903d779cd2498b255fcf275e5f49471f35992435ee7cade98c8e82a8beb5ce1749349caa16759afc4e799edb12d299374d748a9e3c82e1cc983cdf9daec0a2739dadcc0982c1e7e492139cbff18c5d44529407edfd8e75743d2f51ce2b58573fea6fbd4fe25154b9964d\n",
    "e = 0x9ab58dbc8049b574c361573955f08ea69f97ecf37400f9626d8f5ac55ca087165ce5e1f459ef6fa5f158cc8e75cb400a7473e89dd38922ead221b33bc33d6d716fb0e4e127b0fc18a197daf856a7062b49fba7a86e3a138956af04f481b7a7d481994aeebc2672e500f3f6d8c581268c2cfad4845158f79c2ef28f242f4fa8f6e573b8723a752d96169c9d885ada59cdeb6dbe932de86a019a7e8fc8aeb07748cfb272bd36d94fe83351252187c2e0bc58bb7a0a0af154b63397e6c68af4314601e29b07caed301b6831cf34caa579eb42a8c8bf69898d04b495174b5d7de0f20cf2b8fc55ed35c6ad157d3e7009f16d6b61786ee40583850e67af13e9d25be3\n",
    "c = 0x3f984ff5244f1836ed69361f29905ca1ae6b3dcf249133c398d7762f5e277919174694293989144c9d25e940d2f66058b2289c75d1b8d0729f9a7c4564404a5fd4313675f85f31b47156068878e236c5635156b0fa21e24346c2041ae42423078577a1413f41375a4d49296ab17910ae214b45155c4570f95ca874ccae9fa80433a1ab453cbb28d780c2f1f4dc7071c93aff3924d76c5b4068a0371dff82531313f281a8acadaa2bd5078d3ddcefcb981f37ff9b8b14c7d9bf1accffe7857160982a2c7d9ee01d3e82265eec9c7401ecc7f02581fd0d912684f42d1b71df87a1ca51515aab4e58fab4da96e154ea6cdfb573a71d81b2ea4a080a1066e1bc3474\n",
    "\n"
   ]
  },
  {
   "cell_type": "code",
   "execution_count": 21,
   "metadata": {},
   "outputs": [],
   "source": [
    "import gmpy2 as gp\n",
    "\n",
    "# This replaces the fraction class of python \n",
    "frac = gp.mpq(e, N)"
   ]
  },
  {
   "cell_type": "code",
   "execution_count": 4,
   "metadata": {},
   "outputs": [
    {
     "data": {
      "text/plain": [
       "(0,\n",
       " 19530226410043970810725557003435543135763530881424210248055253789146116962119210614869432985570865118752985919383689598525891574886387777910656552352995376444381466131799115118821582068507614159079491660471660498703856657100219432169415694357051026653501587627161359216917068611699460388404704994020658035113867704564864520447628130219204036115956229378374533904177298511420691232986523029437427813718184752726121102827577815324799236044788791890210324092921530775467785171769947364981150722141109135873933436026419757925700203197178661307541794973688656649796675223608169318604829628635422095313615753614708538760163)"
      ]
     },
     "execution_count": 4,
     "metadata": {},
     "output_type": "execute_result"
    }
   ],
   "source": [
    "# We need to get the continued fraction expansion of e / N. \n",
    "\n",
    "import gmpy2\n",
    "import random\n",
    "import sys\n",
    "\n",
    "def DivmodRounded(a: int, b: int):\n",
    "\n",
    "  d = (b + 1) // 2\n",
    "  x, y = divmod(a + d, b)\n",
    "  return x, y  \n",
    "\n",
    "def ContinuedFraction(a: int, b: int):\n",
    "\n",
    "  res = []\n",
    "  r, s, t, u = 1, 0, 0, 1\n",
    "  # loop invariant: fraction = r*x + s / t*x + u\n",
    "  # where x is the remainder of the continued fraction\n",
    "  while b:\n",
    "    q, rem = divmod(a, b)\n",
    "    a, b = b, rem\n",
    "    r, s = r * q + s, r\n",
    "    t, u = t * q + u, t\n",
    "    res.append((q, r, t))\n",
    "  return res\n",
    "\n",
    "divmod(int(e), int(N))"
   ]
  },
  {
   "cell_type": "code",
   "execution_count": 8,
   "metadata": {},
   "outputs": [
    {
     "data": {
      "text/plain": [
       "916"
      ]
     },
     "execution_count": 8,
     "metadata": {},
     "output_type": "execute_result"
    }
   ],
   "source": [
    "cf = ContinuedFraction(int(e), int(N))\n",
    "len(cf)"
   ]
  },
  {
   "cell_type": "code",
   "execution_count": null,
   "metadata": {},
   "outputs": [],
   "source": []
  }
 ],
 "metadata": {
  "kernelspec": {
   "display_name": "Python 3",
   "language": "python",
   "name": "python3"
  },
  "language_info": {
   "codemirror_mode": {
    "name": "ipython",
    "version": 3
   },
   "file_extension": ".py",
   "mimetype": "text/x-python",
   "name": "python",
   "nbconvert_exporter": "python",
   "pygments_lexer": "ipython3",
   "version": "3.10.11"
  },
  "orig_nbformat": 4
 },
 "nbformat": 4,
 "nbformat_minor": 2
}
