{
 "cells": [
  {
   "cell_type": "code",
   "execution_count": 1,
   "metadata": {},
   "outputs": [],
   "source": [
    "''' Point Addition '''\n",
    "\n",
    "# Algorithm for the addition operation on an elliptic curve of the form y^2 = ax^3 + bx + c. Note that only a determines the addition formulas.\n",
    "# We require that 4a^3 + 27b^2 != 0. We'll assume a=1 and b=0 by default. \n",
    "\n",
    "def ecadd(P, Q, a=1, p=9739): \n",
    "    if P == 'O':\n",
    "        return Q\n",
    "    if Q == 'O':\n",
    "        return P\n",
    "    \n",
    "    x1, y1, x2, y2 = P[0], P[1], Q[0], Q[1]\n",
    "\n",
    "    if x1 == x2 and y1 == -y2:\n",
    "        return 'O'\n",
    "    \n",
    "    if P != Q:\n",
    "        lam = (y2 - y1) * pow(x2 - x1, -1, p) % p\n",
    "    else:\n",
    "        lam = (3*x1**2 + a) * pow(2*y1, -1, p) % p\n",
    "\n",
    "    x3 = (lam**2 - x1 - x2) % p\n",
    "    y3 = (lam * (x1 - x3) - y1) % p\n",
    "\n",
    "    return x3, y3 \n",
    "    "
   ]
  },
  {
   "cell_type": "code",
   "execution_count": 18,
   "metadata": {},
   "outputs": [
    {
     "name": "stdout",
     "output_type": "stream",
     "text": [
      "(1024, 4440)\n",
      "(7284, 2107)\n"
     ]
    }
   ],
   "source": [
    "X = (5274, 2841)\n",
    "Y = (8669, 740)\n",
    "a = 497 \n",
    "\n",
    "print(ecadd(X, Y, a))\n",
    "print(ecadd(X, X, a))"
   ]
  },
  {
   "cell_type": "code",
   "execution_count": 44,
   "metadata": {},
   "outputs": [
    {
     "data": {
      "text/plain": [
       "(4215, 2162)"
      ]
     },
     "execution_count": 44,
     "metadata": {},
     "output_type": "execute_result"
    }
   ],
   "source": [
    "P = (493, 5564)\n",
    "Q = (1539, 4742)\n",
    "R = (4403,5202)\n",
    "\n",
    "# Flag\n",
    "(x, y) = ecadd(ecadd(ecadd(P , P, a), Q, a), R, a) # P + P + Q + R\n",
    "x, y"
   ]
  },
  {
   "cell_type": "code",
   "execution_count": 9,
   "metadata": {},
   "outputs": [],
   "source": [
    "''' Scalar Multiplication '''\n",
    "\n",
    "def scalar(P, a=1, n=1):\n",
    "    Q, R = P, 'O'\n",
    "\n",
    "    while n > 0:\n",
    "        if n % 2 == 1:\n",
    "            R = ecadd(R, Q, a)\n",
    "        Q = ecadd(Q, Q, a)\n",
    "        n = n // 2 # if n is odd this is (n-1)/2 \n",
    "    \n",
    "    return R"
   ]
  },
  {
   "cell_type": "code",
   "execution_count": 13,
   "metadata": {},
   "outputs": [
    {
     "name": "stdout",
     "output_type": "stream",
     "text": [
      "(5323, 5438)\n",
      "(1512, 8728)\n",
      "(1089, 6931)\n",
      "(9467, 2742)\n"
     ]
    }
   ],
   "source": [
    "# Test cases\n",
    "X = (5323, 5438)\n",
    "P = (2339, 2213)\n",
    "print(scalar(X, 497))\n",
    "print(scalar(X, 497, 2))\n",
    "print(scalar(X, 497, 1337)) # This checks out. \n",
    "print(scalar(P, 497, 7863))"
   ]
  },
  {
   "cell_type": "code",
   "execution_count": 21,
   "metadata": {},
   "outputs": [
    {
     "name": "stdout",
     "output_type": "stream",
     "text": [
      "(7929, 707)\n"
     ]
    },
    {
     "data": {
      "text/plain": [
       "b'\\x00\\x00\\x00\\x00\\x00~\\x80\\xe9\\xd5|\\xa4\\xae\\xd6\\x8e%\\x99\\xb3\\x7f\\xef\\x81\\x8d\\xc4\\xda\\xb5\\x02'"
      ]
     },
     "execution_count": 21,
     "metadata": {},
     "output_type": "execute_result"
    }
   ],
   "source": [
    "''' Curves and Logs '''\n",
    "\n",
    "Qa = (815, 3190) # a point on the curve E(F_p) where E is defined by y^2 = x^3 + 497x + 1768, p = 9739 and G = (1804,5368) (not secure!!). \n",
    "nB = 1829\n",
    "\n",
    "shared_secret = scalar(Qa, 497, nB)\n",
    "print(shared_secret)\n",
    "\n",
    "# Now we want to take the SHA1 of the x coordinate of the shared_secret, namely x = 7929. \n",
    "x = 7929 \n",
    "\n",
    "# SHA1 hash, from website: \n",
    "hash = 0x7e80e9d57ca4aed68e2599b37fef818dc4dab502\n",
    "int(hash).to_bytes(25, 'big')"
   ]
  },
  {
   "cell_type": "code",
   "execution_count": 35,
   "metadata": {},
   "outputs": [
    {
     "name": "stdout",
     "output_type": "stream",
     "text": [
      "Possible keys: ((1791, 2181), (1791, 7558))\n"
     ]
    }
   ],
   "source": [
    "''' Efficient exchange '''\n",
    "\n",
    "# So we get Alice's x coordinate for the secret key. We can calculate the y from y^2 = x^3 + 497x + 1768, mod p = 9739 (congruent to 3 mod 4). \n",
    "# Basically just calculate the right hand side (mod p) and then take the square root mod p, which is just result**(p-1)/4. \n",
    "p = 9739\n",
    "x = 4726\n",
    "nB = 6534 \n",
    "\n",
    "result = (pow(x, 3, p) + 497*x + 1768) % p\n",
    "y = pow(result, (p+1)//4, p) \n",
    "y2 = p - y # the other root \n",
    "\n",
    "# Now that we have Qa = (x, y) we calculate nB * Qa\n",
    "Q = (x, y) \n",
    "Q2 = (x, y2)\n",
    "\n",
    "## Possible keys. \n",
    "key = scalar(Q, 497, nB)\n",
    "key2 = scalar(Q2, 497, nB) \n",
    "print(f'Possible keys: {key, key2}') # then we use this to decrypt the flag in the next code block. \n",
    "\n",
    "info = {'iv': 'cd9da9f1c60925922377ea952afc212c', 'encrypted_flag': 'febcbe3a3414a730b125931dccf912d2239f3e969c4334d95ed0ec86f6449ad8'}"
   ]
  },
  {
   "cell_type": "code",
   "execution_count": 37,
   "metadata": {},
   "outputs": [
    {
     "name": "stdout",
     "output_type": "stream",
     "text": [
      "crypto{3ff1c1ent_k3y_3xch4ng3}\n"
     ]
    }
   ],
   "source": [
    "from Crypto.Cipher import AES\n",
    "from Crypto.Util.Padding import pad, unpad\n",
    "import hashlib\n",
    "\n",
    "\n",
    "def is_pkcs7_padded(message):\n",
    "    padding = message[-message[-1]:]\n",
    "    return all(padding[i] == len(padding) for i in range(0, len(padding)))\n",
    "\n",
    "\n",
    "def decrypt_flag(shared_secret: int, iv: str, ciphertext: str):\n",
    "    # Derive AES key from shared secret\n",
    "    sha1 = hashlib.sha1()\n",
    "    sha1.update(str(shared_secret).encode('ascii'))\n",
    "    key = sha1.digest()[:16]\n",
    "    # Decrypt flag\n",
    "    ciphertext = bytes.fromhex(ciphertext)\n",
    "    iv = bytes.fromhex(iv)\n",
    "    cipher = AES.new(key, AES.MODE_CBC, iv)\n",
    "    plaintext = cipher.decrypt(ciphertext)\n",
    "\n",
    "    if is_pkcs7_padded(plaintext):\n",
    "        return unpad(plaintext, 16).decode('ascii')\n",
    "    else:\n",
    "        return plaintext.decode('ascii')\n",
    "\n",
    "\n",
    "shared_secret = 1791 # from the previous block \n",
    "iv = 'cd9da9f1c60925922377ea952afc212c'\n",
    "ciphertext = 'febcbe3a3414a730b125931dccf912d2239f3e969c4334d95ed0ec86f6449ad8'\n",
    "\n",
    "print(decrypt_flag(shared_secret, iv, ciphertext))"
   ]
  },
  {
   "cell_type": "code",
   "execution_count": null,
   "metadata": {},
   "outputs": [],
   "source": []
  }
 ],
 "metadata": {
  "kernelspec": {
   "display_name": "Python 3",
   "language": "python",
   "name": "python3"
  },
  "language_info": {
   "codemirror_mode": {
    "name": "ipython",
    "version": 3
   },
   "file_extension": ".py",
   "mimetype": "text/x-python",
   "name": "python",
   "nbconvert_exporter": "python",
   "pygments_lexer": "ipython3",
   "version": "3.10.11"
  },
  "orig_nbformat": 4
 },
 "nbformat": 4,
 "nbformat_minor": 2
}
