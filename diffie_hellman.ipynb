{
 "cells": [
  {
   "cell_type": "code",
   "execution_count": 17,
   "metadata": {},
   "outputs": [
    {
     "name": "stdout",
     "output_type": "stream",
     "text": [
      "1\n"
     ]
    }
   ],
   "source": [
    "''' DH starter 2 '''\n",
    "import Crypto.Util.number as cu\n",
    "\n",
    "# Returns the gcd, and coefficients of ua+vb = 1. \n",
    "def gcd(a, b):\n",
    "    if b == 0:\n",
    "        return a\n",
    "    return gcd(b, a % b) \n",
    "\n",
    "# The number of primitive elements of F_p is phi(p-1). So we look for an integer relatively prime to p-1. \n",
    "p = 28151\n",
    "\n",
    "print(cu.isPrime(p)) # first make sure that p is actually prime \n",
    "\n",
    "powers = [2, 5, 5**2, 563] # prime power factorization of p-1. "
   ]
  },
  {
   "cell_type": "code",
   "execution_count": 14,
   "metadata": {},
   "outputs": [],
   "source": [
    "# Try all factors?\n",
    "def order(g, p):\n",
    "    output = 1\n",
    "    while True:\n",
    "        output += 1\n",
    "        if g ** output % p == 1:\n",
    "            return output"
   ]
  },
  {
   "cell_type": "code",
   "execution_count": 27,
   "metadata": {},
   "outputs": [
    {
     "data": {
      "text/plain": [
       "[2, 14075, 14075, 14075, 14075, 14075, 28150, 14075, 14075]"
      ]
     },
     "execution_count": 27,
     "metadata": {},
     "output_type": "execute_result"
    }
   ],
   "source": [
    "# what are the orders of the first few elemenets of F_p*? Looks like it's 7. \n",
    "[order(x, p) for x in range(1, 10)]"
   ]
  },
  {
   "cell_type": "code",
   "execution_count": 28,
   "metadata": {},
   "outputs": [
    {
     "data": {
      "text/plain": [
       "1806857697840726523322586721820911358489420128129248078673933653533930681676181753849411715714173604352323556558783759252661061186320274214883104886050164368129191719707402291577330485499513522368289395359523901406138025022522412429238971591272160519144672389532393673832265070057319485399793101182682177465364396277424717543434017666343807276970864475830391776403957550678362368319776566025118492062196941451265638054400177248572271342548616103967411990437357924"
      ]
     },
     "execution_count": 28,
     "metadata": {},
     "output_type": "execute_result"
    }
   ],
   "source": [
    "''' DH Starter 3 '''\n",
    "g = 2\n",
    "p = 2410312426921032588552076022197566074856950548502459942654116941958108831682612228890093858261341614673227141477904012196503648957050582631942730706805009223062734745341073406696246014589361659774041027169249453200378729434170325843778659198143763193776859869524088940195577346119843545301547043747207749969763750084308926339295559968882457872412993810129130294592999947926365264059284647209730384947211681434464714438488520940127459844288859336526896320919633919\n",
    "a = 972107443837033796245864316200458246846904598488981605856765890478853088246897345487328491037710219222038930943365848626194109830309179393018216763327572120124760140018038673999837643377590434413866611132403979547150659053897355593394492586978400044375465657296027592948349589216415363722668361328689588996541370097559090335137676411595949335857341797148926151694299575970292809805314431447043469447485957669949989090202320234337890323293401862304986599884732815\n",
    "\n",
    "pow(g, a, p)"
   ]
  },
  {
   "cell_type": "code",
   "execution_count": 29,
   "metadata": {},
   "outputs": [
    {
     "data": {
      "text/plain": [
       "1174130740413820656533832746034841985877302086316388380165984436672307692443711310285014138545204369495478725102882673427892104539120952393788961051992901649694063179853598311473820341215879965343136351436410522850717408445802043003164658348006577408558693502220285700893404674592567626297571222027902631157072143330043118418467094237965591198440803970726604537807146703763571606861448354607502654664700390453794493176794678917352634029713320615865940720837909466"
      ]
     },
     "execution_count": 29,
     "metadata": {},
     "output_type": "execute_result"
    }
   ],
   "source": [
    "''' DH Starter 4 '''\n",
    "\n",
    "A = 70249943217595468278554541264975482909289174351516133994495821400710625291840101960595720462672604202133493023241393916394629829526272643847352371534839862030410331485087487331809285533195024369287293217083414424096866925845838641840923193480821332056735592483730921055532222505605661664236182285229504265881752580410194731633895345823963910901731715743835775619780738974844840425579683385344491015955892106904647602049559477279345982530488299847663103078045601\n",
    "b = 12019233252903990344598522535774963020395770409445296724034378433497976840167805970589960962221948290951873387728102115996831454482299243226839490999713763440412177965861508773420532266484619126710566414914227560103715336696193210379850575047730388378348266180934946139100479831339835896583443691529372703954589071507717917136906770122077739814262298488662138085608736103418601750861698417340264213867753834679359191427098195887112064503104510489610448294420720\n",
    "\n",
    "pow(A, b, p)"
   ]
  },
  {
   "cell_type": "code",
   "execution_count": 1,
   "metadata": {},
   "outputs": [],
   "source": [
    "''' DH Starter 5 '''\n",
    "\n",
    "p = 2410312426921032588552076022197566074856950548502459942654116941958108831682612228890093858261341614673227141477904012196503648957050582631942730706805009223062734745341073406696246014589361659774041027169249453200378729434170325843778659198143763193776859869524088940195577346119843545301547043747207749969763750084308926339295559968882457872412993810129130294592999947926365264059284647209730384947211681434464714438488520940127459844288859336526896320919633919\n",
    "\n",
    "\n",
    "# The decrypt function provided in the exercise. Alice and Bob's shared secret is the key used for AES encryption. \n",
    "from Crypto.Cipher import AES\n",
    "from Crypto.Util.Padding import pad, unpad\n",
    "import hashlib\n",
    "\n",
    "\n",
    "def is_pkcs7_padded(message):\n",
    "    padding = message[-message[-1]:]\n",
    "    return all(padding[i] == len(padding) for i in range(0, len(padding)))\n",
    "\n",
    "\n",
    "def decrypt_flag(shared_secret: int, iv: str, ciphertext: str):\n",
    "    # Derive AES key from shared secret\n",
    "    sha1 = hashlib.sha1()\n",
    "    sha1.update(str(shared_secret).encode('ascii'))\n",
    "    key = sha1.digest()[:16]\n",
    "    # Decrypt flag\n",
    "    ciphertext = bytes.fromhex(ciphertext)\n",
    "    iv = bytes.fromhex(iv)\n",
    "    cipher = AES.new(key, AES.MODE_CBC, iv)\n",
    "    plaintext = cipher.decrypt(ciphertext)\n",
    "\n",
    "    if is_pkcs7_padded(plaintext):\n",
    "        return unpad(plaintext, 16).decode('ascii')\n",
    "    else:\n",
    "        return plaintext.decode('ascii')\n",
    "\n",
    "\n",
    "# shared_secret = secret_key\n",
    "iv = '737561146ff8194f45290f5766ed6aba'\n",
    "ciphertext = '39c99bf2f0c14678d6a5416faef954b5893c316fc3c48622ba1fd6a9fe85f3dc72a29c394cf4bc8aff6a7b21cae8e12c'\n",
    "\n",
    "# print(decrypt_flag(shared_secret, iv, ciphertext))"
   ]
  },
  {
   "cell_type": "code",
   "execution_count": 2,
   "metadata": {},
   "outputs": [],
   "source": [
    "# We compute the shared secret here. \n",
    "\n",
    "A = 112218739139542908880564359534373424013016249772931962692237907571990334483528877513809272625610512061159061737608547288558662879685086684299624481742865016924065000555267977830144740364467977206555914781236397216033805882207640219686011643468275165718132888489024688846101943642459655423609111976363316080620471928236879737944217503462265615774774318986375878440978819238346077908864116156831874695817477772477121232820827728424890845769152726027520772901423784\n",
    "b = 197395083814907028991785772714920885908249341925650951555219049411298436217190605190824934787336279228785809783531814507661385111220639329358048196339626065676869119737979175531770768861808581110311903548567424039264485661330995221907803300824165469977099494284722831845653985392791480264712091293580274947132480402319812110462641143884577706335859190668240694680261160210609506891842793868297672619625924001403035676872189455767944077542198064499486164431451944\n",
    "\n",
    "secret_key = pow(A, b, p) "
   ]
  },
  {
   "cell_type": "code",
   "execution_count": 3,
   "metadata": {},
   "outputs": [
    {
     "name": "stdout",
     "output_type": "stream",
     "text": [
      "crypto{sh4r1ng_s3cret5_w1th_fr13nd5}\n"
     ]
    }
   ],
   "source": [
    "shared_secret = secret_key\n",
    "iv = '737561146ff8194f45290f5766ed6aba'\n",
    "ciphertext = '39c99bf2f0c14678d6a5416faef954b5893c316fc3c48622ba1fd6a9fe85f3dc72a29c394cf4bc8aff6a7b21cae8e12c'\n",
    "\n",
    "print(decrypt_flag(shared_secret, iv, ciphertext))"
   ]
  },
  {
   "cell_type": "code",
   "execution_count": 32,
   "metadata": {},
   "outputs": [
    {
     "data": {
      "text/plain": [
       "'crypto{n1c3_0n3_m4ll0ry!!!!!!!!}'"
      ]
     },
     "execution_count": 32,
     "metadata": {},
     "output_type": "execute_result"
    }
   ],
   "source": [
    "''' Parameter Injection '''\n",
    "# For this one we basically listen in to Alice and Bob's key exchange. We just tell Alice that Bob's B = 1, which makes the key = 1. \n",
    "decrypt_flag(1, \"59a2c771b4bb7281530bd8125620309a\", \"db47f1ffe707bd74d48eb63552000ed3a379fea28ab9c751d70a6e0efe9282de\")"
   ]
  },
  {
   "cell_type": "code",
   "execution_count": 38,
   "metadata": {},
   "outputs": [
    {
     "name": "stdout",
     "output_type": "stream",
     "text": [
      "p = 16007670376277647657, A = 2039653202242229292, B = 4654022325837320464\n"
     ]
    }
   ],
   "source": [
    "''' Export-grade '''\n",
    "\n",
    "# We got Alice and Bob to agree to DH64. I've intercepted the following: \n",
    "\n",
    "# Intercepted from Alice: {\"p\": \"0xde26ab651b92a129\", \"g\": \"0x2\", \"A\": \"0x1c4e4dc7e8a2d42c\"}\n",
    "# Intercepted from Bob: {\"B\": \"0x409668a5b4455110\"}\n",
    "# Intercepted from Alice: {\"iv\": \"27681f41d006199253aa3e38806a25c5\", \"encrypted_flag\": \"c67dfd7e5112fec1895b0e2f5f9ef4740b9f71b67414f918298b0796529081dd\"}\n",
    "\n",
    "print(f'p = {int(0xde26ab651b92a129)}, ' + f'A = {int(0x1c4e4dc7e8a2d42c)}, ' + f'B = {int(0x409668a5b4455110)}')"
   ]
  },
  {
   "cell_type": "code",
   "execution_count": 10,
   "metadata": {},
   "outputs": [],
   "source": [
    "# From sage we obtain the following discrete logs (DH64 is insecure!!!): \n",
    "p = 16007670376277647657\n",
    "A = 2039653202242229292 \n",
    "B = 4654022325837320464\n",
    "\n",
    "x = 5978351566575204091 # log_g(A)\n",
    "y = 4274805858060135238 # log_g(B) \n",
    "\n",
    "# The shared secret is either A^y = B^x mod p"
   ]
  },
  {
   "cell_type": "code",
   "execution_count": 13,
   "metadata": {},
   "outputs": [
    {
     "data": {
      "text/plain": [
       "True"
      ]
     },
     "execution_count": 13,
     "metadata": {},
     "output_type": "execute_result"
    }
   ],
   "source": [
    "pow(A, y, p) == pow(B, x, p) # check"
   ]
  },
  {
   "cell_type": "code",
   "execution_count": 17,
   "metadata": {},
   "outputs": [
    {
     "name": "stdout",
     "output_type": "stream",
     "text": [
      "9173719319328699089\n"
     ]
    },
    {
     "data": {
      "text/plain": [
       "'crypto{d0wn6r4d35_4r3_d4n63r0u5}'"
      ]
     },
     "execution_count": 17,
     "metadata": {},
     "output_type": "execute_result"
    }
   ],
   "source": [
    "key = pow(A, y, p) # this is the key for decryption. Now use the iv and encrypted_flag given. \n",
    "print(key)\n",
    "\n",
    "iv = '27681f41d006199253aa3e38806a25c5'\n",
    "encrypted_flag = 'c67dfd7e5112fec1895b0e2f5f9ef4740b9f71b67414f918298b0796529081dd'\n",
    "\n",
    "decrypt_flag(key, iv, encrypted_flag)"
   ]
  },
  {
   "cell_type": "code",
   "execution_count": null,
   "metadata": {},
   "outputs": [],
   "source": []
  }
 ],
 "metadata": {
  "kernelspec": {
   "display_name": "Python 3",
   "language": "python",
   "name": "python3"
  },
  "language_info": {
   "codemirror_mode": {
    "name": "ipython",
    "version": 3
   },
   "file_extension": ".py",
   "mimetype": "text/x-python",
   "name": "python",
   "nbconvert_exporter": "python",
   "pygments_lexer": "ipython3",
   "version": "3.10.11"
  },
  "orig_nbformat": 4
 },
 "nbformat": 4,
 "nbformat_minor": 2
}
